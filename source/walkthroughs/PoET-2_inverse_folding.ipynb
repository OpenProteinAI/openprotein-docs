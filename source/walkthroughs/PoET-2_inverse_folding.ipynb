{
 "cells": [
  {
   "cell_type": "markdown",
   "metadata": {},
   "source": [
    "# Inverse Folding with PoET-2 for Generation of Novel Luciferases\n",
    "\n",
    "In this tutorial, we'll use PoET-2 to perform inverse folding - the task of designing novel protein sequences that adopt a desired three-dimensional structure.\n",
    "\n",
    "**Objective** We'll use PoET-2 to generate novel small luciferases that:\n",
    "\n",
    "- Fold into the same structure as the small luciferase from deep-sea shrimp *Oplophorus gracilirostris* (UniProt ID: LUCI_OPLGR). This constrains the *entire structure* of the proteins we generate.\n",
    "- Preserve the amino acid identity of critical residues in the active site to maintain catalytic activity. This constrains *part of the sequence* of the proteins we generate.\n",
    "- Have low sequence identity to known proteins, ensuring novelty.\n",
    "\n",
    "**Why Luciferases?**\n",
    "Luciferases catalyze bioluminescent reactions. These enzymes are invaluable in biotechnology applications including:\n",
    "\n",
    "- Reporter gene assays\n",
    "- In vivo imaging\n",
    "- ATP detection\n",
    "- Cell viability tests\n",
    "- Protein interaction studies\n",
    "\n",
    "Small luciferases are particularly of interest, because they are less likely to interfere with the subject being studied. However, the design of novel small luciferases is challenging because natural small luciferases have few or no known sequence homologs. Due to the lack of sequence homologs, we'll condition PoET-2 on *structural* homologs. PoET-2's in-context learning capabilities allow it to learn from these structural homologs to improve design success rates despite their low sequence identity to the target protein."
   ]
  },
  {
   "cell_type": "markdown",
   "metadata": {},
   "source": [
    "## Prerequisites\n",
    "\n",
    "1. Download the necessary data\n",
    "\n",
    "    1. Create the directory `data` in the working directory of this notebook, if it doesn't already exist.\n",
    "    1. Download the file [PoET-2_inverse_folding_small_luc_example.zip](https://drive.google.com/file/d/1Fva12dY8_Mz-tiAJH5M5fAucE07eXfkz/view?usp=sharing). This file contains the sequences and structures used to create the prompt for PoET-2.\n",
    "    1. Unzip the file in the `data` directory. You should end up with a new directory, `data/PoET-2_inverse_folding_small_luc_example`, located in the working directory of this notebook.\n",
    "\n",
    "1. Install the necessary Python packages, including\n",
    "\n",
    "    - `openprotein-python>=0.7.0`\n",
    "    - `numpy`\n",
    "    - `pandas`\n",
    "    - `scipy`\n",
    "    - `matplotlib`\n",
    "    - `seaborn`"
   ]
  },
  {
   "cell_type": "code",
   "execution_count": 1,
   "metadata": {},
   "outputs": [],
   "source": [
    "import json\n",
    "from pathlib import Path\n",
    "\n",
    "import numpy as np\n",
    "import pandas as pd\n",
    "\n",
    "import matplotlib.pyplot as plt\n",
    "import seaborn as sns\n",
    "\n",
    "import gemmi\n",
    "\n",
    "import openprotein\n",
    "import openprotein.fasta as fasta\n",
    "from openprotein.protein import Protein\n",
    "\n",
    "DATA_DIR = Path(\"data/PoET-2_inverse_folding_small_luc_example\")"
   ]
  },
  {
   "cell_type": "markdown",
   "metadata": {},
   "source": [
    "## Define the prompt for PoET-2\n",
    "\n",
    "To instruct PoET-2 to perform inverse folding, we need to construct a prompt that specifies the task. A prompt consists of two components:\n",
    "\n",
    "- **Query**: A single, partially specified protein that defines explicit sequence and/or structure constraints for the target design. PoET-2 will complete the unspecified residues in the query sequence while preserving any provided constraints.\n",
    "- **Context**: A set of proteins related to the target, which implicitly defines the relevant fitness landscape. In our case, since we're interested in generating sequences with structure similar to LUCI_OPLGR, the context will consist of its structural homologs."
   ]
  },
  {
   "cell_type": "markdown",
   "metadata": {},
   "source": [
    "### Define the query in Python\n",
    "\n",
    "To specify the query, we'll use the `Protein` class, which represents a protein with both sequence and structure information. The `Protein` class is constructed from four main fields:\n",
    "\n",
    "- `sequence`: the sequence of the protein\n",
    "- `coordinates`: an array containing the 3D coordinates of the heavy atoms of the protein in atom37 format. It has shape `(L, 37, 3)`, where `L` is the length of the protein, `37` is the number of heavy atoms, and `3` is the number of coordinates (x, y, and z).\n",
    "- `plddt`: an array of shape `(L,)`. For predicted structures, this contains the pLDDT of each residue, which is a measure of prediction confidence. For experimental structures, this should be set to `100` if the coordinates of the alpha carbon are known, and `NaN` otherwise.\n",
    "- `name`: (optional) the name of the protein\n",
    "\n",
    "We can easily create `Protein` objects from structure files using the helper function `Protein.from_filepath`. In this case, we'll use the file `8bo9.cif`, which contains the experimentally solved structure of NanoLuc<sup>CTZ</sup> (PDB ID: 8BO9), an optimized variant of LUCI_OPLGR with significantly higher luminescence when paired with the substrate CTZ."
   ]
  },
  {
   "cell_type": "code",
   "execution_count": 2,
   "metadata": {},
   "outputs": [],
   "source": [
    "structure_filepath = DATA_DIR / \"structures\" / \"8bo9.cif\"\n",
    "query_protein = Protein.from_filepath(path=structure_filepath, chain_id=\"A\")"
   ]
  },
  {
   "cell_type": "markdown",
   "metadata": {},
   "source": [
    "Let's inspect the fields of our `query_protein` object to verify that the structure file was parsed correctly:"
   ]
  },
  {
   "cell_type": "code",
   "execution_count": 3,
   "metadata": {},
   "outputs": [
    {
     "name": "stdout",
     "output_type": "stream",
     "text": [
      "sequence: b'MHHHHHHSDNMVFTLEDFVGRWRQTAGYNLDQVLEQGGVSSLFQNLGVSVTPIQRIVLSGENGLKIDIAVIIPYEGLSGDQMGQIEKIFKVVYPVDDHHFRVILHYGTLVIDGVTPNMIDYFGRPYEGIAVFDGKKITVTGTLWNGNKIIDERLINPDGSLLFRVTINGVTGWRLCERILA'\n",
      "coordinates shape: (181, 37, 3)\n",
      "plddt shape: (181,)\n",
      "name: 8bo9\n"
     ]
    }
   ],
   "source": [
    "print(\"sequence:\", query_protein.sequence)\n",
    "print(\"coordinates shape:\", query_protein.coordinates.shape)\n",
    "print(\"plddt shape:\", query_protein.plddt.shape)\n",
    "print(\"name:\", query_protein.name)"
   ]
  },
  {
   "cell_type": "markdown",
   "metadata": {},
   "source": [
    "We now have a `Protein` object representing the full sequence and structure of NanoLuc. Since our task is to redesign all the residues except the active site residues while preserving the overall protein structure, we'll mask out the sequence at all positions except the active site, while leaving the structure alone:"
   ]
  },
  {
   "cell_type": "code",
   "execution_count": 4,
   "metadata": {},
   "outputs": [],
   "source": [
    "# NB: active site positions are 1-indexed\n",
    "active_site_positions = np.array([30, 33, 34, 43, 52, 68, 70, 104, 106, 119, 121, 122, 126, 149, 151, 163, 165, 174])  # fmt: skip\n",
    "# mask the sequence at all residues except at active site positons\n",
    "query_protein = query_protein.mask_sequence_except_at(active_site_positions)"
   ]
  },
  {
   "cell_type": "markdown",
   "metadata": {},
   "source": [
    "Inspecting the new query sequence, we see that masked residues are represented by the character `X`."
   ]
  },
  {
   "cell_type": "code",
   "execution_count": 5,
   "metadata": {},
   "outputs": [
    {
     "name": "stdout",
     "output_type": "stream",
     "text": [
      "sequence: b'XXXXXXXXXXXXXXXXXXXXXXXXXXXXXLXXVLXXXXXXXXFXXXXXXXXPXXXXXXXXXXXXXXXIXVXXXXXXXXXXXXXXXXXXXXXXXXXXXXXXXXXLXYXXXXXXXXXXXXIXYFXXXYXXXXXXXXXXXXXXXXXXXXXXIXDXXXXXXXXXXXFXVXXXXXXXXRXXXXXXX'\n"
     ]
    }
   ],
   "source": [
    "print(\"sequence:\", query_protein.sequence)"
   ]
  },
  {
   "cell_type": "markdown",
   "metadata": {},
   "source": [
    "Lastly, observe that the original, unmasked sequence has an \"SDN\" his-tag linker at the N-terminus; we don't need the model to generate this, so we remove it:"
   ]
  },
  {
   "cell_type": "code",
   "execution_count": 6,
   "metadata": {},
   "outputs": [
    {
     "name": "stdout",
     "output_type": "stream",
     "text": [
      "sequence: b'XXXXXXXXXXXXXXXXXXXLXXVLXXXXXXXXFXXXXXXXXPXXXXXXXXXXXXXXXIXVXXXXXXXXXXXXXXXXXXXXXXXXXXXXXXXXXLXYXXXXXXXXXXXXIXYFXXXYXXXXXXXXXXXXXXXXXXXXXXIXDXXXXXXXXXXXFXVXXXXXXXXRXXXXXXX'\n",
      "length: 171\n"
     ]
    }
   ],
   "source": [
    "sdn_linker = b\"MHHHHHHSDN\"\n",
    "query_protein = query_protein[len(sdn_linker):]\n",
    "active_site_positions = active_site_positions - len(sdn_linker)\n",
    "print(\"sequence:\", query_protein.sequence)\n",
    "print(\"length:\", len(query_protein))"
   ]
  },
  {
   "cell_type": "markdown",
   "metadata": {},
   "source": [
    "We have now created a query that defines the sequence and structure constraints on the protein we want to generate!"
   ]
  },
  {
   "cell_type": "markdown",
   "metadata": {},
   "source": [
    "### Define the context in Python\n",
    "\n",
    "Next, we create a context consisting of structural homologs of LUCI_OPLGR/NanoLuc, identified using [Foldseek](https://www.nature.com/articles/s41587-023-01773-0).\n",
    "\n",
    "In this section, we demonstrate how to create a context from structure files and FASTA files containing the structures and sequences of the homologs. Below is a high-level overview of how these files were generated; code examples are provided in the Appendix of this notebook:\n",
    "\n",
    "1. **Search for structural homologs**: Use Foldseek to search for structural homologs in two structure databases -  PDB and AlphaFoldDB (AFDB).\n",
    "1. **Sample a diverse subset** from each database:\n",
    "\n",
    "    1. Filter out sequences with high identity to LUCI_OPLGR/NanoLuc to encourage novelty.\n",
    "    1. Create a multiple sequence alignment (MSA) of the remaining sequences.\n",
    "    1. Compute pairwise sequence identities using the MSA.\n",
    "    1. Perform hierarchical clustering using pairwise identity as the distance metric.\n",
    "    1. Select a desired number of clusters and extract the cluster centroids as representative sequences.\n",
    "\n",
    "1. **Combine results**: Merge the selected sequences and structures from both PDB and AFDB to form the final context.\n",
    "\n",
    "The resulting context includes structural homologs from both PDB and AFDB. The PDB portion is composed of Protein objects instantiated directly from PDB structure files:"
   ]
  },
  {
   "cell_type": "code",
   "execution_count": 7,
   "metadata": {},
   "outputs": [
    {
     "name": "stdout",
     "output_type": "stream",
     "text": [
      "Number of homologs from PDB: 100\n",
      "Total length of proteins from PDB: 20174\n"
     ]
    }
   ],
   "source": [
    "pdb_context_proteins: list[Protein] = []\n",
    "# 1. The file `DATA_DIR / \"context_pdb_chains.csv\"` contains a list of PDB chains that are\n",
    "#    structural homologs of LUCI_OPLGR/NanoLuc.\n",
    "context_pdb_chains_df = pd.read_csv(DATA_DIR / \"context_pdb_chains.csv\")\n",
    "# 2. The structure files of these PDB chains are already downloaded under `DATA_DIR / structures`.\n",
    "#    We create Protein objects from these structure files, remove His tags, and add them to\n",
    "#    pdb_context_proteins.\n",
    "for pdb_id, chain_id in context_pdb_chains_df.itertuples(index=False):\n",
    "    # create Protein object from structure file\n",
    "    protein = Protein.from_filepath(\n",
    "        DATA_DIR / \"structures\" / f\"{pdb_id}.cif\", chain_id=chain_id, verbose=False\n",
    "    )\n",
    "    # remove His tags from the protein\n",
    "    his_tag = b\"H\" * 6\n",
    "    while his_tag in protein.sequence:\n",
    "        i = protein.sequence.index(his_tag)\n",
    "        protein = protein[:i] + protein[i + len(his_tag) :]\n",
    "    # add the protein to the context\n",
    "    pdb_context_proteins.append(protein)\n",
    "print(\"Number of homologs from PDB:\", len(pdb_context_proteins))\n",
    "print(\"Total length of proteins from PDB:\", sum(len(p) for p in pdb_context_proteins))"
   ]
  },
  {
   "cell_type": "markdown",
   "metadata": {},
   "source": [
    "For the AFDB portion of the context, we include only the sequences of the structural homologs, and not their predicted structures. While predicted structures can certainly be used in the context, we found them to be unnecessary in this case. Since structural information of these proteins isn't required, these homologs could be added to the context as simple byte strings or plain strings rather than `Protein` objects. However, we'll make use of `Protein` objects anyways, as `Protein` objects allow us to associate sequences with names, and the names may be helpful for us to quickly identify what proteins are in the context in the future:"
   ]
  },
  {
   "cell_type": "code",
   "execution_count": 8,
   "metadata": {},
   "outputs": [
    {
     "name": "stdout",
     "output_type": "stream",
     "text": [
      "Number of homologs from AFDB: 300\n",
      "Total length of proteins from AFDB: 62007\n"
     ]
    }
   ],
   "source": [
    "afdb_context_proteins: list[Protein] = []\n",
    "# 1. The file `DATA_DIR / \"context_afdb_sequences.fasta\"` contains the sequences of the\n",
    "#    structural homologs of LUCI_OPLGR/NanoLuc found in AFDB\n",
    "afdb_fasta_filepath = Path(DATA_DIR / \"context_afdb_sequences.fasta\")\n",
    "# 2. We use the helper function `fasta.parse_stream` to parse the fasta file, and add\n",
    "#    the sequences to the context as Protein objects\n",
    "for name, sequence in fasta.parse_stream(afdb_fasta_filepath.open(\"rb\")):\n",
    "    afdb_context_proteins.append(Protein(sequence=sequence, name=name))\n",
    "print(\"Number of homologs from AFDB:\", len(afdb_context_proteins))\n",
    "print(\"Total length of proteins from AFDB:\", sum(len(p) for p in afdb_context_proteins))"
   ]
  },
  {
   "cell_type": "markdown",
   "metadata": {},
   "source": [
    "Finally, we merge the contexts from each database into a single list, creating the final context."
   ]
  },
  {
   "cell_type": "code",
   "execution_count": 9,
   "metadata": {},
   "outputs": [
    {
     "name": "stdout",
     "output_type": "stream",
     "text": [
      "Total homologs in context: 400\n",
      "Total length of proteins in context: 82181\n"
     ]
    }
   ],
   "source": [
    "context_proteins = pdb_context_proteins + afdb_context_proteins\n",
    "print(\"Total homologs in context:\", len(context_proteins))\n",
    "print(\"Total length of proteins in context:\", sum(len(p) for p in context_proteins))"
   ]
  },
  {
   "cell_type": "markdown",
   "metadata": {},
   "source": [
    "## Generate novel sequences via inverse folding with PoET-2\n",
    "\n",
    "Now that we have a prompt (query and context) describing the sequence generation task, we can use PoET-2 to generate some novel and functional sequences!"
   ]
  },
  {
   "cell_type": "markdown",
   "metadata": {},
   "source": [
    "### Connect to the OpenProtein.AI API"
   ]
  },
  {
   "cell_type": "code",
   "execution_count": 10,
   "metadata": {},
   "outputs": [],
   "source": [
    "def get_session():\n",
    "    with open(\"secrets.config\", \"r\") as f:\n",
    "        config = json.load(f)\n",
    "    return openprotein.connect(config[\"username\"], config[\"password\"])\n",
    "\n",
    "\n",
    "session = get_session()"
   ]
  },
  {
   "cell_type": "markdown",
   "metadata": {},
   "source": [
    "### Create the prompt on the OpenProtein.AI server\n",
    "\n",
    "The context and query are uploaded separately. First, we upload the context using the method `session.prompt.create_prompt`. For historical reasons, this method is called `create_prompt` rather than `create_context`."
   ]
  },
  {
   "cell_type": "code",
   "execution_count": 11,
   "metadata": {},
   "outputs": [
    {
     "data": {
      "text/plain": [
       "PromptMetadata(id='fea95f08-a14b-48d3-a760-d1883d83f0a6', name='PoET-2_inverse_folding_small_luc_example', description=None, created_date=datetime.datetime(2025, 5, 2, 2, 5, 54, 906266, tzinfo=TzInfo(UTC)), num_replicates=1, job_id=None, status=<JobStatus.SUCCESS: 'SUCCESS'>)"
      ]
     },
     "execution_count": 11,
     "metadata": {},
     "output_type": "execute_result"
    }
   ],
   "source": [
    "# replace the following with an existing context_id to reuse an existing context\n",
    "context_id: str | None = None\n",
    "if context_id is None:\n",
    "    context = session.prompt.create_prompt(\n",
    "        context=context_proteins, name=\"PoET-2_inverse_folding_small_luc_example\"\n",
    "    )\n",
    "else:\n",
    "    context = session.prompt.get_prompt(context_id)\n",
    "context"
   ]
  },
  {
   "cell_type": "code",
   "execution_count": 12,
   "metadata": {},
   "outputs": [
    {
     "data": {
      "text/plain": [
       "QueryMetadata(id='467aed56-15c5-48d9-97d1-86e6d2958a0f', created_date=datetime.datetime(2025, 5, 2, 2, 5, 56, 621544, tzinfo=TzInfo(UTC)))"
      ]
     },
     "execution_count": 12,
     "metadata": {},
     "output_type": "execute_result"
    }
   ],
   "source": [
    "# replace the following with an existing query_id to reuse an existing query\n",
    "query_id: str | None = None\n",
    "if query_id is None:\n",
    "    query = session.prompt.create_query(query=query_protein)\n",
    "else:\n",
    "    query = session.prompt.get_query(query_id)\n",
    "query"
   ]
  },
  {
   "cell_type": "markdown",
   "metadata": {},
   "source": [
    "### Generate with PoET-2 using the prompt\n",
    "\n",
    "Now let's use PoET-2 to generate some sequences! Here, we generate 100 sequences with a temperature of 0.3. Lower temperatures typically lead to sequences that better preserve structural constraints, though they may be less diverse. You may need to tune this parameter to achieve the desired diversity."
   ]
  },
  {
   "cell_type": "code",
   "execution_count": 13,
   "metadata": {},
   "outputs": [
    {
     "name": "stdout",
     "output_type": "stream",
     "text": [
      "num_records=200 job_id='d34d96b3-8793-42f0-9905-393c3c4063a6' job_type=<JobType.poet_generate: '/poet/generate'> status=<JobStatus.PENDING: 'PENDING'> created_date=datetime.datetime(2025, 5, 2, 2, 5, 57, 576760, tzinfo=TzInfo(UTC)) start_date=None end_date=None prerequisite_job_id=None progress_message=None progress_counter=0 sequence_length=None\n"
     ]
    },
    {
     "name": "stderr",
     "output_type": "stream",
     "text": [
      "Waiting: 100%|██████████| 100/100 [01:17<00:00,  1.30it/s, status=SUCCESS]\n"
     ]
    }
   ],
   "source": [
    "# replace the following with an existing job id to retrieve results for an existing job\n",
    "generate_job_id: str | None = None\n",
    "if generate_job_id is None:\n",
    "    generate_job = session.embedding.poet_2.generate(\n",
    "        # NB: for historical reasons, the parameter for context is named prompt\n",
    "        prompt=context,\n",
    "        query=query,\n",
    "        num_samples=200,\n",
    "        temperature=0.3,\n",
    "    )\n",
    "else:\n",
    "    generate_job = session.load_job(generate_job_id)\n",
    "print(generate_job)\n",
    "_ = generate_job.wait_until_done(verbose=True)"
   ]
  },
  {
   "cell_type": "markdown",
   "metadata": {},
   "source": [
    "We retrieve the generated sequences in a dataframe:"
   ]
  },
  {
   "cell_type": "code",
   "execution_count": 14,
   "metadata": {},
   "outputs": [
    {
     "data": {
      "text/html": [
       "<div>\n",
       "<style scoped>\n",
       "    .dataframe tbody tr th:only-of-type {\n",
       "        vertical-align: middle;\n",
       "    }\n",
       "\n",
       "    .dataframe tbody tr th {\n",
       "        vertical-align: top;\n",
       "    }\n",
       "\n",
       "    .dataframe thead th {\n",
       "        text-align: right;\n",
       "    }\n",
       "</style>\n",
       "<table border=\"1\" class=\"dataframe\">\n",
       "  <thead>\n",
       "    <tr style=\"text-align: right;\">\n",
       "      <th></th>\n",
       "      <th>name</th>\n",
       "      <th>sequence</th>\n",
       "      <th>score</th>\n",
       "    </tr>\n",
       "  </thead>\n",
       "  <tbody>\n",
       "    <tr>\n",
       "      <th>0</th>\n",
       "      <td>generated-sequence-1</td>\n",
       "      <td>MKYTLEDFVGTWKMESSENLDEVLKELGLSMLFRKLANNISPTLVI...</td>\n",
       "      <td>-161.09839</td>\n",
       "    </tr>\n",
       "    <tr>\n",
       "      <th>1</th>\n",
       "      <td>generated-sequence-2</td>\n",
       "      <td>MKYTMEDFVGTWELVSSENLDEVLKALGLSFLFRKAANTVKPTLVV...</td>\n",
       "      <td>-170.81026</td>\n",
       "    </tr>\n",
       "    <tr>\n",
       "      <th>2</th>\n",
       "      <td>generated-sequence-3</td>\n",
       "      <td>MKFTVDDFVGTWKMESSENLDEVLEALGVSKLFRTLANKITPTLII...</td>\n",
       "      <td>-161.31497</td>\n",
       "    </tr>\n",
       "  </tbody>\n",
       "</table>\n",
       "</div>"
      ],
      "text/plain": [
       "                   name                                           sequence  \\\n",
       "0  generated-sequence-1  MKYTLEDFVGTWKMESSENLDEVLKELGLSMLFRKLANNISPTLVI...   \n",
       "1  generated-sequence-2  MKYTMEDFVGTWELVSSENLDEVLKALGLSFLFRKAANTVKPTLVV...   \n",
       "2  generated-sequence-3  MKFTVDDFVGTWKMESSENLDEVLEALGVSKLFRTLANKITPTLII...   \n",
       "\n",
       "       score  \n",
       "0 -161.09839  \n",
       "1 -170.81026  \n",
       "2 -161.31497  "
      ]
     },
     "execution_count": 14,
     "metadata": {},
     "output_type": "execute_result"
    }
   ],
   "source": [
    "generated_seqs_df = pd.DataFrame(generate_job.get())\n",
    "generated_seqs_df[\"score\"] = generated_seqs_df[\"score\"].apply(np.mean)\n",
    "generated_seqs_df.head(3)"
   ]
  },
  {
   "cell_type": "markdown",
   "metadata": {},
   "source": [
    "In the next sections, we'll do some exploration of these sequences to validate their properties."
   ]
  },
  {
   "cell_type": "markdown",
   "metadata": {},
   "source": [
    "## Validate the novelty of the generated sequences\n",
    "\n",
    "We validate the novelty of the generated sequences by computing their maximum sequence identity to wild-type (LUCI_OPLGR) and to sequences in the context. First, we define a function to compute sequence identity; it is not necessary to read the function definition:"
   ]
  },
  {
   "cell_type": "code",
   "execution_count": 15,
   "metadata": {},
   "outputs": [],
   "source": [
    "def seqid_to_query(\n",
    "    query: str,\n",
    "    target: str,\n",
    "    scoring: gemmi.AlignmentScoring | None = gemmi.AlignmentScoring(\"b\"),\n",
    ") -> float:\n",
    "    result = gemmi.align_string_sequences(\n",
    "        gemmi.expand_one_letter_sequence(query, gemmi.ResidueKind.AA),\n",
    "        gemmi.expand_one_letter_sequence(target, gemmi.ResidueKind.AA),\n",
    "        [],\n",
    "        scoring,\n",
    "    )\n",
    "    return result.calculate_identity(1)"
   ]
  },
  {
   "cell_type": "markdown",
   "metadata": {},
   "source": [
    "Now, we can use the function to compute and visualize the maximum sequence identities:"
   ]
  },
  {
   "cell_type": "code",
   "execution_count": 16,
   "metadata": {},
   "outputs": [
    {
     "data": {
      "image/png": "[encoded data removed]",
      "text/plain": [
       "<Figure size 640x480 with 1 Axes>"
      ]
     },
     "metadata": {},
     "output_type": "display_data"
    }
   ],
   "source": [
    "query_sequences = list(generated_seqs_df[\"sequence\"])\n",
    "# define the sequences we want to compare to\n",
    "target_sequences = []\n",
    "wt = Protein.from_filepath(path=structure_filepath, chain_id=\"A\")[len(sdn_linker) :]\n",
    "target_sequences.append(wt.sequence.decode())\n",
    "for protein in context_proteins:\n",
    "    target_sequences.append(protein.sequence.decode())\n",
    "# compute the sequence identities\n",
    "seqids = np.zeros((len(query_sequences), len(target_sequences)), dtype=np.float32)\n",
    "for i, _query in enumerate(query_sequences):\n",
    "    for j, _target in enumerate(target_sequences):\n",
    "        seqids[i, j] = seqid_to_query(query=_query, target=_target)\n",
    "# compute max sequence identities to targets\n",
    "max_seqids = seqids.max(axis=1)\n",
    "# visualize the max sequence identities\n",
    "g = sns.histplot(max_seqids, stat=\"proportion\")\n",
    "_ = g.set_xlabel(\"Maximum Sequence Identity (%)\")\n",
    "_ = g.set_ylabel(\"Proportion\")\n",
    "_ = g.set_title(\"Novelty of Generated Sequences\")"
   ]
  },
  {
   "cell_type": "markdown",
   "metadata": {},
   "source": [
    "We see that our generated sequences are highly novel, with almost all sequence identities less than 50%, and some as low as ~35%! As additional validation, we should BLAST the generated sequences against a larger set of sequences such as UniProt, but low sequence identity to sequences in the context is generally a good indicator of novelty."
   ]
  },
  {
   "cell_type": "markdown",
   "metadata": {},
   "source": [
    "## Validate the diversity of generated sequences\n",
    "\n",
    "Next, we check that the generated sequences have reasonable diversity between themselves. Like before, we compute the identities and visualize them:"
   ]
  },
  {
   "cell_type": "code",
   "execution_count": 17,
   "metadata": {},
   "outputs": [
    {
     "data": {
      "image/png": "[encoded data removed]",
      "text/plain": [
       "<Figure size 640x480 with 1 Axes>"
      ]
     },
     "metadata": {},
     "output_type": "display_data"
    }
   ],
   "source": [
    "# compute the sequence identities\n",
    "seqids = np.zeros((len(query_sequences), len(query_sequences)), dtype=np.float32)\n",
    "for i, _query in enumerate(query_sequences):\n",
    "    for j, _target in enumerate(query_sequences):\n",
    "        if i == j:\n",
    "            continue  # don't compute identity to self\n",
    "        seqids[i, j] = seqid_to_query(query=_query, target=_target)\n",
    "# compute max sequence identities\n",
    "max_seqids = seqids.max(axis=1)\n",
    "# visualize the max sequence identities\n",
    "g = sns.histplot(max_seqids, stat=\"proportion\")\n",
    "_ = g.set_xlabel(\"Maximum Sequence Identity (%)\")\n",
    "_ = g.set_ylabel(\"Proportion\")\n",
    "_ = g.set_title(\"Diversity of Generated Sequences\")"
   ]
  },
  {
   "cell_type": "markdown",
   "metadata": {},
   "source": [
    "The graph verifies that the generated sequences are diverse, with sequence identities ranging between ~65% and ~80%."
   ]
  },
  {
   "cell_type": "markdown",
   "metadata": {},
   "source": [
    "## Validate the structures of generated sequences *in silico* with ESMFold\n",
    "\n",
    "Before sending these sequences to the lab for testing, it’s important to evaluate them *in silico* to ensure they’re predicted to fold into a structure similar to our target. For this, we'll use ESMFold, which offers fast structure predictions with accuracy comparable to AlphaFold2.\n",
    "\n",
    "In addition to folding the generated sequences, we'll also fold the wild-type sequence to establish a baseline for how well ESMFold can fold sequences that are already known to fold into our desired structure:"
   ]
  },
  {
   "cell_type": "code",
   "execution_count": 18,
   "metadata": {},
   "outputs": [
    {
     "name": "stdout",
     "output_type": "stream",
     "text": [
      "num_records=201 job_id='51462fc1-a3bc-4ee3-8656-8dbf9fd8ef31' job_type=<JobType.embeddings_fold: '/embeddings/fold'> status=<JobStatus.PENDING: 'PENDING'> created_date=datetime.datetime(2025, 5, 2, 2, 7, 29, 624696, tzinfo=TzInfo(UTC)) start_date=None end_date=None prerequisite_job_id=None progress_message=None progress_counter=0 sequence_length=None\n"
     ]
    },
    {
     "name": "stderr",
     "output_type": "stream",
     "text": [
      "Waiting: 100%|██████████| 100/100 [02:42<00:00,  1.62s/it, status=SUCCESS]\n"
     ]
    }
   ],
   "source": [
    "sequences_to_fold = [wt.sequence] + list(generated_seqs_df[\"sequence\"])\n",
    "\n",
    "# replace the following with an existing job id to retrieve results for an existing job\n",
    "fold_job_id: str | None = None\n",
    "if fold_job_id is None:\n",
    "    fold_job = session.fold.esmfold.fold(sequences_to_fold)\n",
    "else:\n",
    "    fold_job = session.load_job(fold_job_id)\n",
    "print(fold_job)\n",
    "_ = fold_job.wait_until_done(verbose=True)"
   ]
  },
  {
   "cell_type": "markdown",
   "metadata": {},
   "source": [
    "We retrieve the predicted structures in a dataframe:"
   ]
  },
  {
   "cell_type": "code",
   "execution_count": 19,
   "metadata": {},
   "outputs": [
    {
     "data": {
      "text/html": [
       "<div>\n",
       "<style scoped>\n",
       "    .dataframe tbody tr th:only-of-type {\n",
       "        vertical-align: middle;\n",
       "    }\n",
       "\n",
       "    .dataframe tbody tr th {\n",
       "        vertical-align: top;\n",
       "    }\n",
       "\n",
       "    .dataframe thead th {\n",
       "        text-align: right;\n",
       "    }\n",
       "</style>\n",
       "<table border=\"1\" class=\"dataframe\">\n",
       "  <thead>\n",
       "    <tr style=\"text-align: right;\">\n",
       "      <th></th>\n",
       "      <th>sequence</th>\n",
       "      <th>pdb_as_string</th>\n",
       "    </tr>\n",
       "  </thead>\n",
       "  <tbody>\n",
       "    <tr>\n",
       "      <th>0</th>\n",
       "      <td>MVFTLEDFVGRWRQTAGYNLDQVLEQGGVSSLFQNLGVSVTPIQRI...</td>\n",
       "      <td>b'PARENT N/A\\nATOM      1  N   MET A   1      ...</td>\n",
       "    </tr>\n",
       "  </tbody>\n",
       "</table>\n",
       "</div>"
      ],
      "text/plain": [
       "                                            sequence  \\\n",
       "0  MVFTLEDFVGRWRQTAGYNLDQVLEQGGVSSLFQNLGVSVTPIQRI...   \n",
       "\n",
       "                                       pdb_as_string  \n",
       "0  b'PARENT N/A\\nATOM      1  N   MET A   1      ...  "
      ]
     },
     "execution_count": 19,
     "metadata": {},
     "output_type": "execute_result"
    }
   ],
   "source": [
    "fold_df = pd.DataFrame(fold_job.get(), columns=[\"sequence\", \"pdb_as_string\"])\n",
    "fold_df[\"sequence\"] = fold_df[\"sequence\"].astype(str)\n",
    "fold_df.head(1)"
   ]
  },
  {
   "cell_type": "markdown",
   "metadata": {},
   "source": [
    "To measure the accuracy of the wild-type structure prediction, we compute four metrics\n",
    "\n",
    "- `rmsd`: the root mean square deviation (RMSD) of the backbone atoms versus the same atoms in the experimental structure\n",
    "- `plddt`: the average pLDDT of the predicted structure\n",
    "- `active_site_rmsd`: the RMSD of all heavy atoms in the active site versus the same atoms in the experimental structure\n",
    "- `active_site_plddt`: the average pLDDT of the predicted active site"
   ]
  },
  {
   "cell_type": "code",
   "execution_count": 20,
   "metadata": {},
   "outputs": [
    {
     "name": "stdout",
     "output_type": "stream",
     "text": [
      "wt_rmsd=1.12560\n",
      "wt_plddt=84.50854\n",
      "wt_active_site_rmsd=1.98245\n",
      "wt_active_site_plddt=82.11166\n"
     ]
    }
   ],
   "source": [
    "# the predicted structure of wild-type should be the first row of fold_df\n",
    "row = fold_df.iloc[0]\n",
    "assert row[\"sequence\"] == wt.sequence.decode()\n",
    "# construct a `Protein` object from the predicted structure, and use its helper methods\n",
    "# to compute the metrics\n",
    "wt_predicted = Protein.from_string(row[\"pdb_as_string\"], format=\"pdb\", chain_id=\"A\")\n",
    "wt_rmsd = wt_predicted.rmsd(tgt=wt, backbone_only=True)\n",
    "wt_plddt = wt_predicted.plddt.mean()\n",
    "wt_active_site_rmsd = wt_predicted.at(active_site_positions).rmsd(\n",
    "    tgt=wt.at(active_site_positions)\n",
    ")\n",
    "wt_active_site_plddt = wt_predicted.at(active_site_positions).plddt.mean()\n",
    "# print out the metrics\n",
    "print(f\"{wt_rmsd=:.5f}\")\n",
    "print(f\"{wt_plddt=:.5f}\")\n",
    "print(f\"{wt_active_site_rmsd=:.5f}\")\n",
    "print(f\"{wt_active_site_plddt=:.5f}\")"
   ]
  },
  {
   "cell_type": "markdown",
   "metadata": {},
   "source": [
    "Based on these metric values, we conclude that ESMFold can fold the wild-type sequence with reasonable accuracy (the values are somewhat lower than ideal, but this is to be expected as this protein has few sequence homologs).\n",
    "\n",
    "Next, we compute the same metrics for the generated sequences."
   ]
  },
  {
   "cell_type": "code",
   "execution_count": 21,
   "metadata": {},
   "outputs": [
    {
     "name": "stdout",
     "output_type": "stream",
     "text": [
      "len(generated_df)=200\n"
     ]
    },
    {
     "data": {
      "text/html": [
       "<div>\n",
       "<style scoped>\n",
       "    .dataframe tbody tr th:only-of-type {\n",
       "        vertical-align: middle;\n",
       "    }\n",
       "\n",
       "    .dataframe tbody tr th {\n",
       "        vertical-align: top;\n",
       "    }\n",
       "\n",
       "    .dataframe thead th {\n",
       "        text-align: right;\n",
       "    }\n",
       "</style>\n",
       "<table border=\"1\" class=\"dataframe\">\n",
       "  <thead>\n",
       "    <tr style=\"text-align: right;\">\n",
       "      <th></th>\n",
       "      <th>name</th>\n",
       "      <th>sequence</th>\n",
       "      <th>score</th>\n",
       "      <th>pdb_as_string</th>\n",
       "    </tr>\n",
       "  </thead>\n",
       "  <tbody>\n",
       "    <tr>\n",
       "      <th>0</th>\n",
       "      <td>generated-sequence-1</td>\n",
       "      <td>MKYTLEDFVGTWKMESSENLDEVLKELGLSMLFRKLANNISPTLVI...</td>\n",
       "      <td>-161.09839</td>\n",
       "      <td>b'PARENT N/A\\nATOM      1  N   MET A   1      ...</td>\n",
       "    </tr>\n",
       "  </tbody>\n",
       "</table>\n",
       "</div>"
      ],
      "text/plain": [
       "                   name                                           sequence  \\\n",
       "0  generated-sequence-1  MKYTLEDFVGTWKMESSENLDEVLKELGLSMLFRKLANNISPTLVI...   \n",
       "\n",
       "       score                                      pdb_as_string  \n",
       "0 -161.09839  b'PARENT N/A\\nATOM      1  N   MET A   1      ...  "
      ]
     },
     "execution_count": 21,
     "metadata": {},
     "output_type": "execute_result"
    }
   ],
   "source": [
    "# first, we create a single dataframe containing the generated sequences and predicted structures\n",
    "generated_df = generated_seqs_df.merge(fold_df, on=\"sequence\", validate=\"1:1\")\n",
    "print(f\"{len(generated_df)=}\")\n",
    "generated_df.head(1)"
   ]
  },
  {
   "cell_type": "code",
   "execution_count": 22,
   "metadata": {},
   "outputs": [
    {
     "data": {
      "text/html": [
       "<div>\n",
       "<style scoped>\n",
       "    .dataframe tbody tr th:only-of-type {\n",
       "        vertical-align: middle;\n",
       "    }\n",
       "\n",
       "    .dataframe tbody tr th {\n",
       "        vertical-align: top;\n",
       "    }\n",
       "\n",
       "    .dataframe thead th {\n",
       "        text-align: right;\n",
       "    }\n",
       "</style>\n",
       "<table border=\"1\" class=\"dataframe\">\n",
       "  <thead>\n",
       "    <tr style=\"text-align: right;\">\n",
       "      <th></th>\n",
       "      <th>sequence</th>\n",
       "      <th>score</th>\n",
       "      <th>rmsd</th>\n",
       "      <th>plddt</th>\n",
       "      <th>active_site_rmsd</th>\n",
       "      <th>active_site_plddt</th>\n",
       "    </tr>\n",
       "  </thead>\n",
       "  <tbody>\n",
       "    <tr>\n",
       "      <th>0</th>\n",
       "      <td>MKYTLEDFVGTWKMESSENLDEVLKELGLSMLFRKLANNISPTLVI...</td>\n",
       "      <td>-161.09839</td>\n",
       "      <td>2.033154</td>\n",
       "      <td>83.62796</td>\n",
       "      <td>2.045822</td>\n",
       "      <td>83.161667</td>\n",
       "    </tr>\n",
       "  </tbody>\n",
       "</table>\n",
       "</div>"
      ],
      "text/plain": [
       "                                            sequence      score      rmsd  \\\n",
       "0  MKYTLEDFVGTWKMESSENLDEVLKELGLSMLFRKLANNISPTLVI... -161.09839  2.033154   \n",
       "\n",
       "      plddt  active_site_rmsd  active_site_plddt  \n",
       "0  83.62796          2.045822          83.161667  "
      ]
     },
     "execution_count": 22,
     "metadata": {},
     "output_type": "execute_result"
    }
   ],
   "source": [
    "# next, we create a new dataframe containing the metrics for the generated sequences\n",
    "generated_stats_records = []\n",
    "for _, sequence, score, pdb_as_string in generated_df.itertuples(index=False):\n",
    "    predicted = Protein.from_string(pdb_as_string, format=\"pdb\", chain_id=\"A\")\n",
    "    generated_stats_records.append(\n",
    "        {\n",
    "            \"sequence\": sequence,\n",
    "            \"score\": score,\n",
    "            \"rmsd\": predicted.rmsd(tgt=wt, backbone_only=True),\n",
    "            \"plddt\": predicted.plddt.mean(),\n",
    "            \"active_site_rmsd\": predicted.at(active_site_positions).rmsd(\n",
    "                tgt=wt.at(active_site_positions)\n",
    "            ),\n",
    "            \"active_site_plddt\": predicted.at(active_site_positions).plddt.mean(),\n",
    "        }\n",
    "    )\n",
    "generated_stats_df = pd.DataFrame.from_records(generated_stats_records)\n",
    "generated_stats_df.head(1)"
   ]
  },
  {
   "cell_type": "code",
   "execution_count": 23,
   "metadata": {},
   "outputs": [
    {
     "data": {
      "text/html": [
       "<div>\n",
       "<style scoped>\n",
       "    .dataframe tbody tr th:only-of-type {\n",
       "        vertical-align: middle;\n",
       "    }\n",
       "\n",
       "    .dataframe tbody tr th {\n",
       "        vertical-align: top;\n",
       "    }\n",
       "\n",
       "    .dataframe thead th {\n",
       "        text-align: right;\n",
       "    }\n",
       "</style>\n",
       "<table border=\"1\" class=\"dataframe\">\n",
       "  <thead>\n",
       "    <tr style=\"text-align: right;\">\n",
       "      <th></th>\n",
       "      <th>score</th>\n",
       "      <th>rmsd</th>\n",
       "      <th>plddt</th>\n",
       "      <th>active_site_rmsd</th>\n",
       "      <th>active_site_plddt</th>\n",
       "    </tr>\n",
       "  </thead>\n",
       "  <tbody>\n",
       "    <tr>\n",
       "      <th>count</th>\n",
       "      <td>200.000000</td>\n",
       "      <td>200.000000</td>\n",
       "      <td>200.000000</td>\n",
       "      <td>200.000000</td>\n",
       "      <td>200.000000</td>\n",
       "    </tr>\n",
       "    <tr>\n",
       "      <th>mean</th>\n",
       "      <td>-161.557205</td>\n",
       "      <td>1.682657</td>\n",
       "      <td>81.573135</td>\n",
       "      <td>2.013412</td>\n",
       "      <td>81.506081</td>\n",
       "    </tr>\n",
       "    <tr>\n",
       "      <th>std</th>\n",
       "      <td>6.624926</td>\n",
       "      <td>0.876068</td>\n",
       "      <td>3.106332</td>\n",
       "      <td>0.329494</td>\n",
       "      <td>3.291832</td>\n",
       "    </tr>\n",
       "    <tr>\n",
       "      <th>min</th>\n",
       "      <td>-176.877840</td>\n",
       "      <td>1.020650</td>\n",
       "      <td>70.084328</td>\n",
       "      <td>1.295836</td>\n",
       "      <td>71.670006</td>\n",
       "    </tr>\n",
       "    <tr>\n",
       "      <th>25%</th>\n",
       "      <td>-165.500493</td>\n",
       "      <td>1.341585</td>\n",
       "      <td>80.033382</td>\n",
       "      <td>1.767642</td>\n",
       "      <td>79.437918</td>\n",
       "    </tr>\n",
       "    <tr>\n",
       "      <th>50%</th>\n",
       "      <td>-162.436260</td>\n",
       "      <td>1.521111</td>\n",
       "      <td>81.603745</td>\n",
       "      <td>1.955735</td>\n",
       "      <td>81.613064</td>\n",
       "    </tr>\n",
       "    <tr>\n",
       "      <th>75%</th>\n",
       "      <td>-159.069680</td>\n",
       "      <td>1.714166</td>\n",
       "      <td>83.503099</td>\n",
       "      <td>2.225503</td>\n",
       "      <td>83.598186</td>\n",
       "    </tr>\n",
       "    <tr>\n",
       "      <th>max</th>\n",
       "      <td>-135.649870</td>\n",
       "      <td>9.122282</td>\n",
       "      <td>90.515900</td>\n",
       "      <td>3.334953</td>\n",
       "      <td>91.263329</td>\n",
       "    </tr>\n",
       "  </tbody>\n",
       "</table>\n",
       "</div>"
      ],
      "text/plain": [
       "            score        rmsd       plddt  active_site_rmsd  active_site_plddt\n",
       "count  200.000000  200.000000  200.000000        200.000000         200.000000\n",
       "mean  -161.557205    1.682657   81.573135          2.013412          81.506081\n",
       "std      6.624926    0.876068    3.106332          0.329494           3.291832\n",
       "min   -176.877840    1.020650   70.084328          1.295836          71.670006\n",
       "25%   -165.500493    1.341585   80.033382          1.767642          79.437918\n",
       "50%   -162.436260    1.521111   81.603745          1.955735          81.613064\n",
       "75%   -159.069680    1.714166   83.503099          2.225503          83.598186\n",
       "max   -135.649870    9.122282   90.515900          3.334953          91.263329"
      ]
     },
     "execution_count": 23,
     "metadata": {},
     "output_type": "execute_result"
    }
   ],
   "source": [
    "# examine the summary statistics of the metrics\n",
    "generated_stats_df.describe()"
   ]
  },
  {
   "cell_type": "markdown",
   "metadata": {},
   "source": [
    "We visualize the metrics to examine their distribution and compare them to the metrics for wild-type:"
   ]
  },
  {
   "cell_type": "code",
   "execution_count": 24,
   "metadata": {},
   "outputs": [
    {
     "data": {
      "image/png": "[encoded data removed]",
      "text/plain": [
       "<Figure size 1100x500 with 2 Axes>"
      ]
     },
     "metadata": {},
     "output_type": "display_data"
    }
   ],
   "source": [
    "f, axes = plt.subplots(1, 2, figsize=(11, 5))\n",
    "sns.scatterplot(data=generated_stats_df, x=\"plddt\", y=\"rmsd\", ax=axes[0])\n",
    "sns.scatterplot(\n",
    "    data=generated_stats_df, x=\"active_site_plddt\", y=\"active_site_rmsd\", ax=axes[1]\n",
    ")\n",
    "for ax, plddt, rmsd in zip(\n",
    "    axes, (wt_plddt, wt_active_site_plddt), (wt_rmsd, wt_active_site_rmsd)\n",
    "):\n",
    "    ax.set_yscale(\"log\")\n",
    "    ax.set_yticks([1, 2, 3, 4, 5, 10], [1, 2, 3, 4, 5, 10])\n",
    "    ax.axvline(plddt, color=\"gray\", ls=\"--\")\n",
    "    ax.axhline(rmsd, color=\"gray\", ls=\"--\")\n",
    "f.suptitle(\n",
    "    \"Predicted RMSD vs pLDDT\\nBlue: Generated Sequences; Gray: Wild-type Sequence\"\n",
    ")\n",
    "f.tight_layout()"
   ]
  },
  {
   "cell_type": "markdown",
   "metadata": {},
   "source": [
    "From the graphs, we see that the majority of generated sequences have low RMSD (<2Å) to the target structure while also exhibiting high confidence (pLDDT > 80). Notably, some generated sequences yield predicted structures that are both more confident and more similar to the experimentally determined target than the wild-type, especially in the functionally critical active site.\n",
    "\n",
    "These results suggest that the generated sequences are likely to fold into the desired structure! To further improve our success rate, we may remove sequences with high RMSDs and low pLDDTs. If we need more sequences after filtering, we can easily generate more using the workflow outlined above."
   ]
  },
  {
   "cell_type": "markdown",
   "metadata": {},
   "source": [
    "## Conclusion"
   ]
  },
  {
   "cell_type": "markdown",
   "metadata": {},
   "source": [
    "In this walkthrough, we demonstrated how to use PoET-2 to perform inverse folding, and how to validate the generated sequences *in silico*. Despite the challenge posed by a target with few sequence homologs, PoET-2 successfully generated sequences predicted to fold into the target structure with high accuracy and confidence. We’re excited to see what sequences you design with PoET-2 - and how you apply it to your own protein design challenges!"
   ]
  },
  {
   "cell_type": "markdown",
   "metadata": {},
   "source": [
    "# Appendix"
   ]
  },
  {
   "cell_type": "markdown",
   "metadata": {},
   "source": [
    "## Creating a context containing structural homologs\n",
    "\n",
    "This section provides code examples demonstrating how to find and sample the diverse structural homologs used to create the context in the \"Create the context\" section above. In the next cell, we define a bunch of helper functions; it's not necessary to read them:"
   ]
  },
  {
   "cell_type": "code",
   "execution_count": 25,
   "metadata": {},
   "outputs": [],
   "source": [
    "import io\n",
    "import requests\n",
    "import time\n",
    "import tarfile\n",
    "from concurrent.futures import ThreadPoolExecutor\n",
    "\n",
    "import numpy.typing as npt\n",
    "\n",
    "import scipy\n",
    "from scipy.spatial.distance import pdist, squareform\n",
    "\n",
    "from tqdm import tqdm\n",
    "\n",
    "\n",
    "def run_foldseek(\n",
    "    query_filepath: Path | str, output_dir: Path, verbose: bool = False\n",
    ") -> tuple[Path, Path]:\n",
    "    pdb_result_path = output_dir / \"alis_pdb100.m8\"\n",
    "    afdb_result_path = output_dir / \"alis_afdb50.m8\"\n",
    "    if pdb_result_path.is_file() and afdb_result_path.is_file():\n",
    "        return pdb_result_path, afdb_result_path\n",
    "    output_dir.mkdir(parents=True, exist_ok=True)\n",
    "\n",
    "    query = Path(query_filepath).read_text()\n",
    "    databases = (\"afdb50\", \"pdb100\")\n",
    "    mode = \"3diaa\"\n",
    "    iterative = False\n",
    "    ticket = requests.post(\n",
    "        \"https://search.foldseek.com/api/ticket\",\n",
    "        {\n",
    "            \"q\": query,\n",
    "            \"database[]\": list(databases),\n",
    "            \"mode\": mode,\n",
    "            \"iterativesearch\": str(iterative).lower(),\n",
    "        },\n",
    "    ).json()\n",
    "    if \"id\" not in ticket:\n",
    "        raise ValueError(ticket)\n",
    "    ticket_id = ticket[\"id\"]\n",
    "    if verbose:\n",
    "        print(f\"Got ticket: {ticket_id}\")\n",
    "\n",
    "    count = 0\n",
    "    while True:\n",
    "        status = requests.get(\n",
    "            f\"https://search.foldseek.com/api/ticket/{ticket_id}\"\n",
    "        ).json()[\"status\"]\n",
    "        if status == \"ERROR\":\n",
    "            raise ValueError(query)\n",
    "        elif status == \"COMPLETE\":\n",
    "            break\n",
    "        else:\n",
    "            time.sleep(1)\n",
    "            count += 1\n",
    "    if verbose:\n",
    "        print(f\"Ticket {ticket_id} completed in: {count}s\")\n",
    "\n",
    "    download = requests.get(\n",
    "        f\"https://search.foldseek.com/api/result/download/{ticket_id}\", stream=True\n",
    "    )\n",
    "    file_bytes = io.BytesIO()\n",
    "    for chunk in download.iter_content(chunk_size=8192):\n",
    "        file_bytes.write(chunk)\n",
    "    file_bytes.seek(0)\n",
    "\n",
    "    with tarfile.open(fileobj=file_bytes, mode=\"r:gz\") as tar:\n",
    "        for member in tar.getmembers():\n",
    "            if member.name not in (\"alis_afdb50.m8\", \"alis_pdb100.m8\"):\n",
    "                continue\n",
    "            extracted_file = tar.extractfile(member)\n",
    "            assert extracted_file is not None\n",
    "            with (output_dir / member.name).open(\"wb\") as out_file:\n",
    "                out_file.write(extracted_file.read())\n",
    "    return pdb_result_path, afdb_result_path\n",
    "\n",
    "\n",
    "def foldseek_pdb_result_to_dataframe(path: Path | str) -> pd.DataFrame:\n",
    "    df = pd.read_csv(path, sep=\"\\t\", header=None)\n",
    "    return pd.DataFrame(\n",
    "        {\n",
    "            \"pdb_id\": df[1].apply(lambda x: x.split()[0][:4]),\n",
    "            \"chain_id\": df[1].apply(lambda x: x.split()[0].split(\"_\")[1].split(\"-\")[0]),\n",
    "            \"sim\": df[2],\n",
    "            \"sequence\": df[18],\n",
    "            \"species\": df[20],\n",
    "        }\n",
    "    ).drop_duplicates([\"pdb_id\", \"chain_id\"])\n",
    "\n",
    "\n",
    "def foldseek_afdb_result_to_dataframe(path: Path | str) -> pd.DataFrame:\n",
    "    df = pd.read_csv(path, sep=\"\\t\", header=None)\n",
    "    return pd.DataFrame(\n",
    "        {\"name\": df[1], \"sim\": df[2], \"sequence\": df[18], \"species\": df[20]}\n",
    "    ).drop_duplicates([\"sequence\"])\n",
    "\n",
    "\n",
    "def run_openprotein_mafft_alignment(\n",
    "    sequences: list[bytes | str],\n",
    "    names: list[str] | None,\n",
    "    output_path: Path | str,\n",
    "    verbose: bool = False,\n",
    ") -> Path:\n",
    "    # return existing filepath if it already exists\n",
    "    output_path = Path(output_path)\n",
    "    if output_path.is_file():\n",
    "        return output_path\n",
    "    output_path.parent.mkdir(parents=True, exist_ok=True)\n",
    "    # otherwise run mafft, write result to disk, and return the filepath\n",
    "    session = get_session()\n",
    "    mafft_job = session.align.mafft(sequences=sequences, names=names)\n",
    "    mafft_job.wait_until_done(verbose=verbose)\n",
    "    with output_path.open(\"wb\") as fp:\n",
    "        for name, sequence in mafft_job.get():\n",
    "            fp.write(b\">\" + name.encode() + b\"\\n\")\n",
    "            fp.write(sequence.encode() + b\"\\n\")\n",
    "    return output_path\n",
    "\n",
    "\n",
    "def compute_n_eff(\n",
    "    alignment_path: Path | str,\n",
    "    identity: float = 50.0,\n",
    "    min_length: int | None = None,\n",
    "    max_length: int | None = None,\n",
    ") -> float:\n",
    "    # Read alignment\n",
    "    with Path(alignment_path).open(\"rb\") as f:\n",
    "        _, prompt_seqs = fasta.parse(f)\n",
    "    prompt_seqs = np.array(prompt_seqs)\n",
    "    # Get unique sequences\n",
    "    prompt_seqs = np.unique(prompt_seqs)\n",
    "    # Convert sequences to numpy arrays\n",
    "    prompt_seqs = np.stack(\n",
    "        [np.frombuffer(s, dtype=np.uint8) for s in prompt_seqs], axis=0\n",
    "    )\n",
    "    # Filter by max length\n",
    "    if min_length is not None or max_length is not None:\n",
    "        min_length = min_length or 0\n",
    "        max_length = max_length or 2**32\n",
    "        lengths = (prompt_seqs != ord(b\"-\")).sum(axis=-1)\n",
    "        keep = (lengths >= min_length) & (lengths <= max_length)\n",
    "        prompt_seqs = prompt_seqs[keep]\n",
    "    # Compute percent identities\n",
    "    is_gap = prompt_seqs == ord(b\"-\")\n",
    "    one_not_gap = ~(is_gap & is_gap[:, np.newaxis])\n",
    "    is_match = prompt_seqs == prompt_seqs[:, np.newaxis]\n",
    "    is_match[~one_not_gap] = (\n",
    "        False  # don't count positions where both sequences have gaps\n",
    "    )\n",
    "    num_not_gap = one_not_gap.sum(axis=-1)\n",
    "    num_match = is_match.sum(axis=-1)\n",
    "    pid = num_match / num_not_gap\n",
    "    weights = (pid >= (identity / 100)).sum(axis=1)\n",
    "    return float(np.sum(1 / weights))\n",
    "\n",
    "\n",
    "def sample_n_from_alignment(\n",
    "    alignment_path: Path | str,\n",
    "    n: int,\n",
    "    min_length: int | None = None,\n",
    "    max_length: int | None = None,\n",
    ") -> npt.NDArray[np.integer]:\n",
    "    # Read alignment\n",
    "    with Path(alignment_path).open(\"rb\") as f:\n",
    "        _, prompt_seqs = fasta.parse(f)\n",
    "    names = np.arange(len(prompt_seqs))\n",
    "    prompt_seqs = np.array(prompt_seqs)\n",
    "    # Get unique sequences\n",
    "    prompt_seqs, uind = np.unique(prompt_seqs, return_index=True)\n",
    "    names = names[uind]\n",
    "    # Convert sequences to numpy arrays\n",
    "    prompt_seqs = np.stack(\n",
    "        [np.frombuffer(s, dtype=np.uint8) for s in prompt_seqs], axis=0\n",
    "    )\n",
    "    # Filter by max length\n",
    "    if min_length is not None or max_length is not None:\n",
    "        min_length = min_length or 0\n",
    "        max_length = max_length or 2**32\n",
    "        lengths = (prompt_seqs != ord(b\"-\")).sum(axis=-1)\n",
    "        keep = (lengths >= min_length) & (lengths <= max_length)\n",
    "        prompt_seqs = prompt_seqs[keep]\n",
    "        names = names[keep]\n",
    "    # Perform hierarchical clustering on sequences\n",
    "    dist = pdist(prompt_seqs, metric=\"hamming\")\n",
    "    Z = scipy.cluster.hierarchy.average(dist)\n",
    "    # Sample n clusters\n",
    "    clusters = scipy.cluster.hierarchy.cut_tree(Z, n)\n",
    "    # Take the centroid of each cluster\n",
    "    prompt = []\n",
    "    prompt_names = []\n",
    "    for c in range(n):\n",
    "        loc = clusters[:, 0] == c\n",
    "        cluster_seqs = prompt_seqs[loc]\n",
    "        cluster_names = names[loc]\n",
    "        cluster_dist = squareform(dist)[loc, :][:, loc]\n",
    "        avg_dist = cluster_dist.mean(axis=1)\n",
    "        i = np.argmin(avg_dist)  # get the centroid\n",
    "        s = cluster_seqs[i]\n",
    "        name = cluster_names[i]\n",
    "        prompt.append(s)\n",
    "        prompt_names.append(name)\n",
    "    prompt = np.stack(prompt, axis=0)\n",
    "    prompt_names = np.array(prompt_names)\n",
    "    return prompt_names\n",
    "\n",
    "\n",
    "def download_pdb_structures(pdb_ids: list[str], output_dir: Path | str):\n",
    "    output_dir = Path(output_dir)\n",
    "    output_dir.mkdir(parents=True, exist_ok=True)\n",
    "\n",
    "    def _download_pdb_structure(pdb_id: str):\n",
    "        output_path = output_dir / f\"{pdb_id.lower()}.cif\"\n",
    "        if output_path.is_file():\n",
    "            return\n",
    "        url = \"https://files.rcsb.org/view/\" + pdb_id.lower() + \".cif\"\n",
    "        response = requests.get(url)\n",
    "        if response.status_code != 200:\n",
    "            raise ValueError(pdb_id)\n",
    "        output_path.write_bytes(response.content)\n",
    "\n",
    "    with ThreadPoolExecutor() as executor:\n",
    "        futures = []\n",
    "        for pdb_id in pdb_ids:\n",
    "            future = executor.submit(_download_pdb_structure, pdb_id)\n",
    "            futures.append(future)\n",
    "        for future in tqdm(futures):\n",
    "            future.result()"
   ]
  },
  {
   "cell_type": "markdown",
   "metadata": {},
   "source": [
    "The headers for the rest of this section will follow the steps outlined in the \"Create the context\" section."
   ]
  },
  {
   "cell_type": "markdown",
   "metadata": {},
   "source": [
    "### Step 1: Search for structural homologs\n",
    "\n",
    "To run [Foldseek](https://www.nature.com/articles/s41587-023-01773-0) to find structural homologs, we can use the `run_foldseek` helper function. This function accepts an input structure file, searches for structural homologs in PDB and AFDB, and writes the result to the specified output directory.\n",
    "\n",
    "**NOTE**: `run_foldseek` uses the public Foldseek server which is **not** operated by OpenProtein. Exercise caution when working with private structure files that are not meant to be public."
   ]
  },
  {
   "cell_type": "code",
   "execution_count": 26,
   "metadata": {},
   "outputs": [
    {
     "name": "stdout",
     "output_type": "stream",
     "text": [
      "foldseek_pdb_result_path=PosixPath('data/PoET-2_inverse_folding_small_luc_example/foldseek/7snt/alis_pdb100.m8')\n",
      "foldseek_afdb_result_path=PosixPath('data/PoET-2_inverse_folding_small_luc_example/foldseek/7snt/alis_afdb50.m8')\n"
     ]
    }
   ],
   "source": [
    "foldseek_pdb_result_path, foldseek_afdb_result_path = run_foldseek(\n",
    "    # NB: 7snt.cif contains the structure of a NanoLuc, a variant of LUCI_OPLGR\n",
    "    query_filepath=DATA_DIR / \"structures\" / \"7snt.cif\",\n",
    "    output_dir=DATA_DIR / \"foldseek\" / \"7snt\",\n",
    "    verbose=True,\n",
    ")\n",
    "print(f\"{foldseek_pdb_result_path=}\")\n",
    "print(f\"{foldseek_afdb_result_path=}\")"
   ]
  },
  {
   "cell_type": "markdown",
   "metadata": {},
   "source": [
    "`run_foldseek` returns the paths to two files. Each file is a BLAST formatted file listing structural homologs found by Foldseek. The first file contains hits found in PDB, and the second file contains hits found in AFDB.\n",
    "\n",
    "Since the public Foldseek server is not deterministic, for the remainder of this example, we'll use the following precomputed Foldseek result files:"
   ]
  },
  {
   "cell_type": "code",
   "execution_count": 27,
   "metadata": {},
   "outputs": [],
   "source": [
    "foldseek_pdb_result_path = DATA_DIR / \"precomputed_foldseek_7snt_pdb100.m8\"\n",
    "foldseek_afdb_result_path = DATA_DIR / \"precomputed_foldseek_7snt_afdb50.m8\""
   ]
  },
  {
   "cell_type": "markdown",
   "metadata": {},
   "source": [
    "### Step 2: Sample a diverse subset (from PDB)\n",
    "\n",
    "We process the Foldseek result file for hits found in PDB first."
   ]
  },
  {
   "cell_type": "markdown",
   "metadata": {},
   "source": [
    "#### Step 2.1: Filter out sequences with high identity to LUCI_OPLGR/NanoLuc to encourage novelty"
   ]
  },
  {
   "cell_type": "code",
   "execution_count": 28,
   "metadata": {},
   "outputs": [
    {
     "name": "stdout",
     "output_type": "stream",
     "text": [
      "len(foldseek_pdb_result_df)=399\n"
     ]
    },
    {
     "data": {
      "text/html": [
       "<div>\n",
       "<style scoped>\n",
       "    .dataframe tbody tr th:only-of-type {\n",
       "        vertical-align: middle;\n",
       "    }\n",
       "\n",
       "    .dataframe tbody tr th {\n",
       "        vertical-align: top;\n",
       "    }\n",
       "\n",
       "    .dataframe thead th {\n",
       "        text-align: right;\n",
       "    }\n",
       "</style>\n",
       "<table border=\"1\" class=\"dataframe\">\n",
       "  <thead>\n",
       "    <tr style=\"text-align: right;\">\n",
       "      <th></th>\n",
       "      <th>pdb_id</th>\n",
       "      <th>chain_id</th>\n",
       "      <th>sim</th>\n",
       "      <th>sequence</th>\n",
       "      <th>species</th>\n",
       "    </tr>\n",
       "  </thead>\n",
       "  <tbody>\n",
       "    <tr>\n",
       "      <th>0</th>\n",
       "      <td>7snt</td>\n",
       "      <td>A</td>\n",
       "      <td>100.0</td>\n",
       "      <td>MVFTLEDFVGDWRQTAGYNLDQVLEQGGVSSLFQNLGVSVTPIQRI...</td>\n",
       "      <td>Oplophorus gracilirostris</td>\n",
       "    </tr>\n",
       "    <tr>\n",
       "      <th>1</th>\n",
       "      <td>7vsx</td>\n",
       "      <td>A</td>\n",
       "      <td>90.5</td>\n",
       "      <td>EFFTLEDFVGDWRQTAGYNQDQVLEQGGLSSLFQNLGVSVTPIQRI...</td>\n",
       "      <td>Oplophorus gracilirostris</td>\n",
       "    </tr>\n",
       "    <tr>\n",
       "      <th>2</th>\n",
       "      <td>7snt</td>\n",
       "      <td>B</td>\n",
       "      <td>87.9</td>\n",
       "      <td>MVFTLEDFVGDWRQTAGYNLDQVLEQGGVSSLFQGVSVTPIQRIVL...</td>\n",
       "      <td>Oplophorus gracilirostris</td>\n",
       "    </tr>\n",
       "    <tr>\n",
       "      <th>3</th>\n",
       "      <td>8bo9</td>\n",
       "      <td>B</td>\n",
       "      <td>91.1</td>\n",
       "      <td>NMVFTLEDFVGRWRQTAGYNLDQVLEQGGVSSLFQNLGVSVTPIQR...</td>\n",
       "      <td>synthetic construct</td>\n",
       "    </tr>\n",
       "    <tr>\n",
       "      <th>4</th>\n",
       "      <td>5b0u</td>\n",
       "      <td>B</td>\n",
       "      <td>91.7</td>\n",
       "      <td>EFFTLEDFVGDWRQTAGYNLDQVLEQGGVSSLFQNLGVSVTPIQRI...</td>\n",
       "      <td>Oplophorus gracilirostris</td>\n",
       "    </tr>\n",
       "  </tbody>\n",
       "</table>\n",
       "</div>"
      ],
      "text/plain": [
       "  pdb_id chain_id    sim                                           sequence  \\\n",
       "0   7snt        A  100.0  MVFTLEDFVGDWRQTAGYNLDQVLEQGGVSSLFQNLGVSVTPIQRI...   \n",
       "1   7vsx        A   90.5  EFFTLEDFVGDWRQTAGYNQDQVLEQGGLSSLFQNLGVSVTPIQRI...   \n",
       "2   7snt        B   87.9  MVFTLEDFVGDWRQTAGYNLDQVLEQGGVSSLFQGVSVTPIQRIVL...   \n",
       "3   8bo9        B   91.1  NMVFTLEDFVGRWRQTAGYNLDQVLEQGGVSSLFQNLGVSVTPIQR...   \n",
       "4   5b0u        B   91.7  EFFTLEDFVGDWRQTAGYNLDQVLEQGGVSSLFQNLGVSVTPIQRI...   \n",
       "\n",
       "                     species  \n",
       "0  Oplophorus gracilirostris  \n",
       "1  Oplophorus gracilirostris  \n",
       "2  Oplophorus gracilirostris  \n",
       "3        synthetic construct  \n",
       "4  Oplophorus gracilirostris  "
      ]
     },
     "execution_count": 28,
     "metadata": {},
     "output_type": "execute_result"
    }
   ],
   "source": [
    "# read the Foldseek result file for PDB\n",
    "foldseek_pdb_result_df = foldseek_pdb_result_to_dataframe(foldseek_pdb_result_path)\n",
    "print(f\"{len(foldseek_pdb_result_df)=}\")\n",
    "foldseek_pdb_result_df.head()"
   ]
  },
  {
   "cell_type": "code",
   "execution_count": 29,
   "metadata": {},
   "outputs": [
    {
     "name": "stdout",
     "output_type": "stream",
     "text": [
      "len(foldseek_pdb_result_df)=385\n"
     ]
    }
   ],
   "source": [
    "# filter out sequences with high identity (>= 70%)\n",
    "foldseek_pdb_result_df = foldseek_pdb_result_df[foldseek_pdb_result_df[\"sim\"] < 70]\n",
    "print(f\"{len(foldseek_pdb_result_df)=}\")"
   ]
  },
  {
   "cell_type": "markdown",
   "metadata": {},
   "source": [
    "#### Step 2.2: Create a multiple sequence alignment (MSA) of the remaining sequences\n",
    "\n",
    "To create an MSA, we can use the helper function `run_openprotein_mafft_alignment`, which uses OpenProtein's REST API to compute an MSA using MAFFT. This function accepts a list of sequences to align, and writes the resulting MSA to the specified filepath:"
   ]
  },
  {
   "cell_type": "code",
   "execution_count": 30,
   "metadata": {},
   "outputs": [
    {
     "name": "stdout",
     "output_type": "stream",
     "text": [
      "foldseek_pdb_alignment_path=PosixPath('data/PoET-2_inverse_folding_small_luc_example/MSAs/foldseek_7snt_pdb_result.fasta')\n"
     ]
    }
   ],
   "source": [
    "foldseek_pdb_alignment_path = run_openprotein_mafft_alignment(\n",
    "    sequences=list(foldseek_pdb_result_df[\"sequence\"]),\n",
    "    names=list(\n",
    "        foldseek_pdb_result_df[\"pdb_id\"] + \"_\" + foldseek_pdb_result_df[\"chain_id\"]\n",
    "    ),\n",
    "    output_path=DATA_DIR / \"MSAs\" / \"foldseek_7snt_pdb_result.fasta\",\n",
    "    verbose=True,\n",
    ")\n",
    "print(f\"{foldseek_pdb_alignment_path=}\")"
   ]
  },
  {
   "cell_type": "markdown",
   "metadata": {},
   "source": [
    "Once again, to ensure that the remainder of this example is deterministic, we'll use a precomputed MSA:"
   ]
  },
  {
   "cell_type": "code",
   "execution_count": 31,
   "metadata": {},
   "outputs": [],
   "source": [
    "foldseek_pdb_alignment_path = DATA_DIR / \"precomputed_foldseek_7snt_pdb_result.fasta\""
   ]
  },
  {
   "cell_type": "markdown",
   "metadata": {},
   "source": [
    "#### Steps 2.3, 2.4, and 2.5: Use the MSA to perform hierarchical clustering, and sample diverse sequences using the clustering\n",
    "\n",
    "For convenience, the full text of each step is reproduced below:\n",
    "\n",
    "- 2.3: Compute pairwise sequence identities using the MSA.\n",
    "- 2.4: Perform hierarchical clustering using pairwise identity as the distance metric.\n",
    "- 2.5: Select a desired number of clusters and extract the cluster centroids as representative sequences.\n",
    "\n",
    "Before we perform sampling, we need to determine the number of sequences to sample. We do this by computing the number of effective sequences (N<sub>eff</sub>) at 50% identity using the helper function `compute_n_eff`. We also limit the maximum sequence length to 500, since the sequence we want to generate only has length 171."
   ]
  },
  {
   "cell_type": "code",
   "execution_count": 32,
   "metadata": {},
   "outputs": [
    {
     "data": {
      "text/plain": [
       "98.73192556728901"
      ]
     },
     "execution_count": 32,
     "metadata": {},
     "output_type": "execute_result"
    }
   ],
   "source": [
    "foldseek_pdb_n_eff = compute_n_eff(\n",
    "    foldseek_pdb_alignment_path, identity=50, max_length=500\n",
    ")\n",
    "foldseek_pdb_n_eff"
   ]
  },
  {
   "cell_type": "markdown",
   "metadata": {},
   "source": [
    "N<sub>eff</sub> is about 100, so we'll sample that many sequences.\n",
    "\n",
    "The three substeps (Steps 2.3, 2.4, and 2.5) can be performed with the function `sample_n_from_alignment`."
   ]
  },
  {
   "cell_type": "code",
   "execution_count": 33,
   "metadata": {},
   "outputs": [
    {
     "name": "stdout",
     "output_type": "stream",
     "text": [
      "100\n"
     ]
    }
   ],
   "source": [
    "foldseek_pdb_sampled_idxs = sample_n_from_alignment(\n",
    "    foldseek_pdb_alignment_path, n=100, max_length=500\n",
    ")\n",
    "print(len(foldseek_pdb_sampled_idxs))"
   ]
  },
  {
   "cell_type": "markdown",
   "metadata": {},
   "source": [
    "The function returns a list of indices of the sequences in the MSA that should be included in our sample. Since the sequences in the MSA were obtained from the dataframe `foldseek_pdb_result_df`, we can index that dataframe to obtain the final set of sample sequences and their corresponding metadata:"
   ]
  },
  {
   "cell_type": "code",
   "execution_count": 34,
   "metadata": {},
   "outputs": [
    {
     "data": {
      "text/html": [
       "<div>\n",
       "<style scoped>\n",
       "    .dataframe tbody tr th:only-of-type {\n",
       "        vertical-align: middle;\n",
       "    }\n",
       "\n",
       "    .dataframe tbody tr th {\n",
       "        vertical-align: top;\n",
       "    }\n",
       "\n",
       "    .dataframe thead th {\n",
       "        text-align: right;\n",
       "    }\n",
       "</style>\n",
       "<table border=\"1\" class=\"dataframe\">\n",
       "  <thead>\n",
       "    <tr style=\"text-align: right;\">\n",
       "      <th></th>\n",
       "      <th>pdb_id</th>\n",
       "      <th>chain_id</th>\n",
       "      <th>sim</th>\n",
       "      <th>sequence</th>\n",
       "      <th>species</th>\n",
       "    </tr>\n",
       "  </thead>\n",
       "  <tbody>\n",
       "    <tr>\n",
       "      <th>245</th>\n",
       "      <td>5xnw</td>\n",
       "      <td>A</td>\n",
       "      <td>20.0</td>\n",
       "      <td>MQARALQDLFDAQGVGVPVEHALRMQAVARQTNTVFGIRPVERIVT...</td>\n",
       "      <td>Pseudomonas aeruginosa</td>\n",
       "    </tr>\n",
       "    <tr>\n",
       "      <th>248</th>\n",
       "      <td>3ge2</td>\n",
       "      <td>A</td>\n",
       "      <td>16.3</td>\n",
       "      <td>QPVAQPTDIDGTYTGQDDGDRITLVVTGTTGTWTELESDGDQKVKQ...</td>\n",
       "      <td>Streptococcus pneumoniae TIGR4</td>\n",
       "    </tr>\n",
       "    <tr>\n",
       "      <th>249</th>\n",
       "      <td>5xi9</td>\n",
       "      <td>A</td>\n",
       "      <td>13.2</td>\n",
       "      <td>HMGDKSENVQDLLLLDVAPLSLGLETAGGVMTALIKRNSTIPTKQT...</td>\n",
       "      <td>Homo sapiens</td>\n",
       "    </tr>\n",
       "    <tr>\n",
       "      <th>258</th>\n",
       "      <td>5e86</td>\n",
       "      <td>A</td>\n",
       "      <td>13.4</td>\n",
       "      <td>DVCPLTLGIETVGGVMTKLIPRNTVVPTKKSQIFSVGGTVTIKVYE...</td>\n",
       "      <td>Homo sapiens</td>\n",
       "    </tr>\n",
       "    <tr>\n",
       "      <th>568</th>\n",
       "      <td>3qnj</td>\n",
       "      <td>B</td>\n",
       "      <td>9.1</td>\n",
       "      <td>VLLLDVTPLSLGIETMGGVMTTLIAKNTTIPTKHSQVFSTAEDNQS...</td>\n",
       "      <td>Escherichia coli K-12</td>\n",
       "    </tr>\n",
       "  </tbody>\n",
       "</table>\n",
       "</div>"
      ],
      "text/plain": [
       "    pdb_id chain_id   sim                                           sequence  \\\n",
       "245   5xnw        A  20.0  MQARALQDLFDAQGVGVPVEHALRMQAVARQTNTVFGIRPVERIVT...   \n",
       "248   3ge2        A  16.3  QPVAQPTDIDGTYTGQDDGDRITLVVTGTTGTWTELESDGDQKVKQ...   \n",
       "249   5xi9        A  13.2  HMGDKSENVQDLLLLDVAPLSLGLETAGGVMTALIKRNSTIPTKQT...   \n",
       "258   5e86        A  13.4  DVCPLTLGIETVGGVMTKLIPRNTVVPTKKSQIFSVGGTVTIKVYE...   \n",
       "568   3qnj        B   9.1  VLLLDVTPLSLGIETMGGVMTTLIAKNTTIPTKHSQVFSTAEDNQS...   \n",
       "\n",
       "                            species  \n",
       "245          Pseudomonas aeruginosa  \n",
       "248  Streptococcus pneumoniae TIGR4  \n",
       "249                    Homo sapiens  \n",
       "258                    Homo sapiens  \n",
       "568           Escherichia coli K-12  "
      ]
     },
     "execution_count": 34,
     "metadata": {},
     "output_type": "execute_result"
    }
   ],
   "source": [
    "foldseek_pdb_result_df = foldseek_pdb_result_df.iloc[foldseek_pdb_sampled_idxs]\n",
    "foldseek_pdb_result_df.head()"
   ]
  },
  {
   "cell_type": "markdown",
   "metadata": {},
   "source": [
    "Recall that the dataframe `context_pdb_chains_df` contains the pdb ids and chain ids of the PDB structures used in the context in our small luciferase inverse folding example. Let's verify that the pdb ids and chain ids in `foldseek_pdb_result_df` match those in `context_pdb_chains_df`:"
   ]
  },
  {
   "cell_type": "code",
   "execution_count": 35,
   "metadata": {},
   "outputs": [
    {
     "name": "stdout",
     "output_type": "stream",
     "text": [
      "Success! The pdb ids and chain ids in the two dataframes match!\n"
     ]
    }
   ],
   "source": [
    "assert (\n",
    "    foldseek_pdb_result_df[[\"pdb_id\", \"chain_id\"]]\n",
    "    .reset_index(drop=True)\n",
    "    .equals(context_pdb_chains_df)\n",
    ")\n",
    "print(\"Success! The pdb ids and chain ids in the two dataframes match!\")"
   ]
  },
  {
   "cell_type": "markdown",
   "metadata": {},
   "source": [
    "Lastly, we download the structure files of the sampled sequences from the PDB:"
   ]
  },
  {
   "cell_type": "code",
   "execution_count": 36,
   "metadata": {},
   "outputs": [
    {
     "name": "stderr",
     "output_type": "stream",
     "text": [
      "100%|██████████| 100/100 [00:00<00:00, 88580.87it/s]\n"
     ]
    }
   ],
   "source": [
    "download_pdb_structures(\n",
    "    pdb_ids=list(foldseek_pdb_result_df[\"pdb_id\"]), output_dir=DATA_DIR / \"structures\"\n",
    ")"
   ]
  },
  {
   "cell_type": "markdown",
   "metadata": {},
   "source": [
    "### Step 2: Sample a diverse subset (from AFDB)\n",
    "\n",
    "Next, we process the Foldseek result file for hits found in AFDB. The process is essentially the same as processing the result file for PDB, with only minor adjustments. We show the code below, and make note of any adjustments."
   ]
  },
  {
   "cell_type": "markdown",
   "metadata": {},
   "source": [
    "#### Step 2.1: Filter out sequences with high identity to LUCI_OPLGR/NanoLuc to encourage novelty\n",
    "\n",
    "This step is the same as when processing PDB hits, except that we use the function `foldseek_afdb_result_to_dataframe` instead of `foldseek_pdb_result_to_dataframe` to read the results into a dataframe."
   ]
  },
  {
   "cell_type": "code",
   "execution_count": 37,
   "metadata": {},
   "outputs": [
    {
     "name": "stdout",
     "output_type": "stream",
     "text": [
      "len(foldseek_afdb_result_df)=1368\n"
     ]
    },
    {
     "data": {
      "text/html": [
       "<div>\n",
       "<style scoped>\n",
       "    .dataframe tbody tr th:only-of-type {\n",
       "        vertical-align: middle;\n",
       "    }\n",
       "\n",
       "    .dataframe tbody tr th {\n",
       "        vertical-align: top;\n",
       "    }\n",
       "\n",
       "    .dataframe thead th {\n",
       "        text-align: right;\n",
       "    }\n",
       "</style>\n",
       "<table border=\"1\" class=\"dataframe\">\n",
       "  <thead>\n",
       "    <tr style=\"text-align: right;\">\n",
       "      <th></th>\n",
       "      <th>name</th>\n",
       "      <th>sim</th>\n",
       "      <th>sequence</th>\n",
       "      <th>species</th>\n",
       "    </tr>\n",
       "  </thead>\n",
       "  <tbody>\n",
       "    <tr>\n",
       "      <th>0</th>\n",
       "      <td>AF-Q9GV45-F1-model_v4 Oplophorus-luciferin 2-m...</td>\n",
       "      <td>82.1</td>\n",
       "      <td>MAYSTLFIIALTAVVTQASSTQKSNLTFTLADFVGDWQQTAGYNQD...</td>\n",
       "      <td>Oplophorus gracilirostris</td>\n",
       "    </tr>\n",
       "    <tr>\n",
       "      <th>1</th>\n",
       "      <td>AF-A0A6V7X7K0-F1-model_v4 Hypothetical protein</td>\n",
       "      <td>18.9</td>\n",
       "      <td>MADKFVGKWKLTDSDNFNDYMKEVGVGMLARTGAAAVKPVLEFVVD...</td>\n",
       "      <td>Meloidogyne enterolobii</td>\n",
       "    </tr>\n",
       "    <tr>\n",
       "      <th>2</th>\n",
       "      <td>AF-F6W8U8-F1-model_v4 FABP domain-containing p...</td>\n",
       "      <td>16.6</td>\n",
       "      <td>MAKAVAGNWTLDRSENYDDFLKAAGMNSIKRAMAVKLGGSLSIENV...</td>\n",
       "      <td>Ciona intestinalis</td>\n",
       "    </tr>\n",
       "    <tr>\n",
       "      <th>3</th>\n",
       "      <td>AF-A0A267EGP2-F1-model_v4 FABP domain-containi...</td>\n",
       "      <td>20.1</td>\n",
       "      <td>MSTFEGKWQMTSSENFDAYMKALGTSFLVRKAAAAATPVQDIRCHG...</td>\n",
       "      <td>Macrostomum lignano</td>\n",
       "    </tr>\n",
       "    <tr>\n",
       "      <th>4</th>\n",
       "      <td>AF-C4N147-F1-model_v4 Sodium/calcium exchanger...</td>\n",
       "      <td>17.1</td>\n",
       "      <td>MAADLAGKWILESSENFDDYMKAVGVGMVMRKMANAATPTQEIKID...</td>\n",
       "      <td>Doryteuthis pealeii</td>\n",
       "    </tr>\n",
       "  </tbody>\n",
       "</table>\n",
       "</div>"
      ],
      "text/plain": [
       "                                                name   sim  \\\n",
       "0  AF-Q9GV45-F1-model_v4 Oplophorus-luciferin 2-m...  82.1   \n",
       "1     AF-A0A6V7X7K0-F1-model_v4 Hypothetical protein  18.9   \n",
       "2  AF-F6W8U8-F1-model_v4 FABP domain-containing p...  16.6   \n",
       "3  AF-A0A267EGP2-F1-model_v4 FABP domain-containi...  20.1   \n",
       "4  AF-C4N147-F1-model_v4 Sodium/calcium exchanger...  17.1   \n",
       "\n",
       "                                            sequence  \\\n",
       "0  MAYSTLFIIALTAVVTQASSTQKSNLTFTLADFVGDWQQTAGYNQD...   \n",
       "1  MADKFVGKWKLTDSDNFNDYMKEVGVGMLARTGAAAVKPVLEFVVD...   \n",
       "2  MAKAVAGNWTLDRSENYDDFLKAAGMNSIKRAMAVKLGGSLSIENV...   \n",
       "3  MSTFEGKWQMTSSENFDAYMKALGTSFLVRKAAAAATPVQDIRCHG...   \n",
       "4  MAADLAGKWILESSENFDDYMKAVGVGMVMRKMANAATPTQEIKID...   \n",
       "\n",
       "                     species  \n",
       "0  Oplophorus gracilirostris  \n",
       "1    Meloidogyne enterolobii  \n",
       "2         Ciona intestinalis  \n",
       "3        Macrostomum lignano  \n",
       "4        Doryteuthis pealeii  "
      ]
     },
     "execution_count": 37,
     "metadata": {},
     "output_type": "execute_result"
    }
   ],
   "source": [
    "foldseek_afdb_result_df = foldseek_afdb_result_to_dataframe(foldseek_afdb_result_path)\n",
    "print(f\"{len(foldseek_afdb_result_df)=}\")\n",
    "foldseek_afdb_result_df.head()"
   ]
  },
  {
   "cell_type": "code",
   "execution_count": 38,
   "metadata": {},
   "outputs": [
    {
     "name": "stdout",
     "output_type": "stream",
     "text": [
      "len(foldseek_afdb_result_df)=1367\n"
     ]
    }
   ],
   "source": [
    "# filter out sequences with high identity (>= 70%)\n",
    "foldseek_afdb_result_df = foldseek_afdb_result_df[foldseek_afdb_result_df[\"sim\"] < 70]\n",
    "print(f\"{len(foldseek_afdb_result_df)=}\")"
   ]
  },
  {
   "cell_type": "markdown",
   "metadata": {},
   "source": [
    "#### Step 2.2: Create a multiple sequence alignment (MSA) of the remaining sequences"
   ]
  },
  {
   "cell_type": "code",
   "execution_count": 39,
   "metadata": {},
   "outputs": [
    {
     "name": "stdout",
     "output_type": "stream",
     "text": [
      "foldseek_afdb_alignment_path=PosixPath('data/PoET-2_inverse_folding_small_luc_example/MSAs/foldseek_7snt_afdb_result.fasta')\n"
     ]
    }
   ],
   "source": [
    "foldseek_afdb_alignment_path = run_openprotein_mafft_alignment(\n",
    "    sequences=list(foldseek_afdb_result_df[\"sequence\"]),\n",
    "    names=list(foldseek_afdb_result_df[\"name\"]),\n",
    "    output_path=DATA_DIR / \"MSAs\" / \"foldseek_7snt_afdb_result.fasta\",\n",
    "    verbose=True,\n",
    ")\n",
    "print(f\"{foldseek_afdb_alignment_path=}\")"
   ]
  },
  {
   "cell_type": "code",
   "execution_count": 40,
   "metadata": {},
   "outputs": [],
   "source": [
    "foldseek_afdb_alignment_path = DATA_DIR / \"precomputed_foldseek_7snt_afdb_result.fasta\""
   ]
  },
  {
   "cell_type": "markdown",
   "metadata": {},
   "source": [
    "#### Steps 2.3, 2.4, and 2.5: Use the MSA to perform hierarchical clustering, and sample diverse sequences using the clustering\n",
    "\n",
    "When processing AFDB hits, we set a stricter filter by length (min length 100 and max length 300 instead of simply max length 500) because there are many more AFDB hits, so we can impose a stricter filter while retaining lots of sequence data."
   ]
  },
  {
   "cell_type": "code",
   "execution_count": 41,
   "metadata": {},
   "outputs": [
    {
     "data": {
      "text/plain": [
       "762.8258143602184"
      ]
     },
     "execution_count": 41,
     "metadata": {},
     "output_type": "execute_result"
    }
   ],
   "source": [
    "foldseek_afdb_n_eff = compute_n_eff(\n",
    "    foldseek_afdb_alignment_path, identity=50, min_length=100, max_length=300\n",
    ")\n",
    "foldseek_afdb_n_eff"
   ]
  },
  {
   "cell_type": "markdown",
   "metadata": {},
   "source": [
    "Even with the stricter sequence length filter, N<sub>eff</sub> is much larger for AFDB hits than PDB hits (by a factor of >7). Since it is generally not necessary to use PoET-2 with so many sequences in the context, and very large contexts makes inference slow, we sample just 300 sequences from the AFDB hits, instead of N<sub>eff</sub>=~763 hits."
   ]
  },
  {
   "cell_type": "code",
   "execution_count": 42,
   "metadata": {},
   "outputs": [
    {
     "name": "stdout",
     "output_type": "stream",
     "text": [
      "300\n"
     ]
    }
   ],
   "source": [
    "foldseek_afdb_sampled_idxs = sample_n_from_alignment(\n",
    "    foldseek_afdb_alignment_path, n=300, min_length=100, max_length=300\n",
    ")\n",
    "print(len(foldseek_afdb_sampled_idxs))"
   ]
  },
  {
   "cell_type": "code",
   "execution_count": 43,
   "metadata": {},
   "outputs": [
    {
     "data": {
      "text/html": [
       "<div>\n",
       "<style scoped>\n",
       "    .dataframe tbody tr th:only-of-type {\n",
       "        vertical-align: middle;\n",
       "    }\n",
       "\n",
       "    .dataframe tbody tr th {\n",
       "        vertical-align: top;\n",
       "    }\n",
       "\n",
       "    .dataframe thead th {\n",
       "        text-align: right;\n",
       "    }\n",
       "</style>\n",
       "<table border=\"1\" class=\"dataframe\">\n",
       "  <thead>\n",
       "    <tr style=\"text-align: right;\">\n",
       "      <th></th>\n",
       "      <th>name</th>\n",
       "      <th>sim</th>\n",
       "      <th>sequence</th>\n",
       "      <th>species</th>\n",
       "    </tr>\n",
       "  </thead>\n",
       "  <tbody>\n",
       "    <tr>\n",
       "      <th>1835</th>\n",
       "      <td>AF-A0A7J9FSS2-F1-model_v4 Uncharacterized protein</td>\n",
       "      <td>5.4</td>\n",
       "      <td>MVSLVITRNIFRLLYAYTTSLSIRCLQVATGQVASTGMVALSYVQK...</td>\n",
       "      <td>Gossypium trilobum</td>\n",
       "    </tr>\n",
       "    <tr>\n",
       "      <th>602</th>\n",
       "      <td>AF-A0A348WGM0-F1-model_v4 DUF490 domain-contai...</td>\n",
       "      <td>11.5</td>\n",
       "      <td>SDPEITFTSDPDLPQDEVIARLIFGRGIDSISAFQAAQLASAVATL...</td>\n",
       "      <td>Roseovarius nubinhibens</td>\n",
       "    </tr>\n",
       "    <tr>\n",
       "      <th>362</th>\n",
       "      <td>AF-A0A3D0H8P6-F1-model_v4 Uncharacterized protein</td>\n",
       "      <td>14.8</td>\n",
       "      <td>VESLLAQAKEQWDSDPAKAQKLLEQALSLDPNHFDAVMQLGRLLTV...</td>\n",
       "      <td>Syntrophobacteraceae bacterium</td>\n",
       "    </tr>\n",
       "    <tr>\n",
       "      <th>1896</th>\n",
       "      <td>AF-A0A5D2CRZ8-F1-model_v4 Uncharacterized protein</td>\n",
       "      <td>9.8</td>\n",
       "      <td>MADVIYHAMSFVDLQFPNGQLTYVSYEGLTTSAFLPLCGGLLQAQG...</td>\n",
       "      <td>Gossypium darwinii</td>\n",
       "    </tr>\n",
       "    <tr>\n",
       "      <th>909</th>\n",
       "      <td>AF-A0A645C051-F1-model_v4 Plastocyanin-like do...</td>\n",
       "      <td>7.2</td>\n",
       "      <td>METNVIEFEAKTDGDWFFHCHILYHMMAGMNRVFAVGDYQNPLLPD...</td>\n",
       "      <td>bioreactor metagenome</td>\n",
       "    </tr>\n",
       "  </tbody>\n",
       "</table>\n",
       "</div>"
      ],
      "text/plain": [
       "                                                   name   sim  \\\n",
       "1835  AF-A0A7J9FSS2-F1-model_v4 Uncharacterized protein   5.4   \n",
       "602   AF-A0A348WGM0-F1-model_v4 DUF490 domain-contai...  11.5   \n",
       "362   AF-A0A3D0H8P6-F1-model_v4 Uncharacterized protein  14.8   \n",
       "1896  AF-A0A5D2CRZ8-F1-model_v4 Uncharacterized protein   9.8   \n",
       "909   AF-A0A645C051-F1-model_v4 Plastocyanin-like do...   7.2   \n",
       "\n",
       "                                               sequence  \\\n",
       "1835  MVSLVITRNIFRLLYAYTTSLSIRCLQVATGQVASTGMVALSYVQK...   \n",
       "602   SDPEITFTSDPDLPQDEVIARLIFGRGIDSISAFQAAQLASAVATL...   \n",
       "362   VESLLAQAKEQWDSDPAKAQKLLEQALSLDPNHFDAVMQLGRLLTV...   \n",
       "1896  MADVIYHAMSFVDLQFPNGQLTYVSYEGLTTSAFLPLCGGLLQAQG...   \n",
       "909   METNVIEFEAKTDGDWFFHCHILYHMMAGMNRVFAVGDYQNPLLPD...   \n",
       "\n",
       "                             species  \n",
       "1835              Gossypium trilobum  \n",
       "602          Roseovarius nubinhibens  \n",
       "362   Syntrophobacteraceae bacterium  \n",
       "1896              Gossypium darwinii  \n",
       "909            bioreactor metagenome  "
      ]
     },
     "execution_count": 43,
     "metadata": {},
     "output_type": "execute_result"
    }
   ],
   "source": [
    "foldseek_afdb_result_df = foldseek_afdb_result_df.iloc[foldseek_afdb_sampled_idxs]\n",
    "foldseek_afdb_result_df.head()"
   ]
  },
  {
   "cell_type": "markdown",
   "metadata": {},
   "source": [
    "Let's verify that the sampled sequences match the sequences in the AFDB context:"
   ]
  },
  {
   "cell_type": "code",
   "execution_count": 44,
   "metadata": {},
   "outputs": [
    {
     "name": "stdout",
     "output_type": "stream",
     "text": [
      "Success! The sampled sequences and the sequences in the AFDB context match!\n"
     ]
    }
   ],
   "source": [
    "assert {s.encode() for s in foldseek_afdb_result_df[\"sequence\"]} == {\n",
    "    p.sequence for p in afdb_context_proteins\n",
    "}\n",
    "print(\"Success! The sampled sequences and the sequences in the AFDB context match!\")"
   ]
  },
  {
   "cell_type": "markdown",
   "metadata": {},
   "source": [
    "Since we didn't use structures for the AFDB hits, we don't need to download them."
   ]
  },
  {
   "cell_type": "markdown",
   "metadata": {},
   "source": [
    "### Conclusion\n",
    "\n",
    "We’ve now seen how to programmatically sample a diverse set of structural homologs to build a context for PoET-2. As with other forms of prompt engineering, designing the optimal context—choosing which sequences and structures to include—is both a science and an art. Don’t hesitate to experiment with alternative homology search methods and sampling strategies to suit your specific goals!"
   ]
  },
  {
   "cell_type": "code",
   "execution_count": null,
   "metadata": {},
   "outputs": [],
   "source": []
  }
 ],
 "metadata": {
  "kernelspec": {
   "display_name": "dev",
   "language": "python",
   "name": "python3"
  },
  "language_info": {
   "codemirror_mode": {
    "name": "ipython",
    "version": 3
   },
   "file_extension": ".py",
   "mimetype": "text/x-python",
   "name": "python",
   "nbconvert_exporter": "python",
   "version": "3.12.7"
  }
 },
 "nbformat": 4,
 "nbformat_minor": 2
}
