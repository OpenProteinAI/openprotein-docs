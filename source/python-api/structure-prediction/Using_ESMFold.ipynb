{
  "cells": [
    {
      "cell_type": "markdown",
      "metadata": {
        "id": "FeuwvvUs0yqk"
      },
      "source": [
        "# Using ESMFold\n",
        "\n",
        "This tutorial shows you how to use the ESMFold model to create a PDB of your protein sequence of interest. We recommend using ESMFold with single-chain sequences. If you have a multi-chain sequence, please visit [Using AlphaFold2](https://colab.research.google.com/drive/1hDACQWTuxfE_-WFVF4ivyPPebUizV-EA#scrollTo=AzVrAlxU4daB)."
      ]
    },
    {
      "cell_type": "markdown",
      "metadata": {
        "id": "8HtB4VsvwU4H"
      },
      "source": [
        "## What you need before getting started\n",
        "\n",
        "Specify a sequence of interest whose structure you want to predict. The example used here is interleukin 2:"
      ]
    },
    {
      "cell_type": "code",
      "execution_count": null,
      "metadata": {
        "id": "0QdAOCsW40pY"
      },
      "outputs": [],
      "source": [
        "sequence = \"MYRMQLLSCIALSLALVTNSAPTSSSTKKTQLQLEHLLLDLQMILNGINNYKNPKLTRMLTFKFYMPKKATELKHLQCLEEELKPLEEVLNLAQSKNFHLRPRDLISNINVIVLELKGMYRMQLLSCIALSLALVTNSAPTSSSTKKTQLQLEHLLLDLQMILNGINNYKNPKLTRMLTFKFYMPKKATELKHLQCLEEELKPLEEVLNLAQSKNFHLRPRDLISNINVIVLELKGSEP\"\n"
      ]
    },
    {
      "cell_type": "markdown",
      "metadata": {
        "id": "wUS6G7001sV2"
      },
      "source": [
        "## Predicting your sequence\n",
        "\n",
        "Call ESMFold on your sequence. The `num_recycles` hyperparameter allows the model to further refine structures using the previous cycle’s output as the new cycle’s input. This parameter accepts integers between 1 and 48.\n"
      ]
    },
    {
      "cell_type": "markdown",
      "metadata": {
        "id": "xV2gH7gxhbBw"
      },
      "source": [
        "Create the model object for ESMFold:"
      ]
    },
    {
      "cell_type": "code",
      "execution_count": null,
      "metadata": {
        "id": "XM5ksfsDhaot"
      },
      "outputs": [],
      "source": [
        "esmfoldmodel = session.fold.get_model('esmfold')\n",
        "esmfoldmodel.fold?"
      ]
    },
    {
      "cell_type": "markdown",
      "metadata": {
        "id": "xcGPjlCmhqqN"
      },
      "source": [
        "Send the sequence of interest to ESM for folding:"
      ]
    },
    {
      "cell_type": "code",
      "execution_count": null,
      "metadata": {
        "colab": {
          "base_uri": "https://localhost:8080/"
        },
        "id": "s8HB2XFt19oP",
        "outputId": "4b71fa9d-c77b-4b64-d228-429d4a7c3fad"
      },
      "outputs": [
        {
          "data": {
            "text/plain": [
              "<openprotein.api.fold.FoldResultFuture at 0x7e063a91b5b0>"
            ]
          },
          "execution_count": 4,
          "metadata": {},
          "output_type": "execute_result"
        }
      ],
      "source": [
        "esm = esmfoldmodel.fold([sequence.encode()], num_recycles=1)\n",
        "\n",
        "esm"
      ]
    },
    {
      "cell_type": "markdown",
      "metadata": {
        "id": "AZO2b3L3hu32"
      },
      "source": [
        "Wait for the job to complete with `wait_until_done()`:\n"
      ]
    },
    {
      "cell_type": "code",
      "execution_count": null,
      "metadata": {
        "colab": {
          "base_uri": "https://localhost:8080/"
        },
        "id": "lbhB5V9S2B8d",
        "outputId": "2721d4ae-d271-4474-90ab-642d649e266b"
      },
      "outputs": [
        {
          "name": "stderr",
          "output_type": "stream",
          "text": [
            "Waiting: 100%|██████████| 100/100 [00:00<00:00, 1345.39it/s, status=SUCCESS]\n"
          ]
        },
        {
          "data": {
            "text/plain": [
              "True"
            ]
          },
          "execution_count": 5,
          "metadata": {},
          "output_type": "execute_result"
        }
      ],
      "source": [
        "esm.wait_until_done(verbose=True, timeout=300)"
      ]
    },
    {
      "cell_type": "markdown",
      "metadata": {
        "id": "FA4bnBXb272e"
      },
      "source": [
        "Fetch the results with `get()`\n",
        "\n",
        "\n"
      ]
    },
    {
      "cell_type": "markdown",
      "metadata": {
        "id": "JAnnNiyDh8DJ"
      },
      "source": [
        "The results display a tuple containing the query sequence and the contents of the resulting PDB file:\n"
      ]
    },
    {
      "cell_type": "code",
      "execution_count": null,
      "metadata": {
        "colab": {
          "base_uri": "https://localhost:8080/"
        },
        "id": "4JvewKs43S2j",
        "outputId": "a95c59cb-7bf1-4ca2-f8ac-a49f3f9360c1"
      },
      "outputs": [
        {
          "name": "stdout",
          "output_type": "stream",
          "text": [
            "b'MYRMQLLSCIALSLALVTNSAPTSSSTKKTQLQLEHLLLDLQMILNGINNYKNPKLTRMLTFKFYMPKKATELKHLQCLEEELKPLEEVLNLAQSKNFHLRPRDLISNINVIVLELKGMYRMQLLSCIALSLALVTNSAPTSSSTKKTQLQLEHLLLDLQMILNGINNYKNPKLTRMLTFKFYMPKKATELKHLQCLEEELKPLEEVLNLAQSKNFHLRPRDLISNINVIVLELKGSEP'\n"
          ]
        }
      ],
      "source": [
        "result = esm.get()\n",
        "print(result[0][0])"
      ]
    },
    {
      "cell_type": "markdown",
      "metadata": {
        "id": "yzAO2KTYh5yy"
      },
      "source": [
        "Return a PDB file:"
      ]
    },
    {
      "cell_type": "code",
      "execution_count": null,
      "metadata": {
        "colab": {
          "base_uri": "https://localhost:8080/"
        },
        "id": "KaIXHXOT3YLz",
        "outputId": "91db94e7-b544-42a7-83b5-485a7bcc2996"
      },
      "outputs": [
        {
          "name": "stdout",
          "output_type": "stream",
          "text": [
            "PARENT N/A\n",
            "ATOM      1  N   MET A   1       0.462 -12.684 -24.850  1.00 49.54           N  \n",
            "ATOM      2  CA  MET A   1       1.650 -11.836 -24.842  1.00 51.45           C  \n",
            "ATOM      3  C   MET A   1       1.718 -11.007 -23.563  1.00 49.89           C  \n",
            "ATOM      4  CB  MET A   1       1.663 -10.916 -26.063  1.00 46.31           C  \n"
          ]
        }
      ],
      "source": [
        "print(\"\\n\".join( list(result[0][1].decode().split(\"\\n\")[0:5]) ) )"
      ]
    },
    {
      "cell_type": "markdown",
      "metadata": {
        "id": "Uor56p1qwQHo"
      },
      "source": [
        "## Next steps\n",
        "\n",
        "After the PDB contents are returned, save them as a file for use with your molecular visualization system of choice."
      ]
    }
  ],
  "metadata": {
    "colab": {
      "provenance": []
    },
    "kernelspec": {
      "display_name": "Python 3",
      "name": "python3"
    },
    "language_info": {
      "name": "python"
    }
  },
  "nbformat": 4,
  "nbformat_minor": 0
}
