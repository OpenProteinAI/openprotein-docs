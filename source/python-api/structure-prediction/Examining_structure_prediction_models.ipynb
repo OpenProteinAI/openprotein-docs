{
  "cells": [
    {
      "cell_type": "markdown",
      "metadata": {
        "id": "PLzfpvD6YN-V"
      },
      "source": [
        "# Examining structure prediction models\n",
        "\n",
        "This tutorial shows you how to view information about our structure prediction models, ESMFold and AlphaFold2. We recommend using ESMFold for single-chain sequences, and AlphaFold2 for multi-chain sequences."
      ]
    },
    {
      "cell_type": "markdown",
      "metadata": {
        "id": "g3D6SrGEtjin"
      },
      "source": [
        "## Viewing the models\n",
        "\n",
        "Access a list of the available folding models:"
      ]
    },
    {
      "cell_type": "code",
      "execution_count": null,
      "metadata": {
        "colab": {
          "base_uri": "https://localhost:8080/"
        },
        "id": "IMKfXUYkXSZI",
        "outputId": "23da961f-11a1-4b5c-e4ba-04a2b9bc33ac"
      },
      "outputs": [
        {
          "data": {
            "text/plain": [
              "[alphafold2, esmfold]"
            ]
          },
          "execution_count": 2,
          "metadata": {},
          "output_type": "execute_result"
        }
      ],
      "source": [
        "session.fold.list_models()"
      ]
    },
    {
      "cell_type": "markdown",
      "metadata": {
        "id": "fDod_IAvucYm"
      },
      "source": [
        "### ESMFold\n",
        "\n",
        "View more details of the fold function:"
      ]
    },
    {
      "cell_type": "code",
      "execution_count": null,
      "metadata": {
        "id": "zrAFrn9DzhLp"
      },
      "outputs": [],
      "source": [
        "esmfoldmodel = session.fold.get_model('esmfold')\n",
        "esmfoldmodel.fold?"
      ]
    },
    {
      "cell_type": "code",
      "execution_count": null,
      "metadata": {
        "colab": {
          "base_uri": "https://localhost:8080/"
        },
        "id": "9Gzu88w8zqJ0",
        "outputId": "2048e31f-8fa4-4439-c74c-47d4cae648ba"
      },
      "outputs": [
        {
          "data": {
            "text/plain": [
              "ModelMetadata(model_id='esmfold', description=ModelDescription(citation_title='Evolutionary-scale prediction of atomic level protein structure with a language model', doi='10.1126/science.ade2574', summary='esmfold_v1 model with 690M parameters, running on top of esm2_t36_3B_UR50D with 3B parameters.'), max_sequence_length=1024, dimension=-1, output_types=['fold'], input_tokens=['A', 'R', 'N', 'D', 'C', 'Q', 'E', 'G', 'H', 'I', 'L', 'K', 'M', 'F', 'P', 'S', 'T', 'W', 'Y', 'V', ':'], output_tokens=None, token_descriptions=[[TokenInfo(id=0, token='A', primary=True, description='Alanine')], [TokenInfo(id=1, token='R', primary=True, description='Arginine')], [TokenInfo(id=2, token='N', primary=True, description='Asparagine')], [TokenInfo(id=3, token='D', primary=True, description='Aspartic acid')], [TokenInfo(id=4, token='C', primary=True, description='Cysteine')], [TokenInfo(id=5, token='Q', primary=True, description='Glutamine')], [TokenInfo(id=6, token='E', primary=True, description='Glutamic acid')], [TokenInfo(id=7, token='G', primary=True, description='Glycine')], [TokenInfo(id=8, token='H', primary=True, description='Histidine')], [TokenInfo(id=9, token='I', primary=True, description='Isoleucine')], [TokenInfo(id=10, token='L', primary=True, description='Leucine')], [TokenInfo(id=11, token='K', primary=True, description='Lysine')], [TokenInfo(id=12, token='M', primary=True, description='Methionine')], [TokenInfo(id=13, token='F', primary=True, description='Phenylalanine')], [TokenInfo(id=14, token='P', primary=True, description='Proline')], [TokenInfo(id=15, token='S', primary=True, description='Serine')], [TokenInfo(id=16, token='T', primary=True, description='Threonine')], [TokenInfo(id=17, token='W', primary=True, description='Tryptophan')], [TokenInfo(id=18, token='Y', primary=True, description='Tyrosine')], [TokenInfo(id=19, token='V', primary=True, description='Valine')], [TokenInfo(id=20, token=':', primary=False, description='Chain token, used for polymers')]])"
            ]
          },
          "execution_count": 4,
          "metadata": {},
          "output_type": "execute_result"
        }
      ],
      "source": [
        "esmfoldmodel.metadata"
      ]
    },
    {
      "cell_type": "markdown",
      "metadata": {
        "id": "_tdy7qm8z588"
      },
      "source": [
        "### AlphaFold2\n",
        "\n",
        "View details of AlphaFold2:"
      ]
    },
    {
      "cell_type": "code",
      "execution_count": null,
      "metadata": {
        "id": "QCSr75Uyz-ms"
      },
      "outputs": [],
      "source": [
        "afmodel = session.fold.get_model('alphafold2')\n",
        "afmodel.fold?"
      ]
    },
    {
      "cell_type": "code",
      "execution_count": null,
      "metadata": {
        "colab": {
          "base_uri": "https://localhost:8080/"
        },
        "id": "cYcNKCqm0Ql5",
        "outputId": "5bf39e7f-4b47-42d6-8cf3-34790b202e1b"
      },
      "outputs": [
        {
          "data": {
            "text/plain": [
              "ModelMetadata(model_id='alphafold2', description=ModelDescription(citation_title='Highly accurate protein structure prediction with AlphaFold.', doi='10.1038/s41586-021-03819-2', summary='alphafold2 model.'), max_sequence_length=2048, dimension=-1, output_types=['fold'], input_tokens=['A', 'R', 'N', 'D', 'C', 'Q', 'E', 'G', 'H', 'I', 'L', 'K', 'M', 'F', 'P', 'S', 'T', 'W', 'Y', 'V', ':'], output_tokens=None, token_descriptions=[[TokenInfo(id=0, token='A', primary=True, description='Alanine')], [TokenInfo(id=1, token='R', primary=True, description='Arginine')], [TokenInfo(id=2, token='N', primary=True, description='Asparagine')], [TokenInfo(id=3, token='D', primary=True, description='Aspartic acid')], [TokenInfo(id=4, token='C', primary=True, description='Cysteine')], [TokenInfo(id=5, token='Q', primary=True, description='Glutamine')], [TokenInfo(id=6, token='E', primary=True, description='Glutamic acid')], [TokenInfo(id=7, token='G', primary=True, description='Glycine')], [TokenInfo(id=8, token='H', primary=True, description='Histidine')], [TokenInfo(id=9, token='I', primary=True, description='Isoleucine')], [TokenInfo(id=10, token='L', primary=True, description='Leucine')], [TokenInfo(id=11, token='K', primary=True, description='Lysine')], [TokenInfo(id=12, token='M', primary=True, description='Methionine')], [TokenInfo(id=13, token='F', primary=True, description='Phenylalanine')], [TokenInfo(id=14, token='P', primary=True, description='Proline')], [TokenInfo(id=15, token='S', primary=True, description='Serine')], [TokenInfo(id=16, token='T', primary=True, description='Threonine')], [TokenInfo(id=17, token='W', primary=True, description='Tryptophan')], [TokenInfo(id=18, token='Y', primary=True, description='Tyrosine')], [TokenInfo(id=19, token='V', primary=True, description='Valine')], [TokenInfo(id=20, token=':', primary=False, description='Chain token, used for polymers')]])"
            ]
          },
          "execution_count": 6,
          "metadata": {},
          "output_type": "execute_result"
        }
      ],
      "source": [
        "afmodel.metadata"
      ]
    },
    {
      "cell_type": "markdown",
      "metadata": {
        "id": "qquP_0uu0eLK"
      },
      "source": [
        "## Next steps\n",
        "\n",
        "Visualize the predicted structure of your sequence of interest using one of our structure prediction models. See [Using ESMFold](https://colab.research.google.com/drive/1moKUAeMlST9-B5rQW0qGzL1L2uX5HG26?usp=drive_link) and [Using AlphaFold2](https://colab.research.google.com/drive/1hDACQWTuxfE_-WFVF4ivyPPebUizV-EA#scrollTo=AzVrAlxU4daB) for instructions."
      ]
    }
  ],
  "metadata": {
    "colab": {
      "provenance": []
    },
    "kernelspec": {
      "display_name": "Python 3",
      "name": "python3"
    },
    "language_info": {
      "name": "python"
    }
  },
  "nbformat": 4,
  "nbformat_minor": 0
}
