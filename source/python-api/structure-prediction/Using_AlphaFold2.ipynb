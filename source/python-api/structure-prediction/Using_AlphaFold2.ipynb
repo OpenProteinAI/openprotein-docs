{
  "cells": [
    {
      "cell_type": "markdown",
      "metadata": {
        "id": "ODSNVxS33to7"
      },
      "source": [
        "# Using AlphaFold2\n",
        "\n",
        "This tutorial shows you how to use the AlphaFold2 model to create a PDB of your protein sequence of interest. We recommend using AlphaFold2 with multi-chain sequences. If you have a single-chain sequence, please visit [Using ESMFold](https://colab.research.google.com/drive/1moKUAeMlST9-B5rQW0qGzL1L2uX5HG26?usp=drive_link)."
      ]
    },
    {
      "cell_type": "markdown",
      "metadata": {
        "id": "AzVrAlxU4daB"
      },
      "source": [
        "## What you need before getting started\n",
        "\n",
        "Specify a sequence of interest whose structure you want to predict. The example used here is interleukin 2:"
      ]
    },
    {
      "cell_type": "code",
      "execution_count": null,
      "metadata": {
        "id": "PyscZwF53tat"
      },
      "outputs": [],
      "source": [
        "sequence = \"MYRMQLLSCIALSLALVTNSAPTSSSTKKTQLQLEHLLLDLQMILNGINNYKNPKLTRMLTFKFYMPKKATELKHLQCLEEELKPLEEVLNLAQSKNFHLRPRDLISNINVIVLELKGMYRMQLLSCIALSLALVTNSAPTSSSTKKTQLQLEHLLLDLQMILNGINNYKNPKLTRMLTFKFYMPKKATELKHLQCLEEELKPLEEVLNLAQSKNFHLRPRDLISNINVIVLELKGSEP\""
      ]
    },
    {
      "cell_type": "markdown",
      "metadata": {
        "id": "Iw_a4bMQ4-qO"
      },
      "source": [
        "## Creating an MSA\n",
        "\n",
        "AlphaFold2 requires evolutionary context from a multiple sequence alignment (MSA) to make structure predictions. This section demonstrates how to create an MSA based on the sequence you wish to fold.\n",
        "\n",
        "Start by getting the alphafold model object:"
      ]
    },
    {
      "cell_type": "code",
      "execution_count": null,
      "metadata": {
        "id": "4u743HGr5SHx"
      },
      "outputs": [],
      "source": [
        "afmodel = session.fold.get_model('alphafold2')\n",
        "afmodel.fold?"
      ]
    },
    {
      "cell_type": "code",
      "execution_count": null,
      "metadata": {
        "colab": {
          "base_uri": "https://localhost:8080/"
        },
        "id": "cIOg97ke5nZC",
        "outputId": "743a05b2-ddd5-4df0-8810-6043aa27301e"
      },
      "outputs": [
        {
          "data": {
            "text/plain": [
              "ModelMetadata(model_id='alphafold2', description=ModelDescription(citation_title='Highly accurate protein structure prediction with AlphaFold.', doi='10.1038/s41586-021-03819-2', summary='alphafold2 model.'), max_sequence_length=2048, dimension=-1, output_types=['fold'], input_tokens=['A', 'R', 'N', 'D', 'C', 'Q', 'E', 'G', 'H', 'I', 'L', 'K', 'M', 'F', 'P', 'S', 'T', 'W', 'Y', 'V', ':'], output_tokens=None, token_descriptions=[[TokenInfo(id=0, token='A', primary=True, description='Alanine')], [TokenInfo(id=1, token='R', primary=True, description='Arginine')], [TokenInfo(id=2, token='N', primary=True, description='Asparagine')], [TokenInfo(id=3, token='D', primary=True, description='Aspartic acid')], [TokenInfo(id=4, token='C', primary=True, description='Cysteine')], [TokenInfo(id=5, token='Q', primary=True, description='Glutamine')], [TokenInfo(id=6, token='E', primary=True, description='Glutamic acid')], [TokenInfo(id=7, token='G', primary=True, description='Glycine')], [TokenInfo(id=8, token='H', primary=True, description='Histidine')], [TokenInfo(id=9, token='I', primary=True, description='Isoleucine')], [TokenInfo(id=10, token='L', primary=True, description='Leucine')], [TokenInfo(id=11, token='K', primary=True, description='Lysine')], [TokenInfo(id=12, token='M', primary=True, description='Methionine')], [TokenInfo(id=13, token='F', primary=True, description='Phenylalanine')], [TokenInfo(id=14, token='P', primary=True, description='Proline')], [TokenInfo(id=15, token='S', primary=True, description='Serine')], [TokenInfo(id=16, token='T', primary=True, description='Threonine')], [TokenInfo(id=17, token='W', primary=True, description='Tryptophan')], [TokenInfo(id=18, token='Y', primary=True, description='Tyrosine')], [TokenInfo(id=19, token='V', primary=True, description='Valine')], [TokenInfo(id=20, token=':', primary=False, description='Chain token, used for polymers')]])"
            ]
          },
          "execution_count": 4,
          "metadata": {},
          "output_type": "execute_result"
        }
      ],
      "source": [
        "afmodel.metadata"
      ]
    },
    {
      "cell_type": "markdown",
      "metadata": {
        "id": "pJc2qaOsgNbj"
      },
      "source": [
        "Use your seed sequence to create an MSA:"
      ]
    },
    {
      "cell_type": "code",
      "execution_count": null,
      "metadata": {
        "colab": {
          "base_uri": "https://localhost:8080/"
        },
        "id": "zVnKV40u5okT",
        "outputId": "2f2f80ba-2fc7-4d91-958c-f027d8af0253"
      },
      "outputs": [
        {
          "name": "stdout",
          "output_type": "stream",
          "text": [
            "status=<JobStatus.SUCCESS: 'SUCCESS'> job_id='479a7434-d92f-46da-b785-f6dd6c250b1c' job_type=<JobType.align_align: '/align/align'> created_date=datetime.datetime(2024, 6, 25, 3, 2, 39, 606761) start_date=None end_date=datetime.datetime(2024, 6, 25, 3, 2, 39, 607001) prerequisite_job_id=None progress_message=None progress_counter=None num_records=None sequence_length=None msa_id='479a7434-d92f-46da-b785-f6dd6c250b1c'\n"
          ]
        }
      ],
      "source": [
        "msa = session.align.create_msa(sequence.encode())\n",
        "print(msa)"
      ]
    },
    {
      "cell_type": "markdown",
      "metadata": {
        "id": "lRmwiyti5vPI"
      },
      "source": [
        "Examine the outputs once the MSA is complete:"
      ]
    },
    {
      "cell_type": "code",
      "execution_count": null,
      "metadata": {
        "colab": {
          "base_uri": "https://localhost:8080/"
        },
        "id": "km8owclo5yPU",
        "outputId": "a239e432-8e41-4074-e534-8ae0a23a445b"
      },
      "outputs": [
        {
          "name": "stderr",
          "output_type": "stream",
          "text": [
            "Waiting: 100%|██████████| 100/100 [00:00<00:00, 1486.36it/s, status=SUCCESS]\n"
          ]
        },
        {
          "name": "stdout",
          "output_type": "stream",
          "text": [
            "[['seed', 'MYRMQLLSCIALSLALVTNSAPTSSSTKKTQLQLEHLLLDLQMILNGINNYKNPKLTRMLTFKFYMPKKATELKHLQCLEEELKPLEEVLNLAQSKNFHLRPRDLISNINVIVLELKGMYRMQLLSCIALSLALVTNSAPTSSSTKKTQLQLEHLLLDLQMILNGINNYKNPKLTRMLTFKFYMPKKATELKHLQCLEEELKPLEEVLNLAQSKNFHLRPRDLISNINVIVLELKGSEP'], ['UniRef100_G1RE34', 'MYRMQLLSCIALSLALVTNGAPTSSSTKKTQLQLEHLLLDLQMILNGINNYKNPKLTRMLTFKFYMPKKATELKHLQCLEEELKPLEEVLNLAQSKNFHLRPRDLISNINVIVQELKGSETTFMCEWITFCQSIISTLT----------------------------------------------------------------------------------------------------'], ['UniRef100_A0A2K5MA48', 'MYRMQLLSCIALSLALVANSAPTSSSTKKTQLQLEHLLLDLQMILNGINNYKNPKLTRMLTFKFYMPKKATELKHLQCLEEELKPLEEVLNLAQSKNFHLRTKDLISNINVIVLELKGSETTLMCEWITFCQSIISTLT----------------------------------------------------------------------------------------------------']]\n"
          ]
        }
      ],
      "source": [
        "msa.wait_until_done(verbose=True)\n",
        "\n",
        "print(list(msa.get_msa())[0:3])"
      ]
    },
    {
      "cell_type": "markdown",
      "metadata": {
        "id": "HSNIK5fn55zx"
      },
      "source": [
        "## Predicting your sequence\n",
        "\n",
        "Call the AlphaFold2 model:"
      ]
    },
    {
      "cell_type": "code",
      "execution_count": null,
      "metadata": {
        "id": "bioYZBP_58sq"
      },
      "outputs": [],
      "source": [
        "afmodel.fold?"
      ]
    },
    {
      "cell_type": "markdown",
      "metadata": {
        "id": "zqZH1x4Z6BZ7"
      },
      "source": [
        "Send the MSA to the fold endpoint and return a `fold` job to await:\n",
        "\n"
      ]
    },
    {
      "cell_type": "code",
      "execution_count": null,
      "metadata": {
        "colab": {
          "base_uri": "https://localhost:8080/"
        },
        "id": "7N6TsTlo6ASx",
        "outputId": "661e6de6-0f43-4a0b-b289-7dec7f65099d"
      },
      "outputs": [
        {
          "data": {
            "text/plain": [
              "<openprotein.api.fold.FoldResultFuture at 0x7d01d6d8c1f0>"
            ]
          },
          "execution_count": 8,
          "metadata": {},
          "output_type": "execute_result"
        }
      ],
      "source": [
        "fold = afmodel.fold(msa=msa, num_models=1 )\n",
        "\n",
        "fold"
      ]
    },
    {
      "cell_type": "code",
      "execution_count": null,
      "metadata": {
        "colab": {
          "base_uri": "https://localhost:8080/"
        },
        "id": "XlTPun2F6M3r",
        "outputId": "ad264864-68bd-415f-b1e6-1f07c356f30b"
      },
      "outputs": [
        {
          "name": "stderr",
          "output_type": "stream",
          "text": [
            "Waiting: 100%|██████████| 100/100 [02:30<00:00,  1.50s/it, status=SUCCESS]\n"
          ]
        },
        {
          "data": {
            "text/plain": [
              "True"
            ]
          },
          "execution_count": 10,
          "metadata": {},
          "output_type": "execute_result"
        }
      ],
      "source": [
        "fold.wait_until_done(verbose=True, timeout=600)"
      ]
    },
    {
      "cell_type": "markdown",
      "metadata": {
        "id": "GJN1ZoNV6oNK"
      },
      "source": [
        "Wait for the job to complete and fetch the results all with `wait()`:"
      ]
    },
    {
      "cell_type": "code",
      "execution_count": null,
      "metadata": {
        "colab": {
          "base_uri": "https://localhost:8080/"
        },
        "id": "AH0VmP016h4_",
        "outputId": "cf8b003d-27b7-4abe-bfdf-c4b973146987"
      },
      "outputs": [
        {
          "name": "stderr",
          "output_type": "stream",
          "text": [
            "Waiting: 100%|██████████| 100/100 [00:00<00:00, 980.44it/s, status=SUCCESS]\n"
          ]
        },
        {
          "data": {
            "text/plain": [
              "b'MYRMQLLSCIALSLALVTNSAPTSSSTKKTQLQLEHLLLDLQMILNGINNYKNPKLTRMLTFKFYMPKKATELKHLQCLEEELKPLEEVLNLAQSKNFHLRPRDLISNINVIVLELKGMYRMQLLSCIALSLALVTNSAPTSSSTKKTQLQLEHLLLDLQMILNGINNYKNPKLTRMLTFKFYMPKKATELKHLQCLEEELKPLEEVLNLAQSKNFHLRPRDLISNINVIVLELKGSEP'"
            ]
          },
          "execution_count": 11,
          "metadata": {},
          "output_type": "execute_result"
        }
      ],
      "source": [
        "result = fold.wait(verbose=True)\n",
        "result[0][0]"
      ]
    },
    {
      "cell_type": "markdown",
      "metadata": {
        "id": "XqjGKWk264-1"
      },
      "source": [
        "Return a PDB file:"
      ]
    },
    {
      "cell_type": "code",
      "execution_count": null,
      "metadata": {
        "colab": {
          "base_uri": "https://localhost:8080/"
        },
        "id": "IRz4B-xr625m",
        "outputId": "156757aa-7509-458f-cdc4-3d7621c802aa"
      },
      "outputs": [
        {
          "name": "stdout",
          "output_type": "stream",
          "text": [
            "MODEL     1                                                                     \n",
            "ATOM      1  N   MET A   1     -24.000   8.852  20.203  1.00 45.47           N  \n",
            "ATOM      2  CA  MET A   1     -23.406   9.719  19.188  1.00 45.47           C  \n",
            "ATOM      3  C   MET A   1     -22.453   8.938  18.281  1.00 45.47           C  \n",
            "ATOM      4  CB  MET A   1     -22.672  10.883  19.844  1.00 45.47           C  \n"
          ]
        }
      ],
      "source": [
        "print(\"\\n\".join( list(result[0][1].decode().split(\"\\n\")[0:5]) ) )"
      ]
    },
    {
      "cell_type": "markdown",
      "metadata": {
        "id": "skIkBdx46QTJ"
      },
      "source": [
        "## Next steps\n",
        "\n",
        "After the PDB contents are returned, save them as a file for use with your molecular visualization system of choice."
      ]
    }
  ],
  "metadata": {
    "colab": {
      "provenance": []
    },
    "kernelspec": {
      "display_name": "Python 3",
      "name": "python3"
    },
    "language_info": {
      "name": "python"
    }
  },
  "nbformat": 4,
  "nbformat_minor": 0
}
