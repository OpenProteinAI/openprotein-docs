{
 "cells": [
  {
   "cell_type": "markdown",
   "metadata": {
    "id": "ODSNVxS33to7"
   },
   "source": [
    "[![Open In Colab](../../_static/colab-badge.svg)](https://colab.research.google.com/github/OpenProteinAI/openprotein-docs/blob/main/source/python-api/structure-prediction/Using_AlphaFold2.ipynb)\n",
    "[![Get Notebook](../../_static/get-notebook-badge.svg)](https://raw.githubusercontent.com/OpenProteinAI/openprotein-docs/refs/heads/main/source/python-api/structure-prediction/Using_AlphaFold2.ipynb)\n",
    "[![View In GitHub](../../_static/view-in-github-badge.svg)](https://github.com/OpenProteinAI/openprotein-docs/blob/main/source/python-api/structure-prediction/Using_AlphaFold2.ipynb)\n",
    "\n",
    "# Using AlphaFold2\n",
    "\n",
    "This tutorial shows you how to use the AlphaFold2 model to create a PDB of your protein sequence of interest. We recommend using AlphaFold2 with multi-chain sequences. If you have a single-chain sequence, please visit [Using ESMFold](https://colab.research.google.com/drive/1moKUAeMlST9-B5rQW0qGzL1L2uX5HG26?usp=drive_link)."
   ]
  },
  {
   "cell_type": "markdown",
   "metadata": {
    "id": "AzVrAlxU4daB"
   },
   "source": [
    "## What you need before getting started\n",
    "\n",
    "Specify a sequence of interest whose structure you want to predict. The example used here is interleukin 2:"
   ]
  },
  {
   "cell_type": "code",
   "execution_count": 1,
   "metadata": {},
   "outputs": [
    {
     "name": "stdout",
     "output_type": "stream",
     "text": [
      "Requirement already satisfied: dotenv in /Users/markgee/Projects/openprotein/openprotein-python-private/.pixi/envs/dev/lib/python3.12/site-packages (0.9.9)\n",
      "Requirement already satisfied: python-dotenv in /Users/markgee/Projects/openprotein/openprotein-python-private/.pixi/envs/dev/lib/python3.12/site-packages (from dotenv) (1.1.1)\n",
      "Note: you may need to restart the kernel to use updated packages.\n"
     ]
    }
   ],
   "source": [
    "%pip install dotenv\n",
    "%load_ext dotenv\n",
    "%dotenv"
   ]
  },
  {
   "cell_type": "code",
   "execution_count": 2,
   "metadata": {
    "id": "PyscZwF53tat"
   },
   "outputs": [],
   "source": [
    "import openprotein\n",
    "\n",
    "# Login to your session\n",
    "session = openprotein.connect()\n",
    "\n",
    "# Specify your sequence\n",
    "sequence = \"MYRMQLLSCIALSLALVTNSAPTSSSTKKTQLQLEHLLLDLQMILNGINNYKNPKLTRMLTFKFYMPKKATELKHLQCLEEELKPLEEVLNLAQSKNFHLRPRDLISNINVIVLELKGMYRMQLLSCIALSLALVTNSAPTSSSTKKTQLQLEHLLLDLQMILNGINNYKNPKLTRMLTFKFYMPKKATELKHLQCLEEELKPLEEVLNLAQSKNFHLRPRDLISNINVIVLELKGSEP\""
   ]
  },
  {
   "cell_type": "markdown",
   "metadata": {
    "id": "Iw_a4bMQ4-qO"
   },
   "source": [
    "## Creating an MSA\n",
    "\n",
    "AlphaFold2 requires evolutionary context from a multiple sequence alignment (MSA) to make structure predictions. This section demonstrates how to create an MSA based on the sequence you wish to fold.\n",
    "\n",
    "Start by getting the alphafold model object:"
   ]
  },
  {
   "cell_type": "code",
   "execution_count": 3,
   "metadata": {
    "id": "4u743HGr5SHx"
   },
   "outputs": [
    {
     "data": {
      "text/plain": [
       "\u001b[31mSignature:\u001b[39m\n",
       "afmodel.fold(\n",
       "    proteins: list[openprotein.protein.Protein] | openprotein.align.msa.MSAFuture | \u001b[38;5;28;01mNone\u001b[39;00m = \u001b[38;5;28;01mNone\u001b[39;00m,\n",
       "    num_recycles: int | \u001b[38;5;28;01mNone\u001b[39;00m = \u001b[38;5;28;01mNone\u001b[39;00m,\n",
       "    num_models: int = \u001b[32m1\u001b[39m,\n",
       "    num_relax: int = \u001b[32m0\u001b[39m,\n",
       "    **kwargs,\n",
       ") -> openprotein.fold.future.FoldComplexResultFuture\n",
       "\u001b[31mDocstring:\u001b[39m\n",
       "Post sequences to alphafold model.\n",
       "\n",
       "Parameters\n",
       "----------\n",
       "proteins : List[Protein] | MSAFuture\n",
       "    List of protein sequences to fold. `Protein` objects must be tagged with an `msa`. Alternatively, supply an `MSAFuture` to use all query sequences as a multimer.\n",
       "num_recycles : int\n",
       "    number of times to recycle models\n",
       "num_models : int\n",
       "    number of models to train - best model will be used\n",
       "num_relax : int\n",
       "    maximum number of iterations for relax\n",
       "\n",
       "Returns\n",
       "-------\n",
       "job : Job\n",
       "\u001b[31mFile:\u001b[39m      ~/Projects/openprotein/openprotein-python-private/openprotein/fold/alphafold2.py\n",
       "\u001b[31mType:\u001b[39m      method"
      ]
     },
     "metadata": {},
     "output_type": "display_data"
    }
   ],
   "source": [
    "afmodel = session.fold.get_model('alphafold2')\n",
    "afmodel.fold?"
   ]
  },
  {
   "cell_type": "markdown",
   "metadata": {},
   "source": [
    "You can review some of the metadata about the AlphaFold2 model. Note that the input tokens for the model is `null` because it accepts an MSA instead of directly with sequences."
   ]
  },
  {
   "cell_type": "code",
   "execution_count": 4,
   "metadata": {
    "colab": {
     "base_uri": "https://localhost:8080/"
    },
    "id": "cIOg97ke5nZC",
    "outputId": "743a05b2-ddd5-4df0-8810-6043aa27301e"
   },
   "outputs": [
    {
     "data": {
      "text/plain": [
       "ModelMetadata(id='alphafold2', description=ModelDescription(citation_title='Highly accurate protein structure prediction with AlphaFold.', doi='10.1038/s41586-021-03819-2', summary='alphafold2 model.'), max_sequence_length=2400, dimension=-1, output_types=['fold'], input_tokens=None, output_tokens=None, token_descriptions=[[TokenInfo(id=0, token='A', primary=True, description='Alanine')], [TokenInfo(id=1, token='R', primary=True, description='Arginine')], [TokenInfo(id=2, token='N', primary=True, description='Asparagine')], [TokenInfo(id=3, token='D', primary=True, description='Aspartic acid')], [TokenInfo(id=4, token='C', primary=True, description='Cysteine')], [TokenInfo(id=5, token='Q', primary=True, description='Glutamine')], [TokenInfo(id=6, token='E', primary=True, description='Glutamic acid')], [TokenInfo(id=7, token='G', primary=True, description='Glycine')], [TokenInfo(id=8, token='H', primary=True, description='Histidine')], [TokenInfo(id=9, token='I', primary=True, description='Isoleucine')], [TokenInfo(id=10, token='L', primary=True, description='Leucine')], [TokenInfo(id=11, token='K', primary=True, description='Lysine')], [TokenInfo(id=12, token='M', primary=True, description='Methionine')], [TokenInfo(id=13, token='F', primary=True, description='Phenylalanine')], [TokenInfo(id=14, token='P', primary=True, description='Proline')], [TokenInfo(id=15, token='S', primary=True, description='Serine')], [TokenInfo(id=16, token='T', primary=True, description='Threonine')], [TokenInfo(id=17, token='W', primary=True, description='Tryptophan')], [TokenInfo(id=18, token='Y', primary=True, description='Tyrosine')], [TokenInfo(id=19, token='V', primary=True, description='Valine')], [TokenInfo(id=20, token=':', primary=False, description='Chain token, used for polymers')]])"
      ]
     },
     "execution_count": 4,
     "metadata": {},
     "output_type": "execute_result"
    }
   ],
   "source": [
    "afmodel.metadata"
   ]
  },
  {
   "cell_type": "markdown",
   "metadata": {
    "id": "pJc2qaOsgNbj"
   },
   "source": [
    "Use your seed sequence to create an MSA:"
   ]
  },
  {
   "cell_type": "code",
   "execution_count": 5,
   "metadata": {
    "colab": {
     "base_uri": "https://localhost:8080/"
    },
    "id": "zVnKV40u5okT",
    "outputId": "2f2f80ba-2fc7-4d91-958c-f027d8af0253"
   },
   "outputs": [
    {
     "name": "stdout",
     "output_type": "stream",
     "text": [
      "job_id='529f6b22-0bd0-415c-b5b7-71cbac737ae5' job_type=<JobType.align_align: '/align/align'> status=<JobStatus.PENDING: 'PENDING'> created_date=datetime.datetime(2025, 8, 20, 8, 40, 42, 50046) start_date=None end_date=None prerequisite_job_id=None progress_message=None progress_counter=None sequence_length=None\n"
     ]
    }
   ],
   "source": [
    "msa = session.align.create_msa(sequence.encode())\n",
    "print(msa)"
   ]
  },
  {
   "cell_type": "markdown",
   "metadata": {
    "id": "lRmwiyti5vPI"
   },
   "source": [
    "Examine the outputs once the MSA is complete:"
   ]
  },
  {
   "cell_type": "code",
   "execution_count": 6,
   "metadata": {
    "colab": {
     "base_uri": "https://localhost:8080/"
    },
    "id": "km8owclo5yPU",
    "outputId": "a239e432-8e41-4074-e534-8ae0a23a445b"
   },
   "outputs": [
    {
     "name": "stderr",
     "output_type": "stream",
     "text": [
      "Waiting: 100%|███████████████████████████████████████████████████████████████████████████████████████████████████| 100/100 [04:07<00:00,  2.48s/it, status=SUCCESS]\n"
     ]
    },
    {
     "name": "stdout",
     "output_type": "stream",
     "text": [
      "[('101', 'MYRMQLLSCIALSLALVTNSAPTSSSTKKTQLQLEHLLLDLQMILNGINNYKNPKLTRMLTFKFYMPKKATELKHLQCLEEELKPLEEVLNLAQSKNFHLRPRDLISNINVIVLELKGMYRMQLLSCIALSLALVTNSAPTSSSTKKTQLQLEHLLLDLQMILNGINNYKNPKLTRMLTFKFYMPKKATELKHLQCLEEELKPLEEVLNLAQSKNFHLRPRDLISNINVIVLELKGSEP'), ('UniRef100_G1RE34\\t243\\t0.764\\t2.142E-68\\t0\\t138\\t239\\t0\\t152\\t153', 'MYRMQLLSCIALSLALVTNGAPTSSSTKKTQLQLEHLLLDLQMILNGINNYKNPKLTRMLTFKFYMPKKATELKHLQCLEEELKPLEEVLNLAQSKNFHLRPRDLISNINVIVQELKGSETTFMCEyadetativeflnrWITFCQSIISTLT----------------------------------------------------------------------------------------------------'), ('UniRef100_A0A2K5MA48\\t234\\t0.753\\t1.582E-65\\t0\\t138\\t239\\t0\\t153\\t154', 'MYRMQLLSCIALSLALVANSAPTSSSTKKTQLQLEHLLLDLQMILNGINNYKNPKLTRMLTFKFYMPKKATELKHLQCLEEELKPLEEVLNLAQSKNFHLRdTKDLISNINVIVLELKGSETTLMCEyadetativeflnrWITFCQSIISTLT----------------------------------------------------------------------------------------------------')]\n"
     ]
    }
   ],
   "source": [
    "msa.wait_until_done(verbose=True)\n",
    "\n",
    "print(list(msa.get())[0:3])"
   ]
  },
  {
   "cell_type": "markdown",
   "metadata": {
    "id": "HSNIK5fn55zx"
   },
   "source": [
    "## Predicting your sequence\n",
    "\n",
    "Call the AlphaFold2 model:"
   ]
  },
  {
   "cell_type": "code",
   "execution_count": 7,
   "metadata": {
    "id": "bioYZBP_58sq"
   },
   "outputs": [
    {
     "data": {
      "text/plain": [
       "\u001b[31mSignature:\u001b[39m\n",
       "afmodel.fold(\n",
       "    proteins: list[openprotein.protein.Protein] | openprotein.align.msa.MSAFuture | \u001b[38;5;28;01mNone\u001b[39;00m = \u001b[38;5;28;01mNone\u001b[39;00m,\n",
       "    num_recycles: int | \u001b[38;5;28;01mNone\u001b[39;00m = \u001b[38;5;28;01mNone\u001b[39;00m,\n",
       "    num_models: int = \u001b[32m1\u001b[39m,\n",
       "    num_relax: int = \u001b[32m0\u001b[39m,\n",
       "    **kwargs,\n",
       ") -> openprotein.fold.future.FoldComplexResultFuture\n",
       "\u001b[31mDocstring:\u001b[39m\n",
       "Post sequences to alphafold model.\n",
       "\n",
       "Parameters\n",
       "----------\n",
       "proteins : List[Protein] | MSAFuture\n",
       "    List of protein sequences to fold. `Protein` objects must be tagged with an `msa`. Alternatively, supply an `MSAFuture` to use all query sequences as a multimer.\n",
       "num_recycles : int\n",
       "    number of times to recycle models\n",
       "num_models : int\n",
       "    number of models to train - best model will be used\n",
       "num_relax : int\n",
       "    maximum number of iterations for relax\n",
       "\n",
       "Returns\n",
       "-------\n",
       "job : Job\n",
       "\u001b[31mFile:\u001b[39m      ~/Projects/openprotein/openprotein-python-private/openprotein/fold/alphafold2.py\n",
       "\u001b[31mType:\u001b[39m      method"
      ]
     },
     "metadata": {},
     "output_type": "display_data"
    }
   ],
   "source": [
    "afmodel.fold?"
   ]
  },
  {
   "cell_type": "markdown",
   "metadata": {
    "id": "zqZH1x4Z6BZ7"
   },
   "source": [
    "Send the MSA to the fold endpoint and return a `fold` job to await:\n",
    "\n"
   ]
  },
  {
   "cell_type": "code",
   "execution_count": 9,
   "metadata": {
    "colab": {
     "base_uri": "https://localhost:8080/"
    },
    "id": "7N6TsTlo6ASx",
    "outputId": "661e6de6-0f43-4a0b-b289-7dec7f65099d"
   },
   "outputs": [
    {
     "data": {
      "text/plain": [
       "FoldJob(num_records=1, job_id='3a807932-700d-43ca-abf4-49d9f17447af', job_type=<JobType.embeddings_fold: '/embeddings/fold'>, status=<JobStatus.PENDING: 'PENDING'>, created_date=datetime.datetime(2025, 8, 20, 9, 39, 31, 14221, tzinfo=TzInfo(UTC)), start_date=None, end_date=None, prerequisite_job_id=None, progress_message=None, progress_counter=0, sequence_length=None)"
      ]
     },
     "execution_count": 9,
     "metadata": {},
     "output_type": "execute_result"
    }
   ],
   "source": [
    "fold = afmodel.fold(msa, num_models=1)\n",
    "\n",
    "fold"
   ]
  },
  {
   "cell_type": "code",
   "execution_count": null,
   "metadata": {
    "colab": {
     "base_uri": "https://localhost:8080/"
    },
    "id": "XlTPun2F6M3r",
    "outputId": "ad264864-68bd-415f-b1e6-1f07c356f30b"
   },
   "outputs": [
    {
     "name": "stderr",
     "output_type": "stream",
     "text": [
      "Waiting:   0%|                                                                                                             | 0/100 [01:39<?, ?it/s, status=RUNNING]"
     ]
    }
   ],
   "source": [
    "fold.wait_until_done(verbose=True, timeout=600)"
   ]
  },
  {
   "cell_type": "markdown",
   "metadata": {
    "id": "GJN1ZoNV6oNK"
   },
   "source": [
    "Wait for the job to complete and fetch the results all with `wait()`:"
   ]
  },
  {
   "cell_type": "code",
   "execution_count": null,
   "metadata": {
    "colab": {
     "base_uri": "https://localhost:8080/"
    },
    "id": "AH0VmP016h4_",
    "outputId": "cf8b003d-27b7-4abe-bfdf-c4b973146987"
   },
   "outputs": [
    {
     "name": "stderr",
     "output_type": "stream",
     "text": [
      "Waiting: 100%|██████████| 100/100 [00:00<00:00, 980.44it/s, status=SUCCESS]\n"
     ]
    },
    {
     "data": {
      "text/plain": [
       "b'MYRMQLLSCIALSLALVTNSAPTSSSTKKTQLQLEHLLLDLQMILNGINNYKNPKLTRMLTFKFYMPKKATELKHLQCLEEELKPLEEVLNLAQSKNFHLRPRDLISNINVIVLELKGMYRMQLLSCIALSLALVTNSAPTSSSTKKTQLQLEHLLLDLQMILNGINNYKNPKLTRMLTFKFYMPKKATELKHLQCLEEELKPLEEVLNLAQSKNFHLRPRDLISNINVIVLELKGSEP'"
      ]
     },
     "execution_count": 11,
     "metadata": {},
     "output_type": "execute_result"
    }
   ],
   "source": [
    "result = fold.wait(verbose=True)\n",
    "result[0][0]"
   ]
  },
  {
   "cell_type": "markdown",
   "metadata": {
    "id": "XqjGKWk264-1"
   },
   "source": [
    "Return a PDB file:"
   ]
  },
  {
   "cell_type": "code",
   "execution_count": null,
   "metadata": {
    "colab": {
     "base_uri": "https://localhost:8080/"
    },
    "id": "IRz4B-xr625m",
    "outputId": "156757aa-7509-458f-cdc4-3d7621c802aa"
   },
   "outputs": [
    {
     "name": "stdout",
     "output_type": "stream",
     "text": [
      "MODEL     1                                                                     \n",
      "ATOM      1  N   MET A   1     -24.000   8.852  20.203  1.00 45.47           N  \n",
      "ATOM      2  CA  MET A   1     -23.406   9.719  19.188  1.00 45.47           C  \n",
      "ATOM      3  C   MET A   1     -22.453   8.938  18.281  1.00 45.47           C  \n",
      "ATOM      4  CB  MET A   1     -22.672  10.883  19.844  1.00 45.47           C  \n"
     ]
    }
   ],
   "source": [
    "print(\"\\n\".join( list(result[0][1].decode().split(\"\\n\")[0:5]) ) )"
   ]
  },
  {
   "cell_type": "markdown",
   "metadata": {
    "id": "skIkBdx46QTJ"
   },
   "source": [
    "## Next steps\n",
    "\n",
    "After the PDB contents are returned, save them as a file for use with your molecular visualization system of choice."
   ]
  }
 ],
 "metadata": {
  "colab": {
   "provenance": []
  },
  "kernelspec": {
   "display_name": "openprotein-python",
   "language": "python",
   "name": "openprotein-python"
  },
  "language_info": {
   "codemirror_mode": {
    "name": "ipython",
    "version": 3
   },
   "file_extension": ".py",
   "mimetype": "text/x-python",
   "name": "python",
   "nbconvert_exporter": "python",
   "pygments_lexer": "ipython3",
   "version": "3.12.10"
  }
 },
 "nbformat": 4,
 "nbformat_minor": 4
}
