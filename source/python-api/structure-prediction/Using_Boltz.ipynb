{
 "cells": [
  {
   "cell_type": "markdown",
   "id": "3429c855-8e94-4b13-b76d-9514aa388269",
   "metadata": {},
   "source": [
    "<a target=\"_blank\" href=\"https://colab.research.google.com/github/OpenProteinAI/openprotein-docs/blob/develop/source/python-api/structure-prediction/Using_Boltz.ipynb\">\n",
    "  <img src=\"../../_static/colab-badge.svg\" alt=\"Open In Colab\"/>\n",
    "</a>\n",
    "<a target=\"_blank\" href=\"./Using_Boltz.ipynb\">\n",
    "  <img src=\"../../_static/download-notebook-badge.svg\" alt=\"Download Notebook\"/>\n",
    "</a>\n",
    "<a target=\"_blank\" href=\"https://github.com/OpenProteinAI/openprotein-docs/blob/develop/source/python-api/structure-prediction/Using_Boltz.ipynb\">\n",
    "  <img src=\"../../_static/view-in-github-badge.svg\" alt=\"View in GitHub\"/>\n",
    "</a>\n",
    "\n",
    "# Using Boltz\n",
    "This tutorial demonstrates how to use the Boltz-2 model to predict the\n",
    "structure of a molecular complex, including proteins and ligands. We\n",
    "will also show how to request and retrieve predicted binding affinities\n",
    "and other quality metrics.\n",
    "\n",
    "# What you need before getting started\n",
    "\n",
    "First, ensure you have an active `APISession`. Then, import the\n",
    "necessary classes for defining the components of your complex."
   ]
  },
  {
   "cell_type": "code",
   "execution_count": 1,
   "id": "7b7bc85f-0472-4e01-ac35-d7b15331cdea",
   "metadata": {},
   "outputs": [
    {
     "name": "stdout",
     "output_type": "stream",
     "text": [
      "env: OPENPROTEIN_USERNAME=admin\n",
      "env: OPENPROTEIN_PASSWORD=:open>PROTEIN2\n"
     ]
    }
   ],
   "source": [
    "%env OPENPROTEIN_USERNAME=admin\n",
    "%env OPENPROTEIN_PASSWORD=:open>PROTEIN2"
   ]
  },
  {
   "cell_type": "code",
   "execution_count": 2,
   "id": "aa67079e-312c-4b64-922c-d80d0b8e072b",
   "metadata": {},
   "outputs": [],
   "source": [
    "import openprotein\n",
    "from openprotein.protein import Protein\n",
    "from openprotein.chains import Ligand\n",
    "\n",
    "# Login to your session\n",
    "session = openprotein.connect()"
   ]
  },
  {
   "cell_type": "markdown",
   "id": "ec9a8864-c90f-4489-a606-8f515416c972",
   "metadata": {},
   "source": [
    "# Defining the Molecules\n",
    "\n",
    "Boltz-2 can model various molecule types, including proteins, ligands,\n",
    "DNA, and RNA. For this example, we'll predict the structure of a protein\n",
    "dimer in complex with a ligand.\n",
    "\n",
    "We will define a dimer and one ligand. When using Boltz models, we can\n",
    "specify that a `Protein` is meant to be an oligomer by specifying\n",
    "multiple ids in the `chain_id`. In this case, the protein is a dimer\n",
    "since we have `[\"A\", \"B\"]`.\n",
    "\n",
    "Note that for affinity prediction, the ligand that is binding must have\n",
    "a single, unique string for its `chain_id`."
   ]
  },
  {
   "cell_type": "code",
   "execution_count": 2,
   "id": "e698e738-d5d3-42dd-b78c-a6bb109c5f68",
   "metadata": {},
   "outputs": [],
   "source": [
    "# Define the proteins\n",
    "proteins = [\n",
    "    Protein(sequence=\"MVTPEGNVSLVDESLLVGVTDEDRAVRSAHQFYERLIGLWAPAVMEAAHELGVFAALAEAPADSGELARRLDCDARAMRVLLDALYAYDVIDRIHDTNGFRYLLSAEARECLLPGTLFSLVGKFMHDINVAWPAWRNLAEVVRHGARDTSGAESPNGIAQEDYESLVGGINFWAPPIVTTLSRKLRASGRSGDATASVLDVGCGTGLYSQLLLREFPRWTATGLDVERIATLANAQALRLGVEERFATRAGDFWRGGWGTGYDLVLFANIFHLQTPASAVRLMRHAAACLAPDGLVAVVDQIVDADREPKTPQDRFALLFAASMTNTGGGDAYTFQEYEEWFTAAGLQRIETLDTPMHRILLARRATEPSAVPEGQASENLYFQ\"),\n",
    "]\n",
    "proteins[0].chain_id = [\"A\", \"B\"]\n",
    "\n",
    "# You can also specify the proteins to be cyclic by setting the property\n",
    "# proteins[0].cyclic = True\n",
    "\n",
    "# Define the ligand\n",
    "# We use the three-letter code for S-adenosyl-L-homocysteine (SAH)\n",
    "# The chain_id 'C' is the \"binder\" we will reference later.\n",
    "ligands = [\n",
    "    Ligand(ccd=\"SAH\", chain_id=\"C\")\n",
    "]"
   ]
  },
  {
   "cell_type": "markdown",
   "id": "435b1eb0-51c1-4241-805c-eda60b30e0c0",
   "metadata": {},
   "source": [
    "# Create MSA for the Protein using Homology Search\n",
    "\n",
    "When using Boltz with protein sequences, we need to supply an MSA to\n",
    "help inform the model. Otherwise, we can also explicitly set it to run\n",
    "using single sequence mode. You have to specify `protein.msa` either an\n",
    "MSA or to use `Protein.single_sequence_mode`.\n",
    "\n",
    "Here, we will be building an MSA using our platform capabilities. Take\n",
    "note of the syntax here: creating an MSA with a complex uses ColabFold's\n",
    "syntax of joining sequences with `:`."
   ]
  },
  {
   "cell_type": "code",
   "execution_count": 3,
   "id": "f09c738e-b96e-43bf-905d-eb12c5290344",
   "metadata": {},
   "outputs": [],
   "source": [
    "msa_query = []\n",
    "for p in proteins:\n",
    "    if p.chain_id is not None and isinstance(p.chain_id, list):\n",
    "        for _ in p.chain_id:\n",
    "            msa_query.append(p.sequence.decode())\n",
    "    else:\n",
    "        msa_query.append(p.sequence.decode())\n",
    "msa = session.align.create_msa(seed=\":\".join(msa_query))\n",
    "\n",
    "for p in proteins:\n",
    "    p.msa = msa\n",
    "    # If desired, use single sequence mode to specify no msa\n",
    "    # p.msa = Protein.single_sequence_mode"
   ]
  },
  {
   "cell_type": "markdown",
   "id": "b015df20-d3ca-4fcf-85be-85765979737b",
   "metadata": {},
   "source": [
    "# Predicting the Complex Structure and Affinity\n",
    "\n",
    "Now, we can call the `fold` method on the Boltz-2 model.\n",
    "\n",
    "The key steps are:\n",
    "\n",
    "1.  Access the model via `session.fold.boltz2`.\n",
    "2.  Pass the defined proteins and ligands.\n",
    "3.  To request binding affinity prediction, include the `properties`\n",
    "    argument. This argument takes a list of dictionaries. For affinity,\n",
    "    you specify the `binder`, which must match the `chain_id` of a\n",
    "    ligand you defined."
   ]
  },
  {
   "cell_type": "code",
   "execution_count": 4,
   "id": "a6c53df3-97c3-49d4-9219-5667e1ae91d8",
   "metadata": {},
   "outputs": [
    {
     "data": {
      "text/plain": [
       "FoldJob(num_records=1, job_id='c198b1c9-3faf-4767-b8c2-2f96282d7951', job_type=<JobType.embeddings_fold: '/embeddings/fold'>, status=<JobStatus.PENDING: 'PENDING'>, created_date=datetime.datetime(2025, 8, 12, 23, 44, 36, 940506, tzinfo=TzInfo(UTC)), start_date=None, end_date=None, prerequisite_job_id=None, progress_message=None, progress_counter=0, sequence_length=None)"
      ]
     },
     "execution_count": 4,
     "metadata": {},
     "output_type": "execute_result"
    }
   ],
   "source": [
    "# Request the fold, including an affinity prediction for our ligand.\n",
    "fold_job = session.fold.boltz2.fold(\n",
    "    proteins=proteins,\n",
    "    ligands=ligands,\n",
    "    properties=[{\"affinity\": {\"binder\": \"C\"}}]\n",
    ")\n",
    "fold_job"
   ]
  },
  {
   "cell_type": "markdown",
   "id": "9444e3b7-53b8-4e85-baec-a68c5453483e",
   "metadata": {},
   "source": [
    "The call returns a `FoldComplexResultFuture` object immediately. This is\n",
    "a reference to your job running on the OpenProtein platform. You can\n",
    "monitor its status or wait for it to complete."
   ]
  },
  {
   "cell_type": "code",
   "execution_count": 5,
   "id": "e9ca9947-5e66-45c4-a278-a02361c5abfb",
   "metadata": {},
   "outputs": [
    {
     "name": "stderr",
     "output_type": "stream",
     "text": [
      "Waiting: 100%|████████████████████████████████████████████████████████████████████████████████████████████████████| 100/100 [06:37<00:00,  3.98s/it, status=SUCCESS]\n"
     ]
    },
    {
     "data": {
      "text/plain": [
       "True"
      ]
     },
     "execution_count": 5,
     "metadata": {},
     "output_type": "execute_result"
    }
   ],
   "source": [
    "# Wait for the job to finish\n",
    "fold_job.wait_until_done(verbose=True)"
   ]
  },
  {
   "cell_type": "markdown",
   "id": "9d5bc3d3-2124-4f41-b2a8-4fde0b24c2a9",
   "metadata": {},
   "source": [
    "# Retrieving the Results\n",
    "\n",
    "Once the job is complete, you can retrieve the various outputs from the\n",
    "future object.\n",
    "\n",
    "**Getting the Structure File** The primary result is the predicted\n",
    "structure, which you can retrieve as a mmCIF file. Note that we only implemented mmCIF output format for Boltz."
   ]
  },
  {
   "cell_type": "code",
   "execution_count": 6,
   "id": "f16952ef-a1a6-4319-a8ba-17a858e99288",
   "metadata": {},
   "outputs": [
    {
     "name": "stdout",
     "output_type": "stream",
     "text": [
      "1 51 LEU\n",
      "1 52 GLY\n",
      "1 53 VAL\n",
      "1 54 PHE\n",
      "1 55 ALA\n",
      "1 56 ALA\n",
      "1 57 LEU\n",
      "1 58 ALA\n",
      "1 59 GLU\n",
      "1 60 ALA\n"
     ]
    }
   ],
   "source": [
    "# Get the result as a PDB bytestring\n",
    "structure_data = fold_job.get()\n",
    "\n",
    "# You can now save this to a file\n",
    "with open(\"complex_structure.cif\", \"wb\") as f:\n",
    "    f.write(structure_data)\n",
    "\n",
    "print('\\n'.join(structure_data.decode().split('\\n')[100:110])) # Print a few lines"
   ]
  },
  {
   "cell_type": "markdown",
   "id": "3f4a8609-5f26-47c5-9e8b-a8a7cf677e1e",
   "metadata": {},
   "source": [
    "**Getting Confidence Metrics (pLDDT and PAE)** Boltz models provide\n",
    "confidence metrics compatible with AlphaFold.\n",
    "\n",
    "- **pLDDT** (predicted Local Distance Difference Test) gives a\n",
    "  per-residue confidence score from 0-100.\n",
    "- **PAE** (Predicted Aligned Error) provides an (1x) N x N matrix of expected\n",
    "  error between every pair of residues."
   ]
  },
  {
   "cell_type": "code",
   "execution_count": 7,
   "id": "0bde569b-cecc-45d4-851b-a14816fabbdf",
   "metadata": {},
   "outputs": [
    {
     "name": "stdout",
     "output_type": "stream",
     "text": [
      "pLDDT scores shape: (1, 794)\n",
      "First 10 scores: [0.54034674 0.5691333  0.6142335  0.6112128  0.65294373 0.65395063\n",
      " 0.6819881  0.77170086 0.8724277  0.95438474]\n",
      "\n",
      "PAE matrix shape: (1, 794, 794)\n"
     ]
    }
   ],
   "source": [
    "# Retrieve the pLDDT scores\n",
    "plddt_scores = fold_job.plddt\n",
    "print(\"pLDDT scores shape:\", plddt_scores.shape)\n",
    "print(\"First 10 scores:\", plddt_scores[0, :10])\n",
    "\n",
    "# Retrieve the PAE matrix\n",
    "pae_matrix = fold_job.pae\n",
    "print(\"\\nPAE matrix shape:\", pae_matrix.shape)\n"
   ]
  },
  {
   "cell_type": "markdown",
   "id": "0c499191-1044-4c17-897e-b455e813fcd9",
   "metadata": {},
   "source": [
    "**Getting Predicted Binding Affinity** Since we requested it, we can\n",
    "now retrieve the predicted binding affinity. The result is a\n",
    "`BoltzAffinity` object containing detailed predictions."
   ]
  },
  {
   "cell_type": "code",
   "execution_count": 8,
   "id": "805ec702-fb91-489e-8259-d890b4fb3520",
   "metadata": {},
   "outputs": [
    {
     "name": "stdout",
     "output_type": "stream",
     "text": [
      "Affinity for binder 'C':\n",
      "  predicted: -1.826643705368042\n",
      "  probability: 0.99260413646698\n",
      "  per model: {'affinity_pred_value1': -2.121795654296875, 'affinity_probability_binary1': 0.995862603187561, 'affinity_pred_value2': -1.5314918756484985, 'affinity_probability_binary2': 0.9893457293510437}\n"
     ]
    }
   ],
   "source": [
    "# Retrieve the affinity prediction\n",
    "affinity_data = fold_job.affinity\n",
    "\n",
    "print(\"Affinity for binder 'C':\")\n",
    "print(f\"  predicted: {affinity_data.affinity_pred_value}\")\n",
    "print(f\"  probability: {affinity_data.affinity_probability_binary}\")\n",
    "print(f\"  per model: {affinity_data.per_model}\")\n"
   ]
  }
 ],
 "metadata": {
  "kernelspec": {
   "display_name": "openprotein-python",
   "language": "python",
   "name": "openprotein-python"
  },
  "language_info": {
   "codemirror_mode": {
    "name": "ipython",
    "version": 3
   },
   "file_extension": ".py",
   "mimetype": "text/x-python",
   "name": "python",
   "nbconvert_exporter": "python",
   "pygments_lexer": "ipython3",
   "version": "3.12.10"
  }
 },
 "nbformat": 4,
 "nbformat_minor": 5
}
