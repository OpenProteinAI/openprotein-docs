{
  "cells": [
    {
      "cell_type": "markdown",
      "metadata": {
        "id": "NIBSId8GLGlp"
      },
      "source": [
        "#  Job management system\n",
        "\n",
        "The OpenProtein.AI platform operates with an asynchronous framework. When initiating a task using our Python client, the system schedules the job, returning a prompt response with a unique Job ID. This mechanism ensures that tasks requiring longer processing times do not necessitate immediate waiting.\n",
        "\n",
        "## About Future Classes\n",
        "\n",
        "When you submit a task, for example creating an MSA with `session.poet.create_msa()`, a Future Class is returned for results tracking and access. You can check a job’s status using the `refresh()` and `done()` methods on this Future Class. If you wish to wait for the results, you can use the `wait()` method, or the `get()` method if the results are already completed.\n",
        "\n",
        "## Accessing previous jobs\n",
        "\n",
        "Resume a prompt, PoET, MSA, or embeddings workflow using the `load_job` function with the unique job ID obtained during task execution. This method will return a Future Class, allowing you to continue from where you left off.\n",
        "\n",
        "\n",
        "\n"
      ]
    },
    {
      "cell_type": "code",
      "execution_count": null,
      "metadata": {
        "id": "Hf7pDweU3ixR"
      },
      "outputs": [],
      "source": [
        "job = session.load_job(job_id)"
      ]
    },
    {
      "cell_type": "markdown",
      "metadata": {
        "id": "StOQOy5N3qrM"
      },
      "source": [
        "To download an assay you have uploaded:"
      ]
    },
    {
      "cell_type": "code",
      "execution_count": null,
      "metadata": {
        "id": "gjC3RIlfWlTo"
      },
      "outputs": [],
      "source": [
        "assay = session.data.load_assay(assay_id)"
      ]
    }
  ],
  "metadata": {
    "colab": {
      "provenance": []
    },
    "kernelspec": {
      "display_name": "Python 3",
      "language": "python",
      "name": "python3"
    },
    "language_info": {
      "name": "python",
      "version": "3.12.2"
    }
  },
  "nbformat": 4,
  "nbformat_minor": 0
}
