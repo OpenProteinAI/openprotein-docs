{
  "cells": [
    {
      "cell_type": "markdown",
      "metadata": {
        "id": "yFK2ma7g4fR1"
      },
      "source": [
        "# Creating a prompt\n",
        "\n",
        "This tutorial shows you how to use your multiple sequence alignment (MSA) to make a prompt, which is an input that instructs the PoET model to generate the desired response. PoET uses a prompt made up of a set of related sequences that encode information about the fitness landscape of a protein of interest. These sequences may be homologs, family members, or some other grouping that represents your protein of interest.\n",
        "\n",
        "## What you need before getting started\n",
        "\n",
        "You need an MSA previously returned by the `create_msa` function. For more information, see [Creating an MSA](./creating-MSA.ipynb).\n",
        "\n",
        "\n"
      ]
    },
    {
      "cell_type": "markdown",
      "metadata": {
        "id": "XnXhgmXVbMxD"
      },
      "source": [
        "## Setting up your prompt\n",
        "\n",
        "Creating a prompt from an MSA involves filtering based on a number of criteria. Our goal is for the resulting prompt to successfully encode relevant evolutionary and fitness data that PoET can use as context when scoring or generating new sequences.\n",
        "\n",
        "This tutorial will use the default prompt settings:\n",
        "\n",
        "- `num_residues`: This controls the maximum number of residues (tokens) in the prompt. The default is 12288.\n",
        "\n",
        "- `num_sequences`: This controls the number of sequences. Use as an alternative to `num_residues`.\n",
        "\n",
        "- `method`: This parameter signifies the MSA sampling method to be used. The default method is `NEIGHBORS_NONGAP_NORM_NO_LIMIT`.\n",
        "\n",
        "- `homology_level`: Applicable for the neighbors methods only, this parameter controls the level of homology for sequences in the MSA. The value ranges between 0 and 1, with the default set at 0.8.\n",
        "\n",
        "- `max_similarity`: This defines the maximum similarity between sequences in the MSA and the seed, ranging between 0 and 1. By default, it is set to 1.0.\n",
        "\n",
        "- `min_similarity`: This determines the minimum similarity between sequences in the MSA and the seed, with values ranging from 0 to 1. The default is set at 0.0.\n",
        "\n",
        "- `always_include_seed_sequence`: This Boolean parameter controls whether to always include the seed sequence in the MSA or not. By default, it is set to False.\n",
        "\n",
        "We'll set the following arguments:\n",
        "\n",
        "- `num_ensemble_prompts`: Denotes the number of ensemble jobs to run. Each job will have a different prompt to generate a more diverse set of scores. We will set this value to 1.\n",
        "\n",
        "- `random_seed`: The seed allows you to make reproducible runs. We’ll set it to 42 here."
      ]
    },
    {
      "cell_type": "markdown",
      "metadata": {
        "id": "3e-4uL62B0jz"
      },
      "source": [
        "## Generating your prompt\n",
        "\n",
        "Sample from the MSA to generate a prompt:"
      ]
    },
    {
      "cell_type": "code",
      "execution_count": null,
      "metadata": {
        "colab": {
          "base_uri": "https://localhost:8080/"
        },
        "id": "B6VbM-TZ4YqH",
        "outputId": "998c7013-dd09-442d-ff77-6c68be6bd77e"
      },
      "outputs": [
        {
          "name": "stdout",
          "output_type": "stream",
          "text": [
            "status=<JobStatus.PENDING: 'PENDING'> job_id='cc91a87b-77a7-473a-be4a-0dae1eb30662' job_type=<JobType.align_prompt: '/align/prompt'> created_date=datetime.datetime(2024, 5, 9, 5, 33, 8, 975262) start_date=None end_date=None prerequisite_job_id=None progress_message=None progress_counter=None num_records=None sequence_length=None msa_id='cc91a87b-77a7-473a-be4a-0dae1eb30662' prompt_id='cc91a87b-77a7-473a-be4a-0dae1eb30662'\n"
          ]
        }
      ],
      "source": [
        "num_prompts = 3\n",
        "prompt = msa.sample_prompt(num_ensemble_prompts=num_prompts, random_seed=42)\n",
        "print(prompt)"
      ]
    },
    {
      "cell_type": "markdown",
      "metadata": {
        "id": "2pOGe6tb5XVX"
      },
      "source": [
        "\n",
        "OpenProtein.AI uses an asynchronous API, where potentially long running functions return a job ID that can be used to query for completed results. Return a job ID with:"
      ]
    },
    {
      "cell_type": "code",
      "execution_count": null,
      "metadata": {
        "colab": {
          "base_uri": "https://localhost:8080/",
          "height": 36
        },
        "id": "IwWh8umZ5V0p",
        "outputId": "4ca8ea6d-766b-406b-d42f-b65c95cfbce5"
      },
      "outputs": [
        {
          "data": {
            "application/vnd.google.colaboratory.intrinsic+json": {
              "type": "string"
            },
            "text/plain": [
              "'cc91a87b-77a7-473a-be4a-0dae1eb30662'"
            ]
          },
          "execution_count": 3,
          "metadata": {},
          "output_type": "execute_result"
        }
      ],
      "source": [
        "prompt.id"
      ]
    },
    {
      "cell_type": "markdown",
      "metadata": {
        "id": "K5LkYFvg5ZuJ"
      },
      "source": [
        "Wait for the job to complete with `prompt.wait`. View the results with"
      ]
    },
    {
      "cell_type": "code",
      "execution_count": null,
      "metadata": {
        "colab": {
          "base_uri": "https://localhost:8080/"
        },
        "id": "e03zBT6VzBWW",
        "outputId": "a4733d7d-7526-4e34-a77a-dd80d136e157"
      },
      "outputs": [
        {
          "data": {
            "text/plain": [
              "[Empty DataFrame\n",
              " Columns: [name, sequence]\n",
              " Index: [],\n",
              "              name                                           sequence\n",
              " 0   UPI001ED8170E  MDVLKKGFSMAKDGVVAAAEKTKAGVEEAAAKTKEGVIYVGNKTME...\n",
              " 1   UPI0018F740AA  MDMFMKGLNMAKEGVVAAAEKTKQGVTEAAEKTKEGVLYVGNRTRE...\n",
              " 2      A0A3Q2U6H0  MDVFMKGLSKAKEGMAVAAEKTKEGVAVAAEKTKEGVMFVGNKAKD...\n",
              " 3      A0A6I8S5G8  MDVFMKGLSKAKEGVVAAAEKTKQGVAEAAGKTKEGVLYVGSKTKE...\n",
              " 4   UPI001CE06301  MDALMKGFSMAKEGVVAAAEKTKAGMEEAAAKTKEGVMYVGNKTKE...\n",
              " ..            ...                                                ...\n",
              " 95     A0A8C2WLA4  MDALKKGLNMAKDGVVSAAEKTKAGVGGAATKTKEGVFYVGNKTME...\n",
              " 96  UPI000944B882  MDVFMKGLSKAKEGVVAAAEKTKQGVAEAAGKTKEGVLYVGSKTKE...\n",
              " 97     A0A3B1KG41  MDVLKKGFSIAKEGVVAAAEKTKAGVEEAAAKTKEGVMYVGTKTKE...\n",
              " 98     A0A0Q3TLY5  MDVFMKGLSKAKEGVVAAAEKTKQGVAEAAGKTKEGVLYVGSRTKE...\n",
              " 99     A0A7K8NI46  MDVFMKGLSKAKEGVVAAAEKTKQGVAEAAGKTKEGVLYVGRWAAE...\n",
              " \n",
              " [100 rows x 2 columns],\n",
              "              name                                           sequence\n",
              " 0   UPI0003317F87  MDVFMKGLSMAKEGVVAAAEKTKQGVTEAEKTKEGVLYVVAEKTKE...\n",
              " 1   UPI0003318113  MDVFKKGFSIAKEGVVGAVEKTKQGVTEAAEKTKEGVLYVGAKTKE...\n",
              " 2   UPI0018B0E974  MDVFKKGFSIAKEGVVGAVEKTKQGVTEAAEKTKEGVMYVGTKTKE...\n",
              " 3   UPI001CFABEBD  MDVFKKGFSMAKEGVVAAAEKTKQGVAEAAEKTKEGVMYVGTKTKE...\n",
              " 4      A0A4W4DNW5  MDVLMKGLSKAKDGVATAAEKTKQGVTGAAGMTKDGVLYVGESFAE...\n",
              " ..            ...                                                ...\n",
              " 95  UPI001C670E09  MDAFMKGLSKAKEGVVAAAEKTKQGVAEAAEKTKEGVLYVGSKTQG...\n",
              " 96     A0A0A7HRT6  MDVFMKGLSKAKEGVVAAAEKTKQGVAEAAGKTKEGVLYVGSKTKE...\n",
              " 97     A0A4W6ENE0  MDVLMKGFSMAKEGVVAAAEKTKAGMEEAAAKTKEGVMYVGSKTKE...\n",
              " 98  UPI0018B08E9F            QNEEGAPQEGILQDMPVDPDNEAYEMPSEEGYQDYEPEA\n",
              " 99     A0A673IWB3  MDVFMKGLSKAKEGMAVAAEKTKEGVAVAAEKTKEGVMFVGKTWMA...\n",
              " \n",
              " [100 rows x 2 columns]]"
            ]
          },
          "execution_count": 4,
          "metadata": {},
          "output_type": "execute_result"
        }
      ],
      "source": [
        "import pandas as pd\n",
        "prompt.wait()\n",
        "prompt_result = []\n",
        "for i in range(num_prompts):\n",
        "    prompt_result.append( pd.DataFrame( list(prompt.get_prompt(i)) , columns=['name','sequence']) )\n",
        "\n",
        "prompt_result"
      ]
    },
    {
      "cell_type": "markdown",
      "metadata": {
        "id": "4DKS5zHWAlNn"
      },
      "source": [
        "## Next steps\n",
        "\n",
        "See our [Align and MSA API](../api-reference/align.rst) page for more information.\n",
        "\n",
        "Now that you have a prompt, use it to [score sequences](./scoring-sequences.ipynb), perform a [single site analysis](./single-site-analysis.ipynb), or [generate *de novo* sequences](./generating-sequences.ipynb)."
      ]
    }
  ],
  "metadata": {
    "colab": {
      "provenance": []
    },
    "kernelspec": {
      "display_name": "Python 3",
      "name": "python3"
    },
    "language_info": {
      "name": "python"
    }
  },
  "nbformat": 4,
  "nbformat_minor": 0
}
