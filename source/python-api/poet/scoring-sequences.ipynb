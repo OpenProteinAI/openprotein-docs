{
  "cells": [
    {
      "cell_type": "markdown",
      "metadata": {
        "id": "6E44MVdtHrM3"
      },
      "source": [
        "# Scoring sequences\n",
        "\n",
        "This tutorial shows you how to use PoET to score sequences relative to a prompt. Scoring your sequences is a starting point for predicting the outcomes of a specific sequence or prioritizing variants for further analysis.\n",
        "\n",
        "PoET returns a log-likelihood score, which quantifies the model’s level of confidence in the generated sequence. The higher or less negative the score is, the more fit the sequence.\n",
        "\n",
        "Scoring is consistent when comparing sequences resulting from one individual prompt. We don’t recommend comparing scores across different prompts.\n",
        "\n",
        "## What you need before getting started\n",
        "\n",
        "You need a previously generated multiple sequence alignment (MSA) and a prompt. See [Creating an MSA](https://colab.research.google.com/drive/1uoX7g6CBYU_PQzh5mEI6WAR8MbVDLq9A#scrollTo=kB3_IJ-HZh-g) and [Creating a prompt](https://colab.research.google.com/drive/1BTuPVz4B5jLNvnsEXSJhSjBrOEWJ_ygj#scrollTo=XnXhgmXVbMxD) for more information.\n",
        "\n",
        "## Scoring your sequences\n",
        "\n",
        "Use the prompt object with the PoET model from embeddings to access various PoET functions. You also need to select the sequences from your dataset. This example uses fastpetase enzyme:"
      ]
    },
    {
      "cell_type": "code",
      "execution_count": null,
      "metadata": {
        "id": "U1BO5zUVI8kY"
      },
      "outputs": [],
      "source": [
        "poet = session.embedding.get_model(\"poet\")\n",
        "seqs = seqs = [\"MNFPRASRLMQAAVLGGLMAVSAAATAQTNPYARGPNPTAASLEASAGPFTVRSFTVSRPSGYGAGTVYYPTNAGGTVGAIAIVPGYTARQSSIKWWGPRLASHGFVVITIDTNSTFDYPSSRSSQQMAALRQVASLNGDSSSPIYGKVDTARMGVMGHSMGGGASLRSAANNPSLKAAIPQAPWDSQTNFSSVTVPTLIFACENDSIAPVNSHALPIYDSMSRNAKQFLEINGGSHSCANSGNSNQALIGKKGVAWMKRFMDNDTRYSTFACENPNSTAVSDFRTANCS\", \"MNFPRASRLMQAAVLGGLMAVSAAATAQTNPYARGPNPTAASLEASAGPFTVRSFTVSRPSGYGAGTVYYPTNAGGTVGAIAIVPGYTARQSSIKWWGPRLASHGFVVITIDTNSTLDQPESRSSQQMAALRQVASLNGTSSSPIYGKVDTARMGVMGWSMGGGGSLISAANNPSLKAAAPQAPWDSSTNFSSVTVPTLIFACENDSIAPVNSSALPIYDSMSRNAKQFLEINGGSHSCANSGNSNQALIGKKGVAWMKRFMDNDTRYSTFACENPNSTRVSDFRTANCS\", \"MNFPRASRLMQAAVLGGLMAVSAAATAQTNPYARGPNPTAASLEASAGPFTVRSFTVSRPSGYGAGTVYYPTNAGGTVGAIAIVPGYTARQSSIKWWGPRLASHGFVVITIDTNSTLDQPESRSSQQMAALRQVASLNGTSSSPIYGKVDTARMGVMGWSMGGGGSLISAANNPSLKAAAPQAPWDSSTNFSSVTVPTLIFACENDSIAPVNSSALPIYDSMSQNAKQFLEINGGSHSCANSGNSNQALIGKKGVAWMKRFMDNDTRYSTFACENPNSTRVSDFRTANCS\"]"
      ]
    },
    {
      "cell_type": "markdown",
      "metadata": {
        "id": "MglM1NlwQEIK"
      },
      "source": [
        "Next, send your sequences to the PoET scoring endpoint:"
      ]
    },
    {
      "cell_type": "code",
      "execution_count": null,
      "metadata": {
        "id": "DjJN-J7PHgkO"
      },
      "outputs": [],
      "source": [
        "poet = session.embedding.get_model('poet')"
      ]
    },
    {
      "cell_type": "markdown",
      "metadata": {
        "id": "xZhd_80eQQxW"
      },
      "source": [
        "Initiate scoring:"
      ]
    },
    {
      "cell_type": "code",
      "execution_count": null,
      "metadata": {
        "id": "3zIbmXmbJNY4"
      },
      "outputs": [],
      "source": [
        "scorejob = poet.score(prompt=prompt.prompt_id, sequences=seqs )"
      ]
    },
    {
      "cell_type": "markdown",
      "metadata": {
        "id": "psmHYCwgQUQ7"
      },
      "source": [
        "View your results:\n",
        "\n",
        "NB. one score per prompt, as defined when we first created the prompt"
      ]
    },
    {
      "cell_type": "code",
      "execution_count": null,
      "metadata": {
        "colab": {
          "base_uri": "https://localhost:8080/"
        },
        "id": "xTpkLy1VJPp8",
        "outputId": "5494af2b-087c-4567-ac64-443a3e28d4f9"
      },
      "outputs": [
        {
          "data": {
            "text/plain": [
              "[('sequence-1',\n",
              "  b'MNFPRASRLMQAAVLGGLMAVSAAATAQTNPYARGPNPTAASLEASAGPFTVRSFTVSRPSGYGAGTVYYPTNAGGTVGAIAIVPGYTARQSSIKWWGPRLASHGFVVITIDTNSTFDYPSSRSSQQMAALRQVASLNGDSSSPIYGKVDTARMGVMGHSMGGGASLRSAANNPSLKAAIPQAPWDSQTNFSSVTVPTLIFACENDSIAPVNSHALPIYDSMSRNAKQFLEINGGSHSCANSGNSNQALIGKKGVAWMKRFMDNDTRYSTFACENPNSTAVSDFRTANCS',\n",
              "  array([-732.73248291, -728.83435059, -728.38525391])),\n",
              " ('sequence-2',\n",
              "  b'MNFPRASRLMQAAVLGGLMAVSAAATAQTNPYARGPNPTAASLEASAGPFTVRSFTVSRPSGYGAGTVYYPTNAGGTVGAIAIVPGYTARQSSIKWWGPRLASHGFVVITIDTNSTLDQPESRSSQQMAALRQVASLNGTSSSPIYGKVDTARMGVMGWSMGGGGSLISAANNPSLKAAAPQAPWDSSTNFSSVTVPTLIFACENDSIAPVNSSALPIYDSMSRNAKQFLEINGGSHSCANSGNSNQALIGKKGVAWMKRFMDNDTRYSTFACENPNSTRVSDFRTANCS',\n",
              "  array([-739.41723633, -735.26245117, -735.42871094])),\n",
              " ('sequence-3',\n",
              "  b'MNFPRASRLMQAAVLGGLMAVSAAATAQTNPYARGPNPTAASLEASAGPFTVRSFTVSRPSGYGAGTVYYPTNAGGTVGAIAIVPGYTARQSSIKWWGPRLASHGFVVITIDTNSTLDQPESRSSQQMAALRQVASLNGTSSSPIYGKVDTARMGVMGWSMGGGGSLISAANNPSLKAAAPQAPWDSSTNFSSVTVPTLIFACENDSIAPVNSSALPIYDSMSQNAKQFLEINGGSHSCANSGNSNQALIGKKGVAWMKRFMDNDTRYSTFACENPNSTRVSDFRTANCS',\n",
              "  array([-741.50085449, -737.48962402, -737.53479004]))]"
            ]
          },
          "execution_count": 7,
          "metadata": {},
          "output_type": "execute_result"
        }
      ],
      "source": [
        "score_results = scorejob.wait()\n",
        "score_results"
      ]
    },
    {
      "cell_type": "markdown",
      "metadata": {
        "id": "MzQ0DQMwL3jO"
      },
      "source": [
        "## Next steps\n",
        "\n",
        "Learn more about the `score` function in our [PoET API](https://docs.openprotein.ai/api-python/embedding.html#openprotein.api.embedding.PoETModel.score) page.\n",
        "\n",
        "Now that you have a list of sequence variants of interest, you can use the PoET model to perform a [single site analysis] to score all single substitution variants of your parent sequence conditioned on the prompt. See [Using PoET single site analysis](https://colab.research.google.com/drive/1iWZkoQtQxbLoxrzhUeHFTNO5TtWoMIvX?usp=drive_link) for more information."
      ]
    }
  ],
  "metadata": {
    "colab": {
      "provenance": []
    },
    "kernelspec": {
      "display_name": "Python 3",
      "name": "python3"
    },
    "language_info": {
      "name": "python"
    }
  },
  "nbformat": 4,
  "nbformat_minor": 0
}
