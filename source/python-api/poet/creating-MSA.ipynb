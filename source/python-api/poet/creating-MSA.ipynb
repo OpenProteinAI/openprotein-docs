{
  "cells": [
    {
      "cell_type": "markdown",
      "metadata": {
        "id": "I6WTxoYFEIZH"
      },
      "source": [
        "# Creating a multiple sequence alignment\n",
        "\n",
        "Multiple sequence alignment (MSA) is a technique for biological sequence analysis, used to infer sequence homology and conduct phylogenetic analysis to assess the sequences’ shared evolutionary origins. You can create an MSA from a seed sequence, or upload a ready-made file. This tutorial covers the workflow for both options.\n",
        "\n",
        "\n"
      ]
    },
    {
      "cell_type": "markdown",
      "metadata": {
        "id": "uyW3A1_0G9__"
      },
      "source": [
        "## What you need before getting started\n",
        "\n",
        "You need either a seed sequence or an existing MSA formatted as a .fa, .fasta, or .csv file."
      ]
    },
    {
      "cell_type": "markdown",
      "metadata": {
        "id": "kB3_IJ-HZh-g"
      },
      "source": [
        "## Creating an MSA from a seed sequence\n",
        "\n",
        "Initiate the seed workflow by specifying your seed sequence. This example uses Alpha-synuclein:"
      ]
    },
    {
      "cell_type": "code",
      "execution_count": null,
      "metadata": {
        "id": "-gEYqrxK2KT1"
      },
      "outputs": [],
      "source": [
        "seed =  \"MDVFMKGLSKAKEGVVAAAEKTKQGVAEAAGKTKEGVLYVGSKTKEGVVHGVATVAEKTKEQVTNVGGAVVTGVTAVAQKTVEGAGSIAAATGFVKKDQLGKNEEGAPQEGILEDMPVDPDNEAYEMPSEEGYQDYEPEA\"\n"
      ]
    },
    {
      "cell_type": "markdown",
      "metadata": {
        "id": "q-e35sfy2LLh"
      },
      "source": [
        "Use the `Align` module to create an MSA from your seed sequence:"
      ]
    },
    {
      "cell_type": "code",
      "execution_count": null,
      "metadata": {
        "colab": {
          "base_uri": "https://localhost:8080/"
        },
        "id": "xW1a59MGED6g",
        "outputId": "b752c2d9-3506-4180-d0de-2d325ab3c54a"
      },
      "outputs": [
        {
          "name": "stdout",
          "output_type": "stream",
          "text": [
            "status=<JobStatus.SUCCESS: 'SUCCESS'> job_id='52d676fb-18bf-4803-9912-0380252b78e8' job_type=<JobType.align_align: '/align/align'> created_date=datetime.datetime(2024, 6, 13, 3, 12, 6, 555562) start_date=None end_date=datetime.datetime(2024, 6, 13, 3, 12, 6, 556046) prerequisite_job_id=None progress_message=None progress_counter=None num_records=None sequence_length=None msa_id='52d676fb-18bf-4803-9912-0380252b78e8'\n"
          ]
        }
      ],
      "source": [
        "msa = session.align.create_msa(seed.encode())\n",
        "print(msa)\n"
      ]
    },
    {
      "cell_type": "markdown",
      "metadata": {
        "id": "Da3yFf0x23wp"
      },
      "source": [
        "Wait for the results with:"
      ]
    },
    {
      "cell_type": "code",
      "execution_count": null,
      "metadata": {
        "id": "0oXL6IiI3DBL"
      },
      "outputs": [],
      "source": [
        "r = msa.wait()"
      ]
    },
    {
      "cell_type": "markdown",
      "metadata": {
        "id": "6mmpkVse3FKA"
      },
      "source": [
        "If you want to examine the inputs you have used:\n",
        "\n"
      ]
    },
    {
      "cell_type": "code",
      "execution_count": null,
      "metadata": {
        "colab": {
          "base_uri": "https://localhost:8080/"
        },
        "id": "FVtVWD6kAMHk",
        "outputId": "a7540664-cc62-4c09-c174-3c67fcab875f"
      },
      "outputs": [
        {
          "data": {
            "text/plain": [
              "[['seed',\n",
              "  'MDVFMKGLSKAKEGVVAAAEKTKQGVAEAAGKTKEGVLYVGSKTKEGVVHGVATVAEKTKEQVTNVGGAVVTGVTAVAQKTVEGAGSIAAATGFVKKDQLGKNEEGAPQEGILEDMPVDPDNEAYEMPSEEGYQDYEPEA']]"
            ]
          },
          "execution_count": 5,
          "metadata": {},
          "output_type": "execute_result"
        }
      ],
      "source": [
        "list(msa.get_seed())"
      ]
    },
    {
      "cell_type": "markdown",
      "metadata": {
        "id": "sm6XZ7XJ3YsW"
      },
      "source": [
        "View the resulting MSA:"
      ]
    },
    {
      "cell_type": "code",
      "execution_count": null,
      "metadata": {
        "colab": {
          "base_uri": "https://localhost:8080/"
        },
        "id": "796PMAA53bGu",
        "outputId": "679e320c-0b68-49e4-ded7-c7244c563237"
      },
      "outputs": [
        {
          "data": {
            "text/plain": [
              "<_csv.reader at 0x79cbbd0bd8c0>"
            ]
          },
          "execution_count": 6,
          "metadata": {},
          "output_type": "execute_result"
        }
      ],
      "source": [
        "msa.get_msa() # or msa.wait()"
      ]
    },
    {
      "cell_type": "markdown",
      "metadata": {
        "id": "VkAzFTBv0B6e"
      },
      "source": [
        "## Uploading an MSA\n",
        "\n",
        "If you have an existing MSA formatted as a .fa, .fasta, or .csv file, upload it with `upload_msa(msa_file)`.\n",
        "\n",
        "Upload and view your MSA:"
      ]
    },
    {
      "cell_type": "code",
      "execution_count": null,
      "metadata": {
        "colab": {
          "base_uri": "https://localhost:8080/"
        },
        "id": "J0VFy8_-aPJF",
        "outputId": "ad38aae6-1b2d-4762-ecbd-196bfa9e4ba7"
      },
      "outputs": [
        {
          "data": {
            "text/plain": [
              "[['101', 'AAALLLPPP']]"
            ]
          },
          "execution_count": 7,
          "metadata": {},
          "output_type": "execute_result"
        }
      ],
      "source": [
        "f = \">101\\nAAALLLPPP\"\n",
        "\n",
        "msa = session.align.upload_msa(f.encode())\n",
        "\n",
        "list(msa.get_msa())"
      ]
    },
    {
      "cell_type": "markdown",
      "metadata": {
        "id": "De665kIMZzCV"
      },
      "source": [
        "## Next steps\n",
        "\n",
        "Learn more about the MSAs on our [MSA API](https://docs.openprotein.ai/api-python/align.html) page.\n",
        "\n",
        "You can use your MSA to create a prompt and start generating, scoring, and analyzing sequences with our state-of-the-art PoET model. See [Creating a prompt](https://colab.research.google.com/drive/1BTuPVz4B5jLNvnsEXSJhSjBrOEWJ_ygj?usp=drive_link) for instructions.\n",
        "\n",
        "You can also use your MSA with our structure prediction tool to visualize the 3D structure of sequence. See [Structure prediction](https://docs.openprotein.ai/api-python/demos/fold_demo.html) for more information."
      ]
    }
  ],
  "metadata": {
    "colab": {
      "provenance": []
    },
    "kernelspec": {
      "display_name": "Python 3",
      "name": "python3"
    },
    "language_info": {
      "name": "python"
    }
  },
  "nbformat": 4,
  "nbformat_minor": 0
}
