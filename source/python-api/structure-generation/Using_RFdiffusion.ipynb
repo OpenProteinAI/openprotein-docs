{
 "cells": [
  {
   "cell_type": "markdown",
   "id": "4ff86973-c86d-49e3-9b1b-9f9f1f251b76",
   "metadata": {},
   "source": [
    "<a target=\"_blank\" href=\"https://colab.research.google.com/github/OpenProteinAI/openprotein-docs/blob/develop/source/python-api/structure-prediction/Using_Boltz.ipynb\">\n",
    "  <img src=\"../../_static/colab-badge.svg\" alt=\"Open In Colab\"/>\n",
    "</a>\n",
    "<a target=\"_blank\" href=\"./Using_Boltz.ipynb\">\n",
    "  <img src=\"../../_static/download-notebook-badge.svg\" alt=\"Download Notebook\"/>\n",
    "</a>\n",
    "<a target=\"_blank\" href=\"https://github.com/OpenProteinAI/openprotein-docs/blob/develop/source/python-api/structure-prediction/Using_Boltz.ipynb\">\n",
    "  <img src=\"../../_static/view-in-github-badge.svg\" alt=\"View in GitHub\"/>\n",
    "</a>\n",
    "\n",
    "# Using RFdiffusion\n",
    "This tutorial shows you how to use the RFdiffusion model to design novel\n",
    "protein structures.\n",
    "\n",
    "The examples here are largely lifted from the [original\n",
    "documentation](https://github.com/RosettaCommons/RFdiffusion) but\n",
    "adapted to show how it can be run using the OpenProtein platform, which\n",
    "can then be combined with our other workflows!\n",
    "\n",
    "Full credit for the examples and use cases go to the authors of\n",
    "RFdiffusion!\n",
    "\n",
    "## Unconditional monomer design\n",
    "\n",
    "The basic execution of RFdiffusion would be an unconditional design of a\n",
    "protein structure of a certain length. You would need 2 things:\n",
    "\n",
    "1.  Length of the protein\n",
    "2.  Number of designs `N` desired"
   ]
  },
  {
   "cell_type": "code",
   "execution_count": 1,
   "id": "051f019d-da3f-4abe-b103-cf0e0970d146",
   "metadata": {},
   "outputs": [],
   "source": [
    "length = 150\n",
    "N = 3"
   ]
  },
  {
   "cell_type": "code",
   "execution_count": 2,
   "id": "185570f8-1043-4b26-9692-3036fb357e54",
   "metadata": {},
   "outputs": [
    {
     "data": {
      "text/plain": [
       "\u001b[31mSignature:\u001b[39m\n",
              "rfdiffusion.generate(\n",
       "    n: int = \u001b[32m1\u001b[39m,\n",
       "    structure_file: str | bytes | typing.BinaryIO | \u001b[38;5;28;01mNone\u001b[39;00m = \u001b[38;5;28;01mNone\u001b[39;00m,\n",
       "    contigs: int | str | \u001b[38;5;28;01mNone\u001b[39;00m = \u001b[38;5;28;01mNone\u001b[39;00m,\n",
       "    inpaint_seq: str | \u001b[38;5;28;01mNone\u001b[39;00m = \u001b[38;5;28;01mNone\u001b[39;00m,\n",
       "    provide_seq: str | \u001b[38;5;28;01mNone\u001b[39;00m = \u001b[38;5;28;01mNone\u001b[39;00m,\n",
       "    hotspot: str | \u001b[38;5;28;01mNone\u001b[39;00m = \u001b[38;5;28;01mNone\u001b[39;00m,\n",
       "    T: int | \u001b[38;5;28;01mNone\u001b[39;00m = \u001b[38;5;28;01mNone\u001b[39;00m,\n",
       "    partial_T: int | \u001b[38;5;28;01mNone\u001b[39;00m = \u001b[38;5;28;01mNone\u001b[39;00m,\n",
       "    use_active_site_model: bool | \u001b[38;5;28;01mNone\u001b[39;00m = \u001b[38;5;28;01mNone\u001b[39;00m,\n",
       "    use_beta_model: bool | \u001b[38;5;28;01mNone\u001b[39;00m = \u001b[38;5;28;01mNone\u001b[39;00m,\n",
       "    symmetry: Optional[Literal[\u001b[33m'cyclic'\u001b[39m, \u001b[33m'dihedral'\u001b[39m, \u001b[33m'tetrahedral'\u001b[39m]] = \u001b[38;5;28;01mNone\u001b[39;00m,\n",
       "    order: int | \u001b[38;5;28;01mNone\u001b[39;00m = \u001b[38;5;28;01mNone\u001b[39;00m,\n",
       "    add_potential: bool | \u001b[38;5;28;01mNone\u001b[39;00m = \u001b[38;5;28;01mNone\u001b[39;00m,\n",
       "    scaffold_target_structure_file: str | bytes | typing.BinaryIO | \u001b[38;5;28;01mNone\u001b[39;00m = \u001b[38;5;28;01mNone\u001b[39;00m,\n",
       "    scaffold_target_use_struct: bool = \u001b[38;5;28;01mFalse\u001b[39;00m,\n",
       "    **kwargs,\n",
       ") -> openprotein.models.foundation.rfdiffusion.RFdiffusionFuture\n",
       "\u001b[31mDocstring:\u001b[39m\n",
       "Run a protein structure generate job using RFdiffusion.\n",
       "\n",
       "Parameters\n",
       "----------\n",
       "n : int, optional\n",
       "    The number of unique design trajectories to run (default is 1).\n",
       "structure_file : BinaryIO, optional\n",
       "    An input PDB file (as a file-like object) used for inpainting or other\n",
       "    guided design tasks where parts of an existing structure are provided.\n",
       "contigs : int, str, optional\n",
       "    Defines the lengths and connectivity of chain segments for the desired\n",
       "    structure, specified in RFdiffusion's contig string format.\n",
       "    Required for most design tasks. Example: 150, '10-20/A100-110/10-20' for a\n",
       "    binder design.\n",
       "inpaint_seq : str, optional\n",
       "    A string specifying the regions in the input structure to mask for\n",
       "    in-painting. Example: 'A1-A10/A30-40'.\n",
       "provide_seq : str, optional\n",
       "    A string specifying which segments of the contig have a provided\n",
       "    sequence. Example: 'A1-A10/A30-40'.\n",
       "hotspot : str, optional\n",
       "    A string specifying hotspot residues to constrain during design,\n",
       "    typically for functional sites. Example: 'A10,A12,A14'.\n",
       "T : int, optional\n",
       "    The number of timesteps for the diffusion process.\n",
       "partial_T : int, optional\n",
       "    The number of timesteps for partial diffusion.\n",
       "use_active_site_model : bool, optional\n",
       "    If True, uses the active site model checkpoint, which has been finetuned to\n",
       "    better keep very small motifs in place in the output for motif scaffolding\n",
       "    (default is False).\n",
       "use_beta_model : bool, optional\n",
       "    If True, uses the complex beta model checkpoint, which generates a\n",
       "    greater diversity of topologies but has not been extensively\n",
       "    experimentally validated (default is False).\n",
       "symmetry : {\"cyclic\", \"dihedral\", \"tetrahedral\"}, optional\n",
       "    The type of symmetry to apply to the design.\n",
       "order : int, optional\n",
       "    The order of the symmetry (e.g., 3 for C3 or D3 symmetry).\n",
       "    Must be provided if `symmetry` is set.\n",
       "add_potential : bool, optional\n",
       "    A flag to toggle an additional potential to guide the design.\n",
       "    This defaults to true in the case of symmetric design.\n",
       "scaffold_target_structure_file : str, bytes, BinaryIO, optional\n",
       "    A PDB file (which can be the text string or bytes or the file-like\n",
       "    object) containing a scaffold structure to be used as a structural\n",
       "    guide. It could also be used as a target when doing scaffold guided\n",
       "scaffold_target_use_struct : bool, optional\n",
       "    Whether or not to use the provided scaffold structure as a target.\n",
       "    Otherwise, it is used only as a topology guide.\n",
       "\n",
       "Other Parameters\n",
       "----------------\n",
       "**kwargs : dict\n",
       "    Additional keyword args that are passed directly to the rfdiffusion\n",
       "    inference script. Overwrites any preceding options.\n",
       "\n",
       "Returns\n",
       "-------\n",
       "RFdiffusionFuture\n",
       "    A future object that can be used to retrieve the results of the design\n",
       "    job upon completion.\n",
       "\u001b[31mFile:\u001b[39m      ~/Projects/openprotein/openprotein-python-private/openprotein/models/foundation/rfdiffusion.py\n",
       "\u001b[31mType:\u001b[39m      method"
      ]
     },
     "metadata": {},
     "output_type": "display_data"
    }
   ],
   "source": [
    "rfdiffusion = session.models.rfdiffusion\n",
    "rfdiffusion.generate?"
   ]
  },
  {
   "cell_type": "markdown",
   "id": "0c040206-b1d4-4295-89d4-0fe8abe738af",
   "metadata": {},
   "source": [
    "Now let's get the model:"
   ]
  },
  {
   "cell_type": "markdown",
   "id": "a5c650a0-c717-4dd9-aa82-13aeff60ce90",
   "metadata": {},
   "source": [
    "Run the design using RFdiffusion:"
   ]
  },
  {
   "cell_type": "code",
   "execution_count": 3,
   "id": "b85f1b2e-8be2-44b3-9eba-e2a55cc9af05",
   "metadata": {},
   "outputs": [
    {
     "data": {
      "text/plain": [
       "RFdiffusionJob(job_id='169c020b-b992-4cd0-8097-26be7f0bdcb1', job_type='/models/rfdiffusion', status=<JobStatus.PENDING: 'PENDING'>, created_date=datetime.datetime(2025, 8, 6, 9, 13, 54, 617888, tzinfo=TzInfo(UTC)), start_date=None, end_date=None, prerequisite_job_id=None, progress_message=None, progress_counter=0, sequence_length=None)"
      ]
     },
     "execution_count": 3,
     "metadata": {},
     "output_type": "execute_result"
    }
   ],
   "source": [
    "design = rfdiffusion.generate(N=N, contigs=length)\n",
    "design"
   ]
  },
  {
   "cell_type": "markdown",
   "id": "d14493a7-c253-4296-80ed-44d90642a907",
   "metadata": {},
   "source": [
    "Wait for the job to finish running with `wait_until_done`."
   ]
  },
  {
   "cell_type": "code",
   "execution_count": 4,
   "id": "f7e8dddd-01d0-4cfe-ab51-01a33fda7ff0",
   "metadata": {},
   "outputs": [
    {
     "name": "stderr",
     "output_type": "stream",
     "text": [
      "Waiting: 100%|███████████████████████████████████████████████████████████████████████████████████████████████████| 100/100 [06:02<00:00,  3.63s/it, status=SUCCESS]\n"
     ]
    },
    {
     "data": {
      "text/plain": [
       "True"
      ]
     },
     "execution_count": 4,
     "metadata": {},
     "output_type": "execute_result"
    }
   ],
   "source": [
    "design.wait_until_done(verbose=True, timeout=600)"
   ]
  },
  {
   "cell_type": "markdown",
   "id": "b545f01b-80d0-43cb-9450-016213d53f90",
   "metadata": {},
   "source": [
    "Retrieve the PDB file of the design. Use the `replicate` param to\n",
    "specify the 0-indexed design index to retrieve, in this case `0` to `2`."
   ]
  },
  {
   "cell_type": "code",
   "execution_count": 5,
   "id": "509a700a-4079-4db0-906d-3efbf6286f78",
   "metadata": {},
   "outputs": [
    {
     "name": "stdout",
     "output_type": "stream",
     "text": [
      "ATOM      1  N   GLY A   1       2.829   7.051  28.939  1.00  0.00\n",
      "ATOM      2  CA  GLY A   1       2.481   7.591  27.630  1.00  0.00\n",
      "ATOM      3  C   GLY A   1       3.553   7.267  26.598  1.00  0.00\n",
      "ATOM      4  O   GLY A   1       3.246   6.934  25.453  1.00  0.00\n",
      "ATOM      5  N   GLY A   2       4.718   7.479  26.963  1.00  0.00\n",
      "ATOM      6  CA  GLY A   2       5.797   7.175  26.031  1.00  0.00\n",
      "ATOM      7  C   GLY A   2       5.856   5.684  25.725  1.00  0.00\n",
      "ATOM      8  O   GLY A   2       6.107   5.284  24.588  1.00  0.00\n",
      "ATOM      9  N   GLY A   3       5.607   4.890  26.722  1.00  0.00\n",
      "ATOM     10  CA  GLY A   3       5.590   3.454  26.474  1.00  0.00\n"
     ]
    }
   ],
   "source": [
    "result = design.get(replicate=0)\n",
    "# show only the first 10 lines\n",
    "print(\"\\n\".join(result.splitlines()[:10]))"
   ]
  },
  {
   "cell_type": "markdown",
   "id": "d4b93b86-ba3a-490a-87bc-97f38068fdb2",
   "metadata": {},
   "source": [
    "## Motif Scaffolding\n",
    "\n",
    "RFdiffusion can be used to scaffold motifs. To do this, we need a few\n",
    "things:\n",
    "\n",
    "1.  some particular protein input, from a `.pdb`\n",
    "2.  how to connect these proteins and by how many residues in the new\n",
    "    protein\n",
    "3.  some sample of lengths for the new protein, similar to the above\n",
    "\n",
    "First, let's get our pdb from the RCSB protein data bank. We will be\n",
    "using `5TPN`, which represents the [crystal structure of RSV F in\n",
    "complex with human antibody\n",
    "hRSV90](https://www.rcsb.org/structure/5TPN)."
   ]
  },
  {
   "cell_type": "code",
   "execution_count": 6,
   "id": "d27a8ece-e1c5-4938-80ab-69255d703bb6",
   "metadata": {},
   "outputs": [
    {
     "name": "stdout",
     "output_type": "stream",
     "text": [
      "ATOM      9  N   ILE A  28      30.006 -91.995 -29.741  1.00 73.73           N  \n",
      "ATOM     10  CA  ILE A  28      28.960 -92.036 -28.738  1.00 66.97           C  \n",
      "ATOM     11  C   ILE A  28      29.318 -93.052 -27.671  1.00 72.27           C  \n",
      "ATOM     12  O   ILE A  28      29.765 -94.165 -27.983  1.00 73.82           O  \n",
      "ATOM     13  CB  ILE A  28      27.604 -92.343 -29.396  1.00 70.42           C  \n",
      "ATOM     14  CG1 ILE A  28      27.236 -91.185 -30.311  1.00 72.90           C  \n",
      "ATOM     15  CG2 ILE A  28      26.519 -92.523 -28.364  1.00 61.95           C  \n",
      "ATOM     16  CD1 ILE A  28      27.324 -89.849 -29.613  1.00 71.56           C  \n",
      "ATOM     17  N   THR A  29      29.133 -92.652 -26.403  1.00 74.86           N  \n",
      "ATOM     18  CA  THR A  29      29.375 -93.492 -25.230  1.00 67.44           C  \n"
     ]
    }
   ],
   "source": [
    "import requests\n",
    "import gzip\n",
    "import io\n",
    "def get_pdb(code: str) -> str:\n",
    "    with requests.get(f\"https://files.rcsb.org/download/{code}.pdb1.gz\", stream=True) as r:\n",
    "        r.raise_for_status()\n",
    "        buf = io.BytesIO(r.content)\n",
    "        with gzip.open(buf, 'rb') as f:\n",
    "            pdb = f.read().decode() \n",
    "            return pdb\n",
    "pdb = get_pdb(\"5TPN\")\n",
    "print(\"\\n\".join(pdb.splitlines()[210:220]))"
   ]
  },
  {
   "cell_type": "markdown",
   "id": "17603f4d-cc07-447f-849f-bdbb401f4580",
   "metadata": {},
   "source": [
    "Now we need to specify the motif that we are interested in. This is also\n",
    "done along with the length of the output protein we are interested in\n",
    "using the contigs syntax from RFdiffusion. In particular, we are\n",
    "interested in the residues 163-181 (inclusively) on chain A in the input\n",
    "pdb, and we are interested in randomly sampling 10-40 residues on the N\n",
    "and C terminus. This works out to the following syntax:"
   ]
  },
  {
   "cell_type": "code",
   "execution_count": 7,
   "id": "1b5e7915-9f32-4f3c-8df8-e8fee6b325b0",
   "metadata": {},
   "outputs": [],
   "source": [
    "contigs = \"10-40/A163-181/10-40\""
   ]
  },
  {
   "cell_type": "markdown",
   "id": "a73c9533-9584-41b8-bc20-fee6f4a340e5",
   "metadata": {},
   "source": [
    "Refer to the [RFdiffusion\n",
    "documentation](https://github.com/RosettaCommons/RFdiffusion) for more\n",
    "examples and explanation of the contigs syntax.\n",
    "\n",
    "Now let's run our design:"
   ]
  },
  {
   "cell_type": "code",
   "execution_count": 8,
   "id": "7cfa1661-e990-4324-8fd9-94982f2c975a",
   "metadata": {},
   "outputs": [
    {
     "data": {
      "text/plain": [
       "RFdiffusionJob(job_id='ae149a8b-07b8-43ce-abb3-3a93b99fa2df', job_type='/models/rfdiffusion', status=<JobStatus.PENDING: 'PENDING'>, created_date=datetime.datetime(2025, 8, 6, 9, 20, 4, 362109, tzinfo=TzInfo(UTC)), start_date=None, end_date=None, prerequisite_job_id=None, progress_message=None, progress_counter=0, sequence_length=None)"
      ]
     },
     "execution_count": 8,
     "metadata": {},
     "output_type": "execute_result"
    }
   ],
   "source": [
    "design = rfdiffusion.generate(\n",
    "    structure_file=pdb,\n",
    "    contigs=contigs,\n",
    "    N=1,\n",
    ")\n",
    "design"
   ]
  },
  {
   "cell_type": "code",
   "execution_count": 9,
   "id": "9ef4ced0-a4d9-40ce-8152-e9d2725f8d6a",
   "metadata": {},
   "outputs": [
    {
     "name": "stderr",
     "output_type": "stream",
     "text": [
      "Waiting: 100%|███████████████████████████████████████████████████████████████████████████████████████████████████| 100/100 [00:38<00:00,  2.58it/s, status=SUCCESS]\n"
     ]
    },
    {
     "data": {
      "text/plain": [
       "True"
      ]
     },
     "execution_count": 9,
     "metadata": {},
     "output_type": "execute_result"
    }
   ],
   "source": [
    "design.wait_until_done(verbose=True, timeout=600)"
   ]
  },
  {
   "cell_type": "code",
   "execution_count": 10,
   "id": "1735705e-9dc9-4a1e-8f27-51314f27f595",
   "metadata": {},
   "outputs": [
    {
     "name": "stdout",
     "output_type": "stream",
     "text": [
      "ATOM      1  N   GLY A   1     -20.735   6.261   4.968  1.00  0.00\n",
      "ATOM      2  CA  GLY A   1     -19.299   6.011   5.004  1.00  0.00\n",
      "ATOM      3  C   GLY A   1     -18.972   4.606   4.516  1.00  0.00\n",
      "ATOM      4  O   GLY A   1     -19.699   3.654   4.801  1.00  0.00\n",
      "ATOM      5  N   GLY A   2     -17.999   4.543   3.767  1.00  0.00\n",
      "ATOM      6  CA  GLY A   2     -17.574   3.224   3.314  1.00  0.00\n",
      "ATOM      7  C   GLY A   2     -16.419   2.698   4.157  1.00  0.00\n",
      "ATOM      8  O   GLY A   2     -15.314   3.239   4.121  1.00  0.00\n",
      "ATOM      9  N   GLY A   3     -16.696   1.761   4.909  1.00  0.00\n",
      "ATOM     10  CA  GLY A   3     -15.676   1.171   5.768  1.00  0.00\n"
     ]
    }
   ],
   "source": [
    "result = design.get()\n",
    "# show only the first 10 lines\n",
    "print(\"\\n\".join(result.splitlines()[:10]))"
   ]
  },
  {
   "cell_type": "markdown",
   "id": "45cb3311-6263-4306-9c86-d535b4938617",
   "metadata": {},
   "source": [
    "### Small motifs using active site model\n",
    "\n",
    "With very small motifs, RFdiffusion has the tendency to not keep them\n",
    "perfectly fixed in the output. For very small input functional motifs,\n",
    "RFdiffusion recommends using the active site model which is finetuned\n",
    "for such tasks. This is specified using the `use_active_site_model`:"
   ]
  },
  {
   "cell_type": "code",
   "execution_count": 11,
   "id": "ac3e1724-5988-4740-be96-6ac8b1b45199",
   "metadata": {},
   "outputs": [
    {
     "data": {
      "text/plain": [
       "RFdiffusionJob(job_id='b18fe59b-b7cf-4ff8-9f96-1f2432ec1b4d', job_type='/models/rfdiffusion', status=<JobStatus.PENDING: 'PENDING'>, created_date=datetime.datetime(2025, 8, 6, 9, 20, 45, 39364, tzinfo=TzInfo(UTC)), start_date=None, end_date=None, prerequisite_job_id=None, progress_message=None, progress_counter=0, sequence_length=None)"
      ]
     },
     "execution_count": 11,
     "metadata": {},
     "output_type": "execute_result"
    }
   ],
   "source": [
    "contigs = \"10-40/A170-173/10-40\"\n",
    "design = rfdiffusion.generate(\n",
    "    structure_file=pdb,\n",
    "    contigs=contigs,\n",
    "    N=1,\n",
    "    use_active_site_model=True\n",
    ")\n",
    "design"
   ]
  },
  {
   "cell_type": "code",
   "execution_count": 12,
   "id": "900d4c28-12be-422d-b90f-b02a74d7c2b1",
   "metadata": {},
   "outputs": [
    {
     "name": "stderr",
     "output_type": "stream",
     "text": [
      "Waiting: 100%|███████████████████████████████████████████████████████████████████████████████████████████████████| 100/100 [00:38<00:00,  2.57it/s, status=SUCCESS]\n"
     ]
    },
    {
     "name": "stdout",
     "output_type": "stream",
     "text": [
      "ATOM      1  N   GLY A   1     -24.784   9.183  17.739  1.00  0.00\n",
      "ATOM      2  CA  GLY A   1     -25.113   7.763  17.749  1.00  0.00\n",
      "ATOM      3  C   GLY A   1     -23.861   6.909  17.900  1.00  0.00\n",
      "ATOM      4  O   GLY A   1     -22.853   7.144  17.232  1.00  0.00\n",
      "ATOM      5  N   GLY A   2     -23.743   6.016  18.764  1.00  0.00\n",
      "ATOM      6  CA  GLY A   2     -22.548   5.192  18.901  1.00  0.00\n",
      "ATOM      7  C   GLY A   2     -22.379   4.264  17.705  1.00  0.00\n",
      "ATOM      8  O   GLY A   2     -21.262   4.024  17.247  1.00  0.00\n",
      "ATOM      9  N   GLY A   3     -23.442   3.869  17.061  1.00  0.00\n",
      "ATOM     10  CA  GLY A   3     -23.352   3.029  15.872  1.00  0.00\n"
     ]
    }
   ],
   "source": [
    "result = design.wait(verbose=True, timeout=600)\n",
    "# show only the first 10 lines\n",
    "print(\"\\n\".join(result.splitlines()[:10]))"
   ]
  },
  {
   "cell_type": "markdown",
   "id": "c369740f-b331-4042-b09e-614e98a637e3",
   "metadata": {},
   "source": [
    "### Inpainting\n",
    "\n",
    "`inpaint_seq` lets you hide the amino acid identities of specific residues\n",
    "in your input structure. RFdiffusion will then fill in these residues during \n",
    "design, choosing sequences that fit the new structural context.\n",
    "\n",
    "For example, if you’re fusing two proteins, residues that were originally\n",
    "on the surface (often polar) might end up buried in the core. Instead of\n",
    "manually mutating them to hydrophobic residues, you can mask them with\n",
    "inpaint_seq so RFdiffusion can decide on the best replacements automatically."
   ]
  },
  {
   "cell_type": "code",
   "execution_count": 13,
   "id": "71829b39-d475-4acc-8b9f-730f2e96725b",
   "metadata": {},
   "outputs": [],
   "source": [
    "inpaint_seq = \"A163-168/A170-171/A179\""
   ]
  },
  {
   "cell_type": "markdown",
   "id": "bc699410-18c5-47f6-b1e6-716af7ac82a6",
   "metadata": {},
   "source": [
    "This means we are masking the residue identities of A163 to A168\n",
    "(inclusive), and residues A170, A171 and A179."
   ]
  },
  {
   "cell_type": "code",
   "execution_count": 14,
   "id": "98bf04d0-8bca-4120-8af4-407ade5e32e8",
   "metadata": {},
   "outputs": [
    {
     "data": {
      "text/plain": [
       "RFdiffusionJob(job_id='be51eb2f-e86d-4e68-939f-3351ecdc6444', job_type='/models/rfdiffusion', status=<JobStatus.PENDING: 'PENDING'>, created_date=datetime.datetime(2025, 8, 6, 9, 21, 26, 735906, tzinfo=TzInfo(UTC)), start_date=None, end_date=None, prerequisite_job_id=None, progress_message=None, progress_counter=0, sequence_length=None)"
      ]
     },
     "execution_count": 14,
     "metadata": {},
     "output_type": "execute_result"
    }
   ],
   "source": [
    "# reset the contigs from the very small motif for inpaint example\n",
    "contigs = \"10-40/A163-181/10-40\"\n",
    "design = rfdiffusion.generate(\n",
    "    structure_file=pdb,\n",
    "    contigs=contigs,\n",
    "    inpaint_seq=inpaint_seq,\n",
    "    N=1,\n",
    ")\n",
    "design"
   ]
  },
  {
   "cell_type": "code",
   "execution_count": 15,
   "id": "a688aae3-d7ae-4af8-a3a6-b3d5a2bc6eb6",
   "metadata": {},
   "outputs": [
    {
     "name": "stderr",
     "output_type": "stream",
     "text": [
      "Waiting: 100%|███████████████████████████████████████████████████████████████████████████████████████████████████| 100/100 [00:38<00:00,  2.58it/s, status=SUCCESS]\n"
     ]
    },
    {
     "name": "stdout",
     "output_type": "stream",
     "text": [
      "ATOM      1  N   GLY A   1     -20.970  12.196  12.412  1.00  0.00\n",
      "ATOM      2  CA  GLY A   1     -21.400  10.976  13.086  1.00  0.00\n",
      "ATOM      3  C   GLY A   1     -20.229  10.027  13.306  1.00  0.00\n",
      "ATOM      4  O   GLY A   1     -19.292   9.986  12.510  1.00  0.00\n",
      "ATOM      5  N   GLY A   2     -20.221   9.300  14.400  1.00  0.00\n",
      "ATOM      6  CA  GLY A   2     -19.185   8.320  14.703  1.00  0.00\n",
      "ATOM      7  C   GLY A   2     -19.053   7.294  13.585  1.00  0.00\n",
      "ATOM      8  O   GLY A   2     -17.949   6.860  13.255  1.00  0.00\n",
      "ATOM      9  N   GLY A   3     -20.200   6.833  13.049  1.00  0.00\n",
      "ATOM     10  CA  GLY A   3     -20.176   5.891  11.936  1.00  0.00\n"
     ]
    }
   ],
   "source": [
    "result = design.wait(verbose=True, timeout=600)\n",
    "# show only the first 10 lines\n",
    "print(\"\\n\".join(result.splitlines()[:10]))"
   ]
  },
  {
   "cell_type": "markdown",
   "id": "6b09ef6a-c389-471d-b05d-a6e7854b4dfb",
   "metadata": {},
   "source": [
    "## Partial diffusion\n",
    "\n",
    "We can use partial diffusion to get some diversity around a general\n",
    "fold. This is done using the `partial_T` parameter and setting to some\n",
    "timestep to 'noise' to. Higher noise means higher diversity. You should\n",
    "sample different values for your specific design problem, but the\n",
    "typical value used by the authors was 20.\n",
    "\n",
    "With partial diffusion, there is a constraint on contigs since the\n",
    "diffusion is done from a known structure - the contig string has to\n",
    "yield the exact same length as the input protein.\n",
    "\n",
    "Let's use `2KL8`:"
   ]
  },
  {
   "cell_type": "code",
   "execution_count": 16,
   "id": "c2e6663b-9668-45c8-9d24-3b6b8e20d9b0",
   "metadata": {},
   "outputs": [
    {
     "name": "stdout",
     "output_type": "stream",
     "text": [
      "ATOM     63  HB3 ASP A   4      -2.932   0.810   7.543  1.00 38.00           H  \n",
      "ATOM     64  N   ILE A   5      -2.097   0.988   4.087  1.00 23.43           N  \n",
      "ATOM     65  CA  ILE A   5      -2.325  -0.005   3.033  1.00  2.14           C  \n",
      "ATOM     66  C   ILE A   5      -1.796  -1.382   3.465  1.00 34.22           C  \n",
      "ATOM     67  O   ILE A   5      -0.589  -1.598   3.543  1.00 12.12           O  \n",
      "ATOM     68  CB  ILE A   5      -1.641   0.412   1.707  1.00 35.23           C  \n",
      "ATOM     69  CG1 ILE A   5      -2.050   1.844   1.323  1.00 35.34           C  \n",
      "ATOM     70  CG2 ILE A   5      -1.998  -0.571   0.590  1.00 71.23           C  \n",
      "ATOM     71  CD1 ILE A   5      -1.388   2.353   0.059  1.00 22.53           C  \n",
      "ATOM     72  H   ILE A   5      -1.215   1.402   4.168  1.00 38.00           H  \n"
     ]
    }
   ],
   "source": [
    "pdb = get_pdb(\"2KL8\")\n",
    "print(\"\\n\".join(pdb.splitlines()[100:110]))"
   ]
  },
  {
   "cell_type": "markdown",
   "id": "e233989e-9973-4638-bcc4-a964d83bbd6d",
   "metadata": {},
   "source": [
    "And run partial diffusion for 10 timesteps:"
   ]
  },
  {
   "cell_type": "code",
   "execution_count": 17,
   "id": "b83896fb-dffb-4b1f-a7f0-3b6015a2c88c",
   "metadata": {},
   "outputs": [
    {
     "data": {
      "text/plain": [
       "RFdiffusionJob(job_id='2bb73c76-f0df-4d38-bbd6-fbbbe612d666', job_type='/models/rfdiffusion', status=<JobStatus.PENDING: 'PENDING'>, created_date=datetime.datetime(2025, 8, 6, 9, 22, 9, 356090, tzinfo=TzInfo(UTC)), start_date=None, end_date=None, prerequisite_job_id=None, progress_message=None, progress_counter=0, sequence_length=None)"
      ]
     },
     "execution_count": 17,
     "metadata": {},
     "output_type": "execute_result"
    }
   ],
   "source": [
    "length = 85\n",
    "design = rfdiffusion.generate(\n",
    "    structure_file=pdb,\n",
    "    contigs=length,\n",
    "    partial_T=10,\n",
    "    N=1,\n",
    ")\n",
    "design"
   ]
  },
  {
   "cell_type": "code",
   "execution_count": 18,
   "id": "1cf8be6d-ccb7-41ff-a768-692eb3a4b471",
   "metadata": {},
   "outputs": [
    {
     "name": "stderr",
     "output_type": "stream",
     "text": [
      "Waiting: 100%|███████████████████████████████████████████████████████████████████████████████████████████████████| 100/100 [00:16<00:00,  5.92it/s, status=SUCCESS]\n"
     ]
    },
    {
     "name": "stdout",
     "output_type": "stream",
     "text": [
      "ATOM      1  N   GLY A   1      -1.921  11.519   5.041  1.00  0.00\n",
      "ATOM      2  CA  GLY A   1      -2.816  10.371   4.958  1.00  0.00\n",
      "ATOM      3  C   GLY A   1      -2.049   9.063   5.094  1.00  0.00\n",
      "ATOM      4  O   GLY A   1      -0.922   8.940   4.615  1.00  0.00\n",
      "ATOM      5  N   GLY A   2      -2.809   8.099   5.541  1.00  0.00\n",
      "ATOM      6  CA  GLY A   2      -2.225   6.768   5.656  1.00  0.00\n",
      "ATOM      7  C   GLY A   2      -3.078   5.728   4.941  1.00  0.00\n",
      "ATOM      8  O   GLY A   2      -4.305   5.745   5.039  1.00  0.00\n",
      "ATOM      9  N   GLY A   3      -2.394   4.880   4.237  1.00  0.00\n",
      "ATOM     10  CA  GLY A   3      -3.064   3.781   3.551  1.00  0.00\n"
     ]
    }
   ],
   "source": [
    "result = design.wait(verbose=True, timeout=600)\n",
    "# show only the first 10 lines\n",
    "print(\"\\n\".join(result.splitlines()[:10]))"
   ]
  },
  {
   "cell_type": "markdown",
   "id": "285c88bb-b5b9-402e-a9a9-bf9892cf91a8",
   "metadata": {},
   "source": [
    "### Keeping some sequences\n",
    "\n",
    "You can also keep parts of the sequence of the partially diffused chain\n",
    "fixed, using `provide_seq`. An example of why you might want to do this\n",
    "is in the context of helical peptide binding. If you've threaded a\n",
    "helical peptide sequence onto an ideal helix, and now want to diversify\n",
    "the complex, allowing the helix to be predicted now not as an ideal\n",
    "helix, you might do something like:"
   ]
  },
  {
   "cell_type": "code",
   "execution_count": 19,
   "id": "9a9ccac1-00ff-4820-8af5-af600f28618e",
   "metadata": {},
   "outputs": [],
   "source": [
    "provide_seq = \"172-205\"\n",
    "# Provide multiple sequences using a comma delimiter\n",
    "# provide_seq = \"172-177,200-205\""
   ]
  },
  {
   "cell_type": "markdown",
   "id": "51a0bd66-d0b3-4fb2-be9c-db87907be572",
   "metadata": {},
   "source": [
    "This means we want to keep residues 172 to 205 fixed.\n",
    "\n",
    "Let's use the helical peptide example from the RFdiffusion repo:"
   ]
  },
  {
   "cell_type": "code",
   "execution_count": 20,
   "id": "101d591e-9f4f-466d-afa1-0474ee69050e",
   "metadata": {},
   "outputs": [
    {
     "name": "stdout",
     "output_type": "stream",
     "text": [
      "ATOM      2  CA  GLY A   1      16.504 -16.986   9.191  1.00  0.00           C  \n",
      "ATOM      3  C   GLY A   1      17.026 -15.603   9.556  1.00  0.00           C  \n",
      "ATOM      4  O   GLY A   1      17.709 -14.957   8.761  1.00  0.00           O  \n",
      "ATOM      5 1H   GLY A   1      17.057 -18.924   9.375  1.00  0.00           H  \n",
      "ATOM      6 2H   GLY A   1      18.312 -17.897   9.186  1.00  0.00           H  \n",
      "ATOM      7 3H   GLY A   1      17.535 -17.982  10.620  1.00  0.00           H  \n",
      "ATOM      8 1HA  GLY A   1      16.363 -17.053   8.112  1.00  0.00           H  \n",
      "ATOM      9 2HA  GLY A   1      15.530 -17.144   9.652  1.00  0.00           H  \n",
      "ATOM     10  N   MET A   2      16.700 -15.152  10.764  1.00  0.00           N  \n",
      "ATOM     11  CA  MET A   2      16.989 -13.784  11.176  1.00  0.00           C  \n"
     ]
    }
   ],
   "source": [
    "pdb = requests.get(\"https://raw.githubusercontent.com/RosettaCommons/RFdiffusion/fa340147b9006156b251d1ad0391e3ea8e5f73eb/examples/input_pdbs/peptide_complex_ideal_helix.pdb\").text\n",
    "print(\"\\n\".join(pdb.splitlines()[10:20]))"
   ]
  },
  {
   "cell_type": "markdown",
   "id": "3f6430fa-f4ca-4370-a081-9e4e34090622",
   "metadata": {},
   "source": [
    "Let's run this design. Take note we are using the `/0` syntax in\n",
    "`contigs` which refers to a chain break in the syntax."
   ]
  },
  {
   "cell_type": "code",
   "execution_count": 21,
   "id": "b792a9af-b8be-41a0-af4b-4e9ce2f33655",
   "metadata": {},
   "outputs": [
    {
     "data": {
      "text/plain": [
       "RFdiffusionJob(job_id='a52df40b-8438-402d-9ab9-f4d97d7064eb', job_type='/models/rfdiffusion', status=<JobStatus.PENDING: 'PENDING'>, created_date=datetime.datetime(2025, 8, 6, 9, 22, 28, 780009, tzinfo=TzInfo(UTC)), start_date=None, end_date=None, prerequisite_job_id=None, progress_message=None, progress_counter=0, sequence_length=None)"
      ]
     },
     "execution_count": 21,
     "metadata": {},
     "output_type": "execute_result"
    }
   ],
   "source": [
    "contigs = \"172-172/0 34-34\"\n",
    "design = rfdiffusion.generate(\n",
    "    structure_file=pdb,\n",
    "    contigs=contigs,\n",
    "    provide_seq=provide_seq,\n",
    "    partial_T=10,\n",
    "    N=1,\n",
    ")\n",
    "design"
   ]
  },
  {
   "cell_type": "code",
   "execution_count": 22,
   "id": "2460a656-0fd2-4269-b2ea-0798f1472390",
   "metadata": {},
   "outputs": [
    {
     "name": "stderr",
     "output_type": "stream",
     "text": [
      "Waiting: 100%|███████████████████████████████████████████████████████████████████████████████████████████████████| 100/100 [00:22<00:00,  4.48it/s, status=SUCCESS]\n"
     ]
    },
    {
     "name": "stdout",
     "output_type": "stream",
     "text": [
      "ATOM      1  N   GLY A   1       2.783 -22.631  -8.750  1.00  0.00\n",
      "ATOM      2  CA  GLY A   1       2.306 -21.472  -9.494  1.00  0.00\n",
      "ATOM      3  C   GLY A   1       2.318 -20.218  -8.628  1.00  0.00\n",
      "ATOM      4  O   GLY A   1       2.653 -19.131  -9.098  1.00  0.00\n",
      "ATOM      5  N   GLY A   2       2.005 -20.393  -7.442  1.00  0.00\n",
      "ATOM      6  CA  GLY A   2       1.981 -19.249  -6.538  1.00  0.00\n",
      "ATOM      7  C   GLY A   2       3.386 -18.715  -6.288  1.00  0.00\n",
      "ATOM      8  O   GLY A   2       3.595 -17.504  -6.210  1.00  0.00\n",
      "ATOM      9  N   GLY A   3       4.315 -19.601  -6.177  1.00  0.00\n",
      "ATOM     10  CA  GLY A   3       5.687 -19.158  -5.960  1.00  0.00\n"
     ]
    }
   ],
   "source": [
    "result = design.wait(verbose=True, timeout=600)\n",
    "# show only the first 10 lines\n",
    "print(\"\\n\".join(result.splitlines()[:10]))"
   ]
  },
  {
   "cell_type": "markdown",
   "id": "9c0d7e3c-22aa-46b3-b228-8fd39a5ba6b0",
   "metadata": {},
   "source": [
    "## Binder design\n",
    "\n",
    "We can use RFdiffusion to do binder design using the same contigs\n",
    "syntax. To do so, we use the `/0` chain break syntax in `contigs`.\n",
    "Additionally, we specify `hotspot` residues, which tells the model where\n",
    "the protein should make contact."
   ]
  },
  {
   "cell_type": "code",
   "execution_count": 23,
   "id": "374afd42-944a-4f03-aacc-9c35a2431163",
   "metadata": {},
   "outputs": [],
   "source": [
    "contigs = \"A1-150/0 70-100\"\n",
    "hotspot = \"A59,A83,A91\""
   ]
  },
  {
   "cell_type": "markdown",
   "id": "64f5e105-d245-48fa-8b9d-a314e545179e",
   "metadata": {},
   "source": [
    "We also add some additional configuration beyond the basic set of design\n",
    "parameters shown by `rfdiffusion.generate?`. Our RFdiffusion model\n",
    "interface also takes in the full set of configuration provided by\n",
    "RFdiffusion as kwargs. Note however that these are advanced settings and\n",
    "you should be properly familiar with RFdiffusion to use them. Here, we\n",
    "will reduce the noise added during inference to 0, to improve the\n",
    "quality of the designs, as recommended in their examples. Since\n",
    "RFdiffusion uses the hydra flattened dot syntax, we use a dictionary to\n",
    "hold the additonals args:"
   ]
  },
  {
   "cell_type": "code",
   "execution_count": 24,
   "id": "e80d4812-0158-43ba-bb4a-e10099a9e8cf",
   "metadata": {},
   "outputs": [],
   "source": [
    "kwargs = {\n",
    "    \"denoiser.noise_scale_ca\": 0,\n",
    "    \"denoiser.noise_scale_frame\": 0\n",
    "}"
   ]
  },
  {
   "cell_type": "markdown",
   "id": "5711d426-fa39-4085-8c13-5cb5fafd40e9",
   "metadata": {},
   "source": [
    "Let's use the insulin target example from the official repo:"
   ]
  },
  {
   "cell_type": "code",
   "execution_count": 25,
   "id": "85dac009-84aa-46fc-bffe-f67106b7e3bd",
   "metadata": {},
   "outputs": [
    {
     "name": "stdout",
     "output_type": "stream",
     "text": [
      "ATOM      1  N   GLU A   1      47.177 109.949  22.284  1.00  0.00           N  \n",
      "ATOM      2  CA  GLU A   1      46.223 108.850  22.182  1.00  0.00           C  \n",
      "ATOM      3  C   GLU A   1      44.813 109.180  22.682  1.00  0.00           C  \n",
      "ATOM      4  O   GLU A   1      44.597 110.149  23.432  1.00  0.00           O  \n",
      "ATOM      5  CB  GLU A   1      46.752 107.602  22.893  1.00  0.00           C  \n",
      "ATOM      6  CG  GLU A   1      47.989 107.042  22.245  1.00  0.00           C  \n",
      "ATOM      7  CD  GLU A   1      47.721 106.544  20.773  1.00  0.00           C  \n",
      "ATOM      8  OE1 GLU A   1      46.771 105.825  20.555  1.00  0.00           O  \n",
      "ATOM      9  OE2 GLU A   1      48.479 106.896  19.900  1.00  0.00           O  \n",
      "ATOM     10 1H   GLU A   1      48.067 109.652  21.939  1.00  0.00           H  \n"
     ]
    }
   ],
   "source": [
    "pdb = requests.get(\"https://raw.githubusercontent.com/RosettaCommons/RFdiffusion/fa340147b9006156b251d1ad0391e3ea8e5f73eb/examples/input_pdbs/insulin_target.pdb\").text\n",
    "print(\"\\n\".join(pdb.splitlines()[11:21]))"
   ]
  },
  {
   "cell_type": "markdown",
   "id": "f89245b9-9f85-4af7-8293-be95fbcd0146",
   "metadata": {},
   "source": [
    "Let's run the binder design:"
   ]
  },
  {
   "cell_type": "code",
   "execution_count": 26,
   "id": "0b23b7e9-d119-4cd4-b6d5-a2aaa6383fcf",
   "metadata": {},
   "outputs": [
    {
     "data": {
      "text/plain": [
       "RFdiffusionJob(job_id='dfd45782-3ba3-4b1b-ba1d-9a1697a4b77f', job_type='/models/rfdiffusion', status=<JobStatus.PENDING: 'PENDING'>, created_date=datetime.datetime(2025, 8, 6, 9, 22, 53, 716417, tzinfo=TzInfo(UTC)), start_date=None, end_date=None, prerequisite_job_id=None, progress_message=None, progress_counter=0, sequence_length=None)"
      ]
     },
     "execution_count": 26,
     "metadata": {},
     "output_type": "execute_result"
    }
   ],
   "source": [
    "design = rfdiffusion.generate(\n",
    "    structure_file=pdb,\n",
    "    contigs=contigs,\n",
    "    hotspot=hotspot,\n",
    "    N=1,\n",
    "    **kwargs\n",
    ")\n",
    "design"
   ]
  },
  {
   "cell_type": "code",
   "execution_count": 27,
   "id": "eb709fe3-06cd-4e21-a599-35bbce63bf0d",
   "metadata": {},
   "outputs": [
    {
     "name": "stderr",
     "output_type": "stream",
     "text": [
      "Waiting: 100%|███████████████████████████████████████████████████████████████████████████████████████████████████| 100/100 [01:17<00:00,  1.29it/s, status=SUCCESS]\n"
     ]
    },
    {
     "name": "stdout",
     "output_type": "stream",
     "text": [
      "ATOM      1  N   GLY A   1     -26.746 -16.007  -3.126  1.00  0.00\n",
      "ATOM      2  CA  GLY A   1     -27.132 -15.454  -1.834  1.00  0.00\n",
      "ATOM      3  C   GLY A   1     -26.688 -16.360  -0.692  1.00  0.00\n",
      "ATOM      4  O   GLY A   1     -26.297 -15.885   0.374  1.00  0.00\n",
      "ATOM      5  N   GLY A   2     -26.679 -17.711  -0.968  1.00  0.00\n",
      "ATOM      6  CA  GLY A   2     -26.180 -18.645   0.033  1.00  0.00\n",
      "ATOM      7  C   GLY A   2     -24.691 -18.440   0.284  1.00  0.00\n",
      "ATOM      8  O   GLY A   2     -24.232 -18.489   1.425  1.00  0.00\n",
      "ATOM      9  N   GLY A   3     -23.925 -18.225  -0.793  1.00  0.00\n",
      "ATOM     10  CA  GLY A   3     -22.495 -17.973  -0.664  1.00  0.00\n"
     ]
    }
   ],
   "source": [
    "result = design.wait(verbose=True, timeout=600)\n",
    "# show only the first 10 lines\n",
    "print(\"\\n\".join(result.splitlines()[:10]))"
   ]
  },
  {
   "cell_type": "markdown",
   "id": "314e4a6a-0107-4597-992f-09cb0f5cb95b",
   "metadata": {},
   "source": [
    "### Higher diversity topologies using complex beta model\n",
    "\n",
    "RFdiffusion also provides a beta model checkpoint. This is because the\n",
    "default model often generates helical binders which have higher\n",
    "computational and experimental success rates. The beta model generates a\n",
    "greater diversity of topologies, but has not been extensively\n",
    "experimentally validated. Use at your own risk:"
   ]
  },
  {
   "cell_type": "code",
   "execution_count": 28,
   "id": "5cf834c4-4ff3-482f-906f-d1d0d0455faa",
   "metadata": {},
   "outputs": [
    {
     "data": {
      "text/plain": [
       "RFdiffusionJob(job_id='5eba9326-21aa-4ebf-b098-f43b578e680d', job_type='/models/rfdiffusion', status=<JobStatus.PENDING: 'PENDING'>, created_date=datetime.datetime(2025, 8, 6, 9, 24, 13, 629710, tzinfo=TzInfo(UTC)), start_date=None, end_date=None, prerequisite_job_id=None, progress_message=None, progress_counter=0, sequence_length=None)"
      ]
     },
     "execution_count": 28,
     "metadata": {},
     "output_type": "execute_result"
    }
   ],
   "source": [
    "design = rfdiffusion.generate(\n",
    "    structure_file=pdb,\n",
    "    contigs=contigs,\n",
    "    hotspot=hotspot,\n",
    "    N=1,\n",
    "    use_beta_model=True,\n",
    "    **kwargs\n",
    ")\n",
    "design"
   ]
  },
  {
   "cell_type": "code",
   "execution_count": 29,
   "id": "93051ccd-ef23-485a-a8eb-d3475e6fe872",
   "metadata": {},
   "outputs": [
    {
     "name": "stderr",
     "output_type": "stream",
     "text": [
      "Waiting: 100%|███████████████████████████████████████████████████████████████████████████████████████████████████| 100/100 [01:23<00:00,  1.20it/s, status=SUCCESS]\n"
     ]
    },
    {
     "name": "stdout",
     "output_type": "stream",
     "text": [
      "ATOM      1  N   GLY A   1       5.993 -12.514 -26.071  1.00  0.00\n",
      "ATOM      2  CA  GLY A   1       5.682 -11.358 -25.238  1.00  0.00\n",
      "ATOM      3  C   GLY A   1       4.622 -11.698 -24.198  1.00  0.00\n",
      "ATOM      4  O   GLY A   1       3.746 -12.529 -24.439  1.00  0.00\n",
      "ATOM      5  N   GLY A   2       4.485 -10.854 -23.249  1.00  0.00\n",
      "ATOM      6  CA  GLY A   2       3.403 -10.944 -22.276  1.00  0.00\n",
      "ATOM      7  C   GLY A   2       2.369  -9.848 -22.499  1.00  0.00\n",
      "ATOM      8  O   GLY A   2       2.713  -8.715 -22.838  1.00  0.00\n",
      "ATOM      9  N   GLY A   3       1.145 -10.131 -22.209  1.00  0.00\n",
      "ATOM     10  CA  GLY A   3       0.061  -9.183 -22.438  1.00  0.00\n"
     ]
    }
   ],
   "source": [
    "result = design.wait(verbose=True, timeout=600)\n",
    "# show only the first 10 lines\n",
    "print(\"\\n\".join(result.splitlines()[:10]))"
   ]
  },
  {
   "cell_type": "markdown",
   "id": "9362c03d-725e-488e-b8af-5f4eb00f2a41",
   "metadata": {},
   "source": [
    "Refer to the official RFdiffusion documentation's section on [Practical\n",
    "Considerations for Binder\n",
    "Design](https://github.com/RosettaCommons/RFdiffusion?tab=readme-ov-file#practical-considerations-for-binder-design)\n",
    "for some tips on the topic.\n",
    "\n",
    "## Fold conditioning\n",
    "\n",
    "We can also condition binder designs on particular topologies, by\n",
    "providing (partial) secondary structure and block adjacency information.\n",
    "An example is to design a TIM barrel but not requiring exact coordinates\n",
    "for the residues. We provide this additional information by specifying\n",
    "the structure to condition on using `scaffold_target_structure_file`.\n",
    "Let's get the TIM barrel:"
   ]
  },
  {
   "cell_type": "code",
   "execution_count": 30,
   "id": "97525e8d-ba24-4563-9b1f-52391d555384",
   "metadata": {},
   "outputs": [
    {
     "name": "stdout",
     "output_type": "stream",
     "text": [
      "ATOM     44  HG  LEU A   4      -3.643  12.831   7.422  1.00 63.20           H  \n",
      "ATOM     45 HD11 LEU A   4      -5.578  13.378   8.608  1.00 72.64           H  \n",
      "ATOM     46 HD12 LEU A   4      -4.379  14.331   9.029  1.00 72.64           H  \n",
      "ATOM     47 HD13 LEU A   4      -5.503  14.859   8.038  1.00 72.64           H  \n",
      "ATOM     48 HD21 LEU A   4      -5.678  12.418   6.361  1.00 68.59           H  \n",
      "ATOM     49 HD22 LEU A   4      -5.596  13.845   5.668  1.00 68.59           H  \n",
      "ATOM     50 HD23 LEU A   4      -4.535  12.721   5.300  1.00 68.59           H  \n",
      "ATOM     51  N   ILE A   5      -0.925  15.785   4.277  1.00 40.62           N  \n",
      "ATOM     52  CA  ILE A   5       0.164  16.690   3.928  1.00 40.18           C  \n",
      "ATOM     53  C   ILE A   5      -0.408  18.094   3.803  1.00 46.92           C  \n"
     ]
    }
   ],
   "source": [
    "pdb = get_pdb(\"6WVS\")\n",
    "print(\"\\n\".join(pdb.splitlines()[100:110]))"
   ]
  },
  {
   "cell_type": "markdown",
   "id": "c80ca4d9-87fb-4b34-8975-f6dd88ff5450",
   "metadata": {},
   "source": [
    "This instructs the system to make the secondary structure and block\n",
    "adjacency information based on the provided\n",
    "`scaffold_target_structure_file`, before running scaffold guided\n",
    "inference, which does the fold conditioning."
   ]
  },
  {
   "cell_type": "code",
   "execution_count": 31,
   "id": "68152c0a-97c7-4f55-9b93-b0871cb3ae32",
   "metadata": {},
   "outputs": [
    {
     "data": {
      "text/plain": [
       "RFdiffusionJob(job_id='6845b62e-67d6-46b3-939c-9a9c665472e0', job_type='/models/rfdiffusion', status=<JobStatus.PENDING: 'PENDING'>, created_date=datetime.datetime(2025, 8, 6, 9, 25, 41, 498536, tzinfo=TzInfo(UTC)), start_date=None, end_date=None, prerequisite_job_id=None, progress_message=None, progress_counter=0, sequence_length=None)"
      ]
     },
     "execution_count": 31,
     "metadata": {},
     "output_type": "execute_result"
    }
   ],
   "source": [
    "# Additional kwargs provided from example\n",
    "# Reduce noise to 0.5 for better results\n",
    "# Sample additional length to increase diversity of the outputs\n",
    "# Specifically, we mask the loops and insert 0-5 residues (randomly sampled per-loop) into each loop\n",
    "# Add 0-5 residues (randomly sampled) to the N and the C-terminus\n",
    "kwargs = {\n",
    "    \"denoiser.noise_scale_ca\": 0.5,\n",
    "    \"denoiser.noise_scale_frame\": 0.5,\n",
    "    \"scaffoldguided.mask_loops\": True,\n",
    "    \"scaffoldguided.sampled_insertion\": \"0-5\",\n",
    "    \"scaffoldguided.sampled_N\": \"0-5\",\n",
    "    \"scaffoldguided.sampled_C\": \"0-5\",\n",
    "}\n",
    "design = rfdiffusion.generate(\n",
    "    scaffold_target_structure_file=pdb,\n",
    "    N=1,\n",
    "    **kwargs\n",
    ")\n",
    "design"
   ]
  },
  {
   "cell_type": "markdown",
   "id": "05675609-e38b-4532-8e45-dbf6e633c29f",
   "metadata": {},
   "source": [
    "Wait for and retrieve the design:"
   ]
  },
  {
   "cell_type": "code",
   "execution_count": 32,
   "id": "0ccff25a-6f18-44e0-9717-3b177aa65433",
   "metadata": {},
   "outputs": [
    {
     "name": "stderr",
     "output_type": "stream",
     "text": [
      "Waiting: 100%|███████████████████████████████████████████████████████████████████████████████████████████████████| 100/100 [01:17<00:00,  1.29it/s, status=SUCCESS]\n"
     ]
    },
    {
     "name": "stdout",
     "output_type": "stream",
     "text": [
      "ATOM      1  N   GLY A   1      22.987  -8.520   6.056  1.00  0.00\n",
      "ATOM      2  CA  GLY A   1      21.963  -7.664   5.468  1.00  0.00\n",
      "ATOM      3  C   GLY A   1      21.814  -6.366   6.251  1.00  0.00\n",
      "ATOM      4  O   GLY A   1      21.695  -6.379   7.476  1.00  0.00\n",
      "ATOM      5  N   GLY A   2      22.074  -5.335   5.647  1.00  0.00\n",
      "ATOM      6  CA  GLY A   2      21.872  -4.012   6.227  1.00  0.00\n",
      "ATOM      7  C   GLY A   2      20.426  -3.560   6.076  1.00  0.00\n",
      "ATOM      8  O   GLY A   2      19.787  -3.818   5.056  1.00  0.00\n",
      "ATOM      9  N   GLY A   3      20.038  -2.546   6.827  1.00  0.00\n",
      "ATOM     10  CA  GLY A   3      18.659  -2.076   6.757  1.00  0.00\n"
     ]
    }
   ],
   "source": [
    "result = design.wait(verbose=True, timeout=600)\n",
    "# show only the first 10 lines\n",
    "print(\"\\n\".join(result.splitlines()[:10]))"
   ]
  },
  {
   "cell_type": "markdown",
   "id": "b00aa4e2-7280-4544-98a3-169889b40730",
   "metadata": {},
   "source": [
    "### Binder design to flexible peptides\n",
    "\n",
    "RFdiffusion can be used to design binders to flexible peptides, where\n",
    "the 3D coordinates of the peptide are not specified, but the secondary\n",
    "structure can be. This allows a user to design binders to a peptide in\n",
    "e.g. either a helical or beta state. The principle here is that we\n",
    "provide an input pdb structure of a peptide, but specify that we want to\n",
    "mask the 3D structure (`inpaint_str`). Here, we're making `70-100` amino\n",
    "acid binders to the tau peptide (pdb indices `B165-178`), and we mask the\n",
    "structure with `contigmap.inpaint_str` on this peptide. However,\n",
    "we can then specify that we want it to adopt a helix secondary\n",
    "structure:"
   ]
  },
  {
   "cell_type": "code",
   "execution_count": 33,
   "id": "fa1de355-1372-479b-ad84-20686312efca",
   "metadata": {},
   "outputs": [
    {
     "data": {
      "text/plain": [
       "RFdiffusionJob(job_id='e3f0a2fa-f5fc-4160-93ad-5ac2dff71de6', job_type='/models/rfdiffusion', status=<JobStatus.PENDING: 'PENDING'>, created_date=datetime.datetime(2025, 8, 6, 9, 29, 0, 797164, tzinfo=TzInfo(UTC)), start_date=None, end_date=None, prerequisite_job_id=None, progress_message=None, progress_counter=0, sequence_length=None)"
      ]
     },
     "execution_count": 33,
     "metadata": {},
     "output_type": "execute_result"
    }
   ],
   "source": [
    "# Get tau peptide from RFdiffusion repo\n",
    "pdb = requests.get(\"https://raw.githubusercontent.com/RosettaCommons/RFdiffusion/fa340147b9006156b251d1ad0391e3ea8e5f73eb/examples/input_pdbs/tau_peptide.pdb\").text\n",
    "contigs = \"70-100/0 B165-178\"\n",
    "kwargs = {\n",
    "    \"scaffoldguided.scaffoldguided\": True,\n",
    "    \"contigmap.inpaint_str\": \"[B165-178]\",\n",
    "    \"contigmap.inpaint_str_helix\": \"[B165-178]\",\n",
    "}\n",
    "design = rfdiffusion.generate(\n",
    "    structure_file=pdb,\n",
    "    contigs=contigs,\n",
    "    N=1,\n",
    "    **kwargs,\n",
    ")\n",
    "design"
   ]
  },
  {
   "cell_type": "code",
   "execution_count": 34,
   "id": "71c34111-1c17-41e3-b9f6-b2f45bbc07b7",
   "metadata": {},
   "outputs": [
    {
     "name": "stderr",
     "output_type": "stream",
     "text": [
      "Waiting: 100%|███████████████████████████████████████████████████████████████████████████████████████████████████| 100/100 [00:38<00:00,  2.58it/s, status=SUCCESS]\n"
     ]
    },
    {
     "name": "stdout",
     "output_type": "stream",
     "text": [
      "ATOM      1  N   GLY A   1      32.330   1.561   6.905  1.00  0.00\n",
      "ATOM      2  CA  GLY A   1      31.012   1.668   7.521  1.00  0.00\n",
      "ATOM      3  C   GLY A   1      30.015   2.326   6.576  1.00  0.00\n",
      "ATOM      4  O   GLY A   1      28.866   1.894   6.473  1.00  0.00\n",
      "ATOM      5  N   GLY A   2      30.433   3.363   5.969  1.00  0.00\n",
      "ATOM      6  CA  GLY A   2      29.550   4.053   5.036  1.00  0.00\n",
      "ATOM      7  C   GLY A   2      29.246   3.186   3.821  1.00  0.00\n",
      "ATOM      8  O   GLY A   2      28.109   3.135   3.352  1.00  0.00\n",
      "ATOM      9  N   GLY A   3      30.238   2.527   3.315  1.00  0.00\n",
      "ATOM     10  CA  GLY A   3      30.026   1.642   2.176  1.00  0.00\n"
     ]
    }
   ],
   "source": [
    "result = design.wait(verbose=True, timeout=600)\n",
    "# show only the first 10 lines\n",
    "print(\"\\n\".join(result.splitlines()[:10]))"
   ]
  },
  {
   "cell_type": "markdown",
   "id": "e56e167a-26bb-41dd-aaf4-123d6741a674",
   "metadata": {},
   "source": [
    "You could alternatively specify to adopt a beta (strand) secondary\n",
    "structure with `contigmap.inpaint_str_strand`.\n",
    "\n",
    "## Generating symmetric oligomers\n",
    "\n",
    "We can use RFdiffusion to generate structures of different symmetries.\n",
    "Use symmetry to specify one of `cyclic`, `dihedral` or `tetrahedral`.\n",
    "You can provide the `order` in the case of `cyclic` or `dihedral`\n",
    "(defaults to 1). RFdiffusion also provides the use of auxiliary\n",
    "potentials to help guide the inferencing process, which seem to help\n",
    "with motif scaffolding and symmetric oligomer generation. We have\n",
    "defaulted the use of potentials when it comes to symmetric oligomer\n",
    "generation, using the default parameters specified in the RFdiffusion\n",
    "documentation and examples, which looks like:"
   ]
  },
  {
   "cell_type": "code",
   "execution_count": 35,
   "id": "05a07e0b-6354-4363-b2da-e5f87544a396",
   "metadata": {},
   "outputs": [],
   "source": [
    "# these are the default potentials options already added whenever you do any symmetric oligomer generation.\n",
    "kwargs = {\n",
    "    \"potentials.guiding_potentials\": \"[\\\"type:olig_contacts,weight_intra:1,weight_inter:0.1\\\"]\",\n",
    "    \"potentials.olig_intra_all\": True,\n",
    "    \"potentials.olig_inter_all\": True,\n",
    "    \"potentials.guide_scale\": 2.0,\n",
    "    \"potentials.guide_decay\": \"quadratic\"   \n",
    "}"
   ]
  },
  {
   "cell_type": "markdown",
   "id": "29f72ffb-2c81-4f6b-9599-a21989ceaf53",
   "metadata": {},
   "source": [
    "Use `add_potential = False` explicitly to turn it off, and specify your\n",
    "own potentials if desired.\n",
    "\n",
    "### Cyclic"
   ]
  },
  {
   "cell_type": "code",
   "execution_count": 36,
   "id": "1a3f2865-ed45-4c16-9096-13a246e362d2",
   "metadata": {},
   "outputs": [
    {
     "data": {
      "text/plain": [
       "RFdiffusionJob(job_id='b83a1fc7-dff6-4e98-a72f-b3d9fbb5fa7d', job_type='/models/rfdiffusion', status=<JobStatus.PENDING: 'PENDING'>, created_date=datetime.datetime(2025, 8, 6, 9, 29, 41, 715834, tzinfo=TzInfo(UTC)), start_date=None, end_date=None, prerequisite_job_id=None, progress_message=None, progress_counter=0, sequence_length=None)"
      ]
     },
     "execution_count": 36,
     "metadata": {},
     "output_type": "execute_result"
    }
   ],
   "source": [
    "design = rfdiffusion.generate(\n",
    "    symmetry=\"cyclic\",\n",
    "    order=6,\n",
    "    contigs=480,\n",
    ")\n",
    "design"
   ]
  },
  {
   "cell_type": "code",
   "execution_count": 37,
   "id": "6f0394f9-16f1-48ff-aba2-c163c600ecf1",
   "metadata": {},
   "outputs": [
    {
     "name": "stderr",
     "output_type": "stream",
     "text": [
      "Waiting: 100%|███████████████████████████████████████████████████████████████████████████████████████████████████| 100/100 [04:13<00:00,  2.53s/it, status=SUCCESS]\n"
     ]
    },
    {
     "name": "stdout",
     "output_type": "stream",
     "text": [
      "ATOM      1  N   GLY A   1      15.816   5.285  22.037  1.00  0.00\n",
      "ATOM      2  CA  GLY A   1      15.583   4.007  21.376  1.00  0.00\n",
      "ATOM      3  C   GLY A   1      15.737   4.131  19.866  1.00  0.00\n",
      "ATOM      4  O   GLY A   1      15.128   4.998  19.239  1.00  0.00\n",
      "ATOM      5  N   GLY A   2      16.670   3.571  19.434  1.00  0.00\n",
      "ATOM      6  CA  GLY A   2      16.844   3.550  17.987  1.00  0.00\n",
      "ATOM      7  C   GLY A   2      16.564   2.165  17.418  1.00  0.00\n",
      "ATOM      8  O   GLY A   2      17.075   1.163  17.919  1.00  0.00\n",
      "ATOM      9  N   GLY A   3      15.806   2.161  16.413  1.00  0.00\n",
      "ATOM     10  CA  GLY A   3      15.417   0.911  15.772  1.00  0.00\n"
     ]
    }
   ],
   "source": [
    "result = design.wait(verbose=True)\n",
    "# show only the first 10 lines\n",
    "print(\"\\n\".join(result.splitlines()[:10]))"
   ]
  },
  {
   "cell_type": "markdown",
   "id": "98c54936-5a2a-42d7-9c1f-336f64ed2500",
   "metadata": {},
   "source": [
    "### Dihedral"
   ]
  },
  {
   "cell_type": "code",
   "execution_count": 38,
   "id": "0c9c2b12-bc31-4b88-9c04-f5f3c13880a3",
   "metadata": {},
   "outputs": [
    {
     "data": {
      "text/plain": [
       "RFdiffusionJob(job_id='7b08c403-9be3-478e-a55d-4051ea63defb', job_type='/models/rfdiffusion', status=<JobStatus.PENDING: 'PENDING'>, created_date=datetime.datetime(2025, 8, 6, 9, 33, 57, 215048, tzinfo=TzInfo(UTC)), start_date=None, end_date=None, prerequisite_job_id=None, progress_message=None, progress_counter=0, sequence_length=None)"
      ]
     },
     "execution_count": 38,
     "metadata": {},
     "output_type": "execute_result"
    }
   ],
   "source": [
    "design = rfdiffusion.generate(\n",
    "    symmetry=\"dihedral\",\n",
    "    order=2,\n",
    "    contigs=320,\n",
    ")\n",
    "design"
   ]
  },
  {
   "cell_type": "code",
   "execution_count": 39,
   "id": "18053e26-b8c9-429c-9b70-65dff4015a0f",
   "metadata": {},
   "outputs": [
    {
     "name": "stderr",
     "output_type": "stream",
     "text": [
      "Waiting: 100%|███████████████████████████████████████████████████████████████████████████████████████████████████| 100/100 [02:07<00:00,  1.27s/it, status=SUCCESS]\n"
     ]
    },
    {
     "name": "stdout",
     "output_type": "stream",
     "text": [
      "ATOM      1  N   GLY A   1      32.710  -4.716  -9.170  1.00  0.00\n",
      "ATOM      2  CA  GLY A   1      31.865  -4.144  -8.129  1.00  0.00\n",
      "ATOM      3  C   GLY A   1      31.160  -2.887  -8.621  1.00  0.00\n",
      "ATOM      4  O   GLY A   1      30.004  -2.637  -8.276  1.00  0.00\n",
      "ATOM      5  N   GLY A   2      31.858  -2.112  -9.270  1.00  0.00\n",
      "ATOM      6  CA  GLY A   2      31.238  -0.910  -9.815  1.00  0.00\n",
      "ATOM      7  C   GLY A   2      30.088  -1.259 -10.751  1.00  0.00\n",
      "ATOM      8  O   GLY A   2      29.053  -0.592 -10.754  1.00  0.00\n",
      "ATOM      9  N   GLY A   3      30.256  -2.281 -11.493  1.00  0.00\n",
      "ATOM     10  CA  GLY A   3      29.168  -2.701 -12.368  1.00  0.00\n"
     ]
    }
   ],
   "source": [
    "result = design.wait(verbose=True, timeout=600)\n",
    "# show only the first 10 lines\n",
    "print(\"\\n\".join(result.splitlines()[:10]))"
   ]
  },
  {
   "cell_type": "markdown",
   "id": "d3cc4652-c226-400f-a1ba-53aebe839724",
   "metadata": {},
   "source": [
    "### Tetrahedral"
   ]
  },
  {
   "cell_type": "code",
   "execution_count": 40,
   "id": "557a3ac4-d261-4449-b31f-8e3a17fccbea",
   "metadata": {},
   "outputs": [
    {
     "data": {
      "text/plain": [
       "RFdiffusionJob(job_id='2ef4b3ce-582a-49dc-b217-1fd0d9a3445e', job_type='/models/rfdiffusion', status=<JobStatus.PENDING: 'PENDING'>, created_date=datetime.datetime(2025, 8, 6, 9, 36, 6, 673269, tzinfo=TzInfo(UTC)), start_date=None, end_date=None, prerequisite_job_id=None, progress_message=None, progress_counter=0, sequence_length=None)"
      ]
     },
     "execution_count": 40,
     "metadata": {},
     "output_type": "execute_result"
    }
   ],
   "source": [
    "# order is ignored for tetrahedral\n",
    "design = rfdiffusion.generate(\n",
    "    symmetry=\"tetrahedral\",\n",
    "    contigs=1200,\n",
    ")\n",
    "design"
   ]
  },
  {
   "cell_type": "markdown",
   "id": "75dd0200-2f45-48d0-9be2-2242aff5c599",
   "metadata": {},
   "source": [
    "This one takes a little longer due to the longer length."
   ]
  },
  {
   "cell_type": "code",
   "execution_count": 41,
   "id": "7065aff4-cf78-4084-84c9-c2d144e3836c",
   "metadata": {},
   "outputs": [
    {
     "name": "stderr",
     "output_type": "stream",
     "text": [
      "Waiting: 100%|██████████████████████████████████████████████████████████████████████████████████████████████████| 100/100 [00:00<00:00, 510.40it/s, status=SUCCESS]\n"
     ]
    },
    {
     "name": "stdout",
     "output_type": "stream",
     "text": [
      "ATOM      1  N   GLY A   1     -25.230 -22.272  10.678  1.00  0.00\n",
      "ATOM      2  CA  GLY A   1     -25.466 -20.849  10.466  1.00  0.00\n",
      "ATOM      3  C   GLY A   1     -26.015 -20.188  11.724  1.00  0.00\n",
      "ATOM      4  O   GLY A   1     -25.740 -19.019  11.993  1.00  0.00\n",
      "ATOM      5  N   GLY A   2     -26.675 -20.934  12.454  1.00  0.00\n",
      "ATOM      6  CA  GLY A   2     -27.204 -20.346  13.679  1.00  0.00\n",
      "ATOM      7  C   GLY A   2     -26.081 -19.891  14.602  1.00  0.00\n",
      "ATOM      8  O   GLY A   2     -26.180 -18.848  15.248  1.00  0.00\n",
      "ATOM      9  N   GLY A   3     -25.012 -20.556  14.552  1.00  0.00\n",
      "ATOM     10  CA  GLY A   3     -23.901 -20.147  15.403  1.00  0.00\n"
     ]
    }
   ],
   "source": [
    "result = design.wait(verbose=True, timeout=1500) # takes longer for the longer sequence\n",
    "# show only the first 10 lines\n",
    "print(\"\\n\".join(result.splitlines()[:10]))"
   ]
  },
  {
   "cell_type": "markdown",
   "id": "6e38193a-e01e-4cf0-9d06-77debd309770",
   "metadata": {},
   "source": [
    "### Symmetric motif scaffolding\n",
    "\n",
    "We can combine motif scaffolding with symmetric generation to scaffold\n",
    "motifs Here. symmetrically we are doing a C4 symmetric nickel design\n",
    "shown in the RFdiffusion paper."
   ]
  },
  {
   "cell_type": "code",
   "execution_count": 42,
   "id": "2dbffbdd-f636-48a4-b6bd-07ff8b832f51",
   "metadata": {},
   "outputs": [
    {
     "data": {
      "text/plain": [
       "RFdiffusionJob(job_id='4fac45e7-3232-4409-b596-9cb0c1f91ba3', job_type='/models/rfdiffusion', status=<JobStatus.PENDING: 'PENDING'>, created_date=datetime.datetime(2025, 8, 6, 10, 2, 59, 498290, tzinfo=TzInfo(UTC)), start_date=None, end_date=None, prerequisite_job_id=None, progress_message=None, progress_counter=0, sequence_length=None)"
      ]
     },
     "execution_count": 42,
     "metadata": {},
     "output_type": "execute_result"
    }
   ],
   "source": [
    "pdb = requests.get(\"https://raw.githubusercontent.com/RosettaCommons/RFdiffusion/fa340147b9006156b251d1ad0391e3ea8e5f73eb/examples/input_pdbs/nickel_symmetric_motif.pdb\").text\n",
    "design = rfdiffusion.generate(\n",
    "    symmetry=\"cyclic\",\n",
    "    order=4,\n",
    "    structure_file=pdb,\n",
    "    contigs=\"50/A2-4/50/0 50/A7-9/50/0 50/A12-14/50/0 50/A17-19/50/0\",\n",
    "    N=1,\n",
    ")\n",
    "design"
   ]
  },
  {
   "cell_type": "code",
   "execution_count": 43,
   "id": "370ef16f-637f-4398-836f-a03850133058",
   "metadata": {},
   "outputs": [
    {
     "name": "stderr",
     "output_type": "stream",
     "text": [
      "Waiting: 100%|███████████████████████████████████████████████████████████████████████████████████████████████████| 100/100 [03:10<00:00,  1.90s/it, status=SUCCESS]\n"
     ]
    },
    {
     "name": "stdout",
     "output_type": "stream",
     "text": [
      "ATOM      1  N   GLY A   1     -18.280  11.394 -28.960  1.00  0.00\n",
      "ATOM      2  CA  GLY A   1     -19.500  11.542 -28.176  1.00  0.00\n",
      "ATOM      3  C   GLY A   1     -19.500  10.605 -26.975  1.00  0.00\n",
      "ATOM      4  O   GLY A   1     -19.956  10.970 -25.891  1.00  0.00\n",
      "ATOM      5  N   GLY A   2     -19.051   9.465 -27.171  1.00  0.00\n",
      "ATOM      6  CA  GLY A   2     -18.974   8.562 -26.029  1.00  0.00\n",
      "ATOM      7  C   GLY A   2     -18.024   9.099 -24.966  1.00  0.00\n",
      "ATOM      8  O   GLY A   2     -18.276   8.964 -23.769  1.00  0.00\n",
      "ATOM      9  N   GLY A   3     -16.946   9.658 -25.393  1.00  0.00\n",
      "ATOM     10  CA  GLY A   3     -16.017  10.222 -24.421  1.00  0.00\n"
     ]
    }
   ],
   "source": [
    "result = design.wait(verbose=True, timeout=600)\n",
    "# show only the first 10 lines\n",
    "print(\"\\n\".join(result.splitlines()[:10]))"
   ]
  },
  {
   "cell_type": "markdown",
   "id": "27847f93-1346-4396-a0e8-cfe3babb77df",
   "metadata": {},
   "source": [
    "## Macrocyclic peptide design with RFpeptides\n",
    "\n",
    "The newly published RFpeptide protocol, for designing macrocyclic\n",
    "peptides that bind target proteins with atomic accuracy, can be accessed\n",
    "using the flags `inference.cyclic=True` and `inference.cyc_chains`. The\n",
    "former instructs the system to design at least one macrocycle, and the\n",
    "latter is just a string containing the letter of every chain you would\n",
    "like to design as a cyclic peptide. For example,\n",
    "`inference.cyc_chains='a'` means only chain A is cyclized, but one could\n",
    "do `inference.cyc_chains='abcd'` for chains A to D to be cyclized.\n",
    "\n",
    "### Macrocyclic binder design\n",
    "\n",
    "We can add the two flags for macrocyclic peptide design to our binder\n",
    "design:"
   ]
  },
  {
   "cell_type": "code",
   "execution_count": 44,
   "id": "231147cb-0b42-4fd1-b684-904119d8699d",
   "metadata": {},
   "outputs": [
    {
     "data": {
      "text/plain": [
       "RFdiffusionJob(job_id='44fc4c6b-1a4d-4c92-a252-ce5f501a0963', job_type='/models/rfdiffusion', status=<JobStatus.PENDING: 'PENDING'>, created_date=datetime.datetime(2025, 8, 6, 10, 6, 11, 323296, tzinfo=TzInfo(UTC)), start_date=None, end_date=None, prerequisite_job_id=None, progress_message=None, progress_counter=0, sequence_length=None)"
      ]
     },
     "execution_count": 44,
     "metadata": {},
     "output_type": "execute_result"
    }
   ],
   "source": [
    "pdb = requests.get(\"https://raw.githubusercontent.com/RosettaCommons/RFdiffusion/fa340147b9006156b251d1ad0391e3ea8e5f73eb/examples/input_pdbs/7zkr_GABARAP.pdb\").text\n",
    "kwargs = {\n",
    "    \"inference.cyclic\": True,\n",
    "    \"inference.cyc_chains\": \"a\",\n",
    "}\n",
    "design = rfdiffusion.generate(\n",
    "    structure_file=pdb,\n",
    "    contigs=\"12-18 A3-117/0\",\n",
    "    hotspot=\"A51,A52,A50,A48,A62,A65\",\n",
    "    N=1,\n",
    "    **kwargs,\n",
    ")\n",
    "design"
   ]
  },
  {
   "cell_type": "code",
   "execution_count": 45,
   "id": "9f7b0bfc-978f-4d89-aab5-ea3c967a183c",
   "metadata": {},
   "outputs": [
    {
     "name": "stderr",
     "output_type": "stream",
     "text": [
      "Waiting: 100%|███████████████████████████████████████████████████████████████████████████████████████████████████| 100/100 [00:46<00:00,  2.16it/s, status=SUCCESS]\n"
     ]
    },
    {
     "name": "stdout",
     "output_type": "stream",
     "text": [
      "ATOM      1  N   GLY A   1       2.149   8.945   7.688  1.00  0.00\n",
      "ATOM      2  CA  GLY A   1       1.594   7.613   7.895  1.00  0.00\n",
      "ATOM      3  C   GLY A   1       1.251   7.380   9.361  1.00  0.00\n",
      "ATOM      4  O   GLY A   1       1.955   7.850  10.255  1.00  0.00\n",
      "ATOM      5  N   GLY A   2       0.155   6.778   9.609  1.00  0.00\n",
      "ATOM      6  CA  GLY A   2      -0.244   6.391  10.957  1.00  0.00\n",
      "ATOM      7  C   GLY A   2      -0.226   4.877  11.124  1.00  0.00\n",
      "ATOM      8  O   GLY A   2      -0.674   4.141  10.245  1.00  0.00\n",
      "ATOM      9  N   GLY A   3       0.565   4.412  11.986  1.00  0.00\n",
      "ATOM     10  CA  GLY A   3       0.658   2.990  12.294  1.00  0.00\n"
     ]
    }
   ],
   "source": [
    "result = design.wait(verbose=True, timeout=600)\n",
    "# show only the first 10 lines\n",
    "print(\"\\n\".join(result.splitlines()[:10]))"
   ]
  },
  {
   "cell_type": "markdown",
   "id": "a4b7ba08-95d3-46b6-bfd4-231823a8a728",
   "metadata": {},
   "source": [
    "### Macrocyclic monomer design\n",
    "\n",
    "Same for monomer design:"
   ]
  },
  {
   "cell_type": "code",
   "execution_count": 46,
   "id": "0df678f3-c0b8-4494-b979-9977ebbac522",
   "metadata": {},
   "outputs": [
    {
     "data": {
      "text/plain": [
       "RFdiffusionJob(job_id='7e777fdd-b684-4024-902d-429135993c6f', job_type='/models/rfdiffusion', status=<JobStatus.PENDING: 'PENDING'>, created_date=datetime.datetime(2025, 8, 6, 10, 6, 59, 300539, tzinfo=TzInfo(UTC)), start_date=None, end_date=None, prerequisite_job_id=None, progress_message=None, progress_counter=0, sequence_length=None)"
      ]
     },
     "execution_count": 46,
     "metadata": {},
     "output_type": "execute_result"
    }
   ],
   "source": [
    "kwargs = {\n",
    "    \"inference.cyclic\": True,\n",
    "    \"inference.cyc_chains\": \"a\",\n",
    "}\n",
    "design = rfdiffusion.generate(\n",
    "    structure_file=pdb,\n",
    "    contigs=\"12-18\",\n",
    "    N=1,\n",
    "    **kwargs,\n",
    ")\n",
    "design"
   ]
  },
  {
   "cell_type": "code",
   "execution_count": 47,
   "id": "9f9d0fe6-0c38-45ce-8dbe-98cc6e5474f5",
   "metadata": {},
   "outputs": [
    {
     "name": "stderr",
     "output_type": "stream",
     "text": [
      "Waiting: 100%|███████████████████████████████████████████████████████████████████████████████████████████████████| 100/100 [00:36<00:00,  2.76it/s, status=SUCCESS]\n"
     ]
    },
    {
     "name": "stdout",
     "output_type": "stream",
     "text": [
      "ATOM      1  N   GLY A   1      -0.391   3.319   5.675  1.00  0.00\n",
      "ATOM      2  CA  GLY A   1      -1.312   4.425   5.905  1.00  0.00\n",
      "ATOM      3  C   GLY A   1      -0.560   5.718   6.193  1.00  0.00\n",
      "ATOM      4  O   GLY A   1       0.356   5.743   7.015  1.00  0.00\n",
      "ATOM      5  N   GLY A   2       0.333   6.144   6.421  1.00  0.00\n",
      "ATOM      6  CA  GLY A   2       0.840   7.455   6.809  1.00  0.00\n",
      "ATOM      7  C   GLY A   2       1.456   8.181   5.620  1.00  0.00\n",
      "ATOM      8  O   GLY A   2       1.796   9.361   5.709  1.00  0.00\n",
      "ATOM      9  N   GLY A   3       1.361   7.974   4.648  1.00  0.00\n",
      "ATOM     10  CA  GLY A   3       2.026   8.526   3.474  1.00  0.00\n"
     ]
    }
   ],
   "source": [
    "result = design.wait(verbose=True, timeout=600)\n",
    "# show only the first 10 lines\n",
    "print(\"\\n\".join(result.splitlines()[:10]))"
   ]
  }
 ],
 "metadata": {
  "kernelspec": {
   "display_name": "openprotein-python",
   "language": "python",
   "name": "openprotein-python"
  },
  "language_info": {
   "codemirror_mode": {
    "name": "ipython",
    "version": 3
   },
   "file_extension": ".py",
   "mimetype": "text/x-python",
   "name": "python",
   "nbconvert_exporter": "python",
   "pygments_lexer": "ipython3",
   "version": "3.12.10"
  }
 },
 "nbformat": 4,
 "nbformat_minor": 5
}