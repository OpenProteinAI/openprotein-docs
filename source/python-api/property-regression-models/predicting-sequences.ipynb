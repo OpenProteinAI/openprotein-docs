{
 "cells": [
  {
   "cell_type": "markdown",
   "metadata": {
    "id": "YKGqst1_Q7Cz"
   },
   "source": [
    "# Predicting sequences\n",
    "\n",
    "This tutorial shows you how to get the results of your predict jobs when using Property Regression models. Use this to predict scores for new sequences using models trained on your old sequences.\n",
    "\n",
    "## What you need before getting started\n",
    "\n",
    "You need a trained model. See [Training models](./training-models.ipynb) for more information.\n",
    "\n"
   ]
  },
  {
   "cell_type": "markdown",
   "metadata": {
    "id": "L-lBA-G4SCxi"
   },
   "source": [
    "## Predicting your sequences\n",
    "\n",
    "Initiate your predict job with new sequences of interest:"
   ]
  },
  {
   "cell_type": "code",
   "execution_count": null,
   "metadata": {
    "colab": {
     "base_uri": "https://localhost:8080/"
    },
    "id": "x3RPZTBXQ6GZ",
    "outputId": "0f9c4cb1-ce3d-4067-ed09-0955f060df30"
   },
   "outputs": [
    {
     "data": {
      "text/plain": [
       "PredictJob(job_id='6031f2b7-cf98-4b92-b8d8-ffb72f619d7c', job_type=<JobType.predictor_predict: '/predictor/predict'>, status=<JobStatus.PENDING: 'PENDING'>, created_date=datetime.datetime(2024, 12, 3, 5, 40, 46, 933939, tzinfo=TzInfo(UTC)), start_date=None, end_date=None, prerequisite_job_id=None, progress_message=None, progress_counter=0, sequence_length=None)"
      ]
     },
     "execution_count": null,
     "metadata": {},
     "output_type": "execute_result"
    }
   ],
   "source": [
    "new_sequences = [\"PPPGDISSSNDTVGVAVVNYKMPRLHTAAEVLDNARKIAEMIVGMKQGLPGMDLVVFPEYSLQGIMYDPAEMMETAVAIPGEETEIFSRACRKANVWGVFSLTGERHEEHPRKAPYNTLVLIDNNGEIVQKYRKIIPWCPIEGWYPGGQTYVSEGPKGMKISLIICDDGNYPEIWRDCAMKGAELIVRCQGYMYPAKDQQVMMAKAMAWANNCYVAVANAAGFDGVYSYFGHSAIIGFDGRTLGECGEEEMGIQYAQLSLSQIRDARANDQSQNHLFKILHRGYSGLQASGDGDRGLAECPFEFYRTWVTDAEKARENVERLTRSTTGVAQCPVGRLPYEGLEKEA\",\n",
    "                 \"GGGGDISSSNDTVGVAVVNYKMPRLHTAAEVLDNARKIAEMIVGMKQGLPGMDLVVFPEYSLQGIMYDPAEMMETAVAIPGEETEIFSRACRKANVWGVFSLTGERHEEHPRKAPYNTLVLIDNNGEIVQKYRKIIPWCPIEGWYPGGQTYVSEGPKGMKISLIICDDGNYPEIWRDCAMKGAELIVRCQGYMYPAKDQQVMMAKAMAWANNCYVAVANAAGFDGVYSYFGHSAIIGFDGRTLGECGEEEMGIQYAQLSLSQIRDARANDQSQNHLFKILHRGYSGLQASGDGDRGLAECPFEFYRTWVTDAEKARENVERLTRSTTGVAQCPVGRLPYEGLEKEA\"]\n",
    "\n",
    "pjob = predictor.predict(sequences=new_sequences)\n",
    "pjob"
   ]
  },
  {
   "cell_type": "markdown",
   "metadata": {
    "id": "DrCFjsx9U7EZ"
   },
   "source": [
    "View your results when the job is complete:"
   ]
  },
  {
   "cell_type": "code",
   "execution_count": null,
   "metadata": {
    "colab": {
     "base_uri": "https://localhost:8080/"
    },
    "id": "pc9MBuy9U62h",
    "outputId": "604df2fe-b3bd-4c85-8428-6feef62135a2"
   },
   "outputs": [
    {
     "name": "stderr",
     "output_type": "stream",
     "text": [
      "Waiting: 100%|███████████████████████████████████████████████████████████████████████████████████████████████████████████████████████████████████████████████████████████████████████████████████████████████████████████████████████████████████████████████████████████████████████████████████████████████████████| 100/100 [00:01<00:00, 63.41it/s, status=SUCCESS]\n"
     ]
    }
   ],
   "source": [
    "results = pjob.wait(verbose=True)"
   ]
  },
  {
   "cell_type": "code",
   "execution_count": null,
   "metadata": {},
   "outputs": [
    {
     "data": {
      "text/plain": [
       "[Score(sequence=b'PPPGDISSSNDTVGVAVVNYKMPRLHTAAEVLDNARKIAEMIVGMKQGLPGMDLVVFPEYSLQGIMYDPAEMMETAVAIPGEETEIFSRACRKANVWGVFSLTGERHEEHPRKAPYNTLVLIDNNGEIVQKYRKIIPWCPIEGWYPGGQTYVSEGPKGMKISLIICDDGNYPEIWRDCAMKGAELIVRCQGYMYPAKDQQVMMAKAMAWANNCYVAVANAAGFDGVYSYFGHSAIIGFDGRTLGECGEEEMGIQYAQLSLSQIRDARANDQSQNHLFKILHRGYSGLQASGDGDRGLAECPFEFYRTWVTDAEKARENVERLTRSTTGVAQCPVGRLPYEGLEKEA', mean=-0.415189117193222, var=0.1528152972459793),\n",
       " Score(sequence=b'GGGGDISSSNDTVGVAVVNYKMPRLHTAAEVLDNARKIAEMIVGMKQGLPGMDLVVFPEYSLQGIMYDPAEMMETAVAIPGEETEIFSRACRKANVWGVFSLTGERHEEHPRKAPYNTLVLIDNNGEIVQKYRKIIPWCPIEGWYPGGQTYVSEGPKGMKISLIICDDGNYPEIWRDCAMKGAELIVRCQGYMYPAKDQQVMMAKAMAWANNCYVAVANAAGFDGVYSYFGHSAIIGFDGRTLGECGEEEMGIQYAQLSLSQIRDARANDQSQNHLFKILHRGYSGLQASGDGDRGLAECPFEFYRTWVTDAEKARENVERLTRSTTGVAQCPVGRLPYEGLEKEA', mean=-0.4151889681816101, var=0.1528152972459793)]"
      ]
     },
     "execution_count": null,
     "metadata": {},
     "output_type": "execute_result"
    }
   ],
   "source": [
    "from collections import namedtuple\n",
    "Score = namedtuple(\"Score\", [\"sequence\", \"mean\", \"var\"])\n",
    "[Score(s, mu.item(), var.item()) for s, mu, var in zip(pjob.sequences, results[0].T[0], results[1].T[0])]"
   ]
  },
  {
   "cell_type": "markdown",
   "metadata": {
    "id": "KS_KozAUVlJy"
   },
   "source": [
    "## Next steps:\n",
    "\n",
    "Visit the [Predictor API](../api-reference/predictor.rst#openprotein.predictor.PredictorModel) page to learn more.\n",
    "\n"
   ]
  }
 ],
 "metadata": {
  "colab": {
   "provenance": []
  },
  "kernelspec": {
   "display_name": "openprotein-python-client",
   "language": "python",
   "name": "openprotein-python-client"
  },
  "language_info": {
   "codemirror_mode": {
    "name": "ipython",
    "version": 3
   },
   "file_extension": ".py",
   "mimetype": "text/x-python",
   "name": "python",
   "nbconvert_exporter": "python",
   "pygments_lexer": "ipython3",
   "version": "3.12.7"
  }
 },
 "nbformat": 4,
 "nbformat_minor": 4
}
