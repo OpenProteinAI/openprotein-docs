{
 "cells": [
  {
   "cell_type": "markdown",
   "metadata": {
    "id": "BpVqATkHEAt4"
   },
   "source": [
    "# Designing sequences\n",
    "\n",
    "This tutorial shows you how to design protein sequences based on your chosen objectives. Use our sequence-to-function learning to customize design criteria and design variant libraries based on your data.\n",
    "\n",
    "## What you need before getting started\n",
    "\n",
    "In order to design sequences, you need an uploaded dataset and a trained model. Please see [Uploading data](./uploading-data.ipynb) and [Training models](./training-models.ipynb) for more information.\n",
    "\n",
    "\n",
    "\n"
   ]
  },
  {
   "cell_type": "markdown",
   "metadata": {
    "id": "zdYLbxQ4PeWM"
   },
   "source": [
    "## Initializing your design\n",
    "\n",
    "Set up a design job using your trained model as a criteria. You also need to create a mutation map to define which positions and residues should be mutated.\n",
    "\n",
    "Our helper functions can be used to initialize your design mutation dictionary:"
   ]
  },
  {
   "cell_type": "code",
   "execution_count": null,
   "metadata": {
    "colab": {
     "base_uri": "https://localhost:8080/"
    },
    "id": "wVnU8LfMEAt9",
    "outputId": "194c82a4-8a3b-4ab5-dce7-e76e4e4e1bef"
   },
   "outputs": [
    {
     "name": "stdout",
     "output_type": "stream",
     "text": [
      "WRHGDISSSNDTVGVAVVNYKMPRLHTAAEVLDNARKIAEMIVGMKQGLPGMDLVVFPEYSLQGIMYDPAEMMETAVAIPGEETEIFSRACRKANVWGVFSLTGERHEEHPRKAPYNTLVLIDNNGEIVQKYRKIIPWCPIEGWYPGGQTYVSEGPKGMKISLIICDDGNYPEIWRDCAMKGAELIVRCQGYMYPAKDQQVMMAKAMAWANNCYVAVANAAGFDGVYSYFGHSAIIGFDGRTLGECGEEEMGIQYAQLSLSQIRDARANDQSQNHLFKILHRGYSGLQASGDGDRGLAECPFEFYRTWVTDAEKARENVERLTRSTTGVAQCPVGRLPYEGLEKEA\n"
     ]
    }
   ],
   "source": [
    "from openprotein.design import DesignConstraint\n",
    "\n",
    "parent_sequence = assay.get_first().loc[0,'sequence']\n",
    "print(parent_sequence)"
   ]
  },
  {
   "cell_type": "markdown",
   "metadata": {
    "id": "h2TgI3fyFbzO"
   },
   "source": [
    "Initialize the design constraints:"
   ]
  },
  {
   "cell_type": "code",
   "execution_count": null,
   "metadata": {
    "id": "bIXZRLPiFen8"
   },
   "outputs": [],
   "source": [
    "constraints = DesignConstraint(parent_sequence)"
   ]
  },
  {
   "cell_type": "markdown",
   "metadata": {
    "id": "3BBG_9f6FhLK"
   },
   "source": [
    "Use the constraints to indicate which mutations are allowed at which positions.\n",
    "\n",
    "For example, we can restrict positions 3 and 6 to G, L only, and position 9 to C only."
   ]
  },
  {
   "cell_type": "code",
   "execution_count": null,
   "metadata": {
    "id": "Z6l8UIzeFoR5"
   },
   "outputs": [],
   "source": [
    "constraints.allow([3, 6], [\"G\", \"L\"])\n",
    "\n",
    "constraints.allow(9, \"C\")"
   ]
  },
  {
   "cell_type": "markdown",
   "metadata": {
    "id": "_BE_dgbEFn3b"
   },
   "source": [
    "Create design goals/criteria using trained model and limiting the number of mutations.\n",
    "\n",
    "Here, we set the model design criterion to have the predicted `isobutyramide_normalized_fitness` be less than -0.5, scored with a weight of 1.0."
   ]
  },
  {
   "cell_type": "code",
   "execution_count": null,
   "metadata": {
    "id": "sbc_BocuGk8F"
   },
   "outputs": [],
   "source": [
    "from openprotein.design import n_mutations\n",
    "criteria = (1.0 * (predictor < 0.5)) | n_mutations()"
   ]
  },
  {
   "cell_type": "markdown",
   "metadata": {
    "id": "iIqEQM5qEAuA"
   },
   "source": [
    "Create the design job:"
   ]
  },
  {
   "cell_type": "code",
   "execution_count": null,
   "metadata": {
    "colab": {
     "base_uri": "https://localhost:8080/"
    },
    "id": "D04Emc0FEAuB",
    "outputId": "71bc982d-5083-4b12-f62c-4e8e2c5a2f5d"
   },
   "outputs": [
    {
     "data": {
      "text/plain": [
       "DesignJob(job_id='606dda22-1891-4620-949f-852a1dac6ab1', job_type=<JobType.designer: '/design'>, status=<JobStatus.PENDING: 'PENDING'>, created_date=datetime.datetime(2024, 12, 3, 5, 30, 10, 659481, tzinfo=TzInfo(UTC)), start_date=None, end_date=None, prerequisite_job_id=None, progress_message=None, progress_counter=0, sequence_length=None)"
      ]
     },
     "execution_count": null,
     "metadata": {},
     "output_type": "execute_result"
    }
   ],
   "source": [
    "design_job = session.design.create_genetic_algorithm_design(\n",
    "    assay=assay,\n",
    "    criteria=criteria,\n",
    "    allowed_tokens=constraints\n",
    ")\n",
    "\n",
    "design_id = design_job.id\n",
    "design_job"
   ]
  },
  {
   "cell_type": "markdown",
   "metadata": {
    "id": "zNSpaUCqEAuD"
   },
   "source": [
    "View the design results:"
   ]
  },
  {
   "cell_type": "code",
   "execution_count": null,
   "metadata": {
    "id": "4zJiSh0EEAuD"
   },
   "outputs": [],
   "source": [
    "results = design_job.wait()"
   ]
  },
  {
   "cell_type": "code",
   "execution_count": null,
   "metadata": {},
   "outputs": [
    {
     "data": {
      "text/plain": [
       "{'step': 1,\n",
       " 'sample_index': 35,\n",
       " 'sequence': 'WRLGDLSSCNDTVGVAVVNYKMPRLHTAAEVLDNARKIAEMIVGMKQGLPGMDLVVFPEYSLQGIMYDPAEMMETAVAIPGEETEIFSRACRKANVWGVFSLTGERHEEHPRKAPYNTLVLIDNNGEIVQKYRKIIPWCPIEGWYPGGQTYVSEGPKGMKISLIICDDGNYPEIWRDCAMKGAELIVRCQGYMYPAKDQQVMMAKAMAWANNCYVAVANAAGFDGVYSYFGHSAIIGFDGRTLGECGEEEMGIQYAQLSLSQIRDARANDQSQNHLFKILHRGYSGLQASGDGDRGLAECPFEFYRTWVTDAEKARENVERLTRSTTGVAQCPVGRLPYEGLEKEA',\n",
       " 'scores': array([ -0.88159519, 344.        ]),\n",
       " 'subscores': array([ -0.88159519, 344.        ]),\n",
       " 'means': array([-0.41518891]),\n",
       " 'vars': array([0.1528153])}"
      ]
     },
     "execution_count": null,
     "metadata": {},
     "output_type": "execute_result"
    }
   ],
   "source": [
    "results[-1]._asdict()"
   ]
  },
  {
   "cell_type": "markdown",
   "metadata": {
    "id": "6XYLcrRDxHzz"
   },
   "source": [
    "## Next steps\n",
    "\n",
    "Our [Design API](../api-reference/design.rst) reference contains more information about designing your sequences.\n",
    "\n",
    "Explore your designed sequence's structure with our [Structure prediction](../structure-prediction/API-based-structure-prediction.rst) models, or evaluate the single substitution variants of your sequence with our Property Regression models. Visit [Using single site analysis](./single-site-analysis.ipynb) for more information.\n",
    "\n"
   ]
  }
 ],
 "metadata": {
  "colab": {
   "provenance": []
  },
  "kernelspec": {
   "display_name": "openprotein-python-client",
   "language": "python",
   "name": "openprotein-python-client"
  },
  "language_info": {
   "codemirror_mode": {
    "name": "ipython",
    "version": 3
   },
   "file_extension": ".py",
   "mimetype": "text/x-python",
   "name": "python",
   "nbconvert_exporter": "python",
   "pygments_lexer": "ipython3",
   "version": "3.12.7"
  }
 },
 "nbformat": 4,
 "nbformat_minor": 4
}
