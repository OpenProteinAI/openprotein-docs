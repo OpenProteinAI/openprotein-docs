{
 "cells": [
  {
   "cell_type": "markdown",
   "metadata": {
    "id": "lPr4BHIjnXTw"
   },
   "source": [
    "# Using single site analysis\n",
    "\n",
    "This tutorial shows you how to perform a single site analysis using your trained models. It will enumerate all single mutants of a selected sequence and predict the relevant property selected at model training. The Predict module works with single sequences as well as single mutant variants of the sequence.\n",
    "\n",
    "## What you need before getting started\n",
    "\n",
    "This workflow requires experimental data. If you don’t have experimental data, get started with our PoET single site analysis tool which uses evolutionary data from a multiple sequence alignment. See [Creating a multiple sequence alignment](../poet/creating-MSA.ipynb) for more information.\n",
    "\n",
    "In order to perform a single site analysis with the Predict module, you need a trained model. To upload a dataset and train a model,\n",
    "please see [Uploading data](./uploading-data.ipynb) and [Training models](./training-models.ipynb)."
   ]
  },
  {
   "cell_type": "markdown",
   "metadata": {
    "id": "BH0e9JRhzctg"
   },
   "source": [
    "## Predicting your sequences\n",
    "\n",
    "Create a new Predict job for single site mutation analysis using your trained model:"
   ]
  },
  {
   "cell_type": "code",
   "execution_count": null,
   "metadata": {
    "id": "pKImGcYpzm93"
   },
   "outputs": [],
   "source": [
    "sequence = assay.get_first().sequence[0]\n",
    "\n",
    "sspredict = predictor.single_site(sequence)"
   ]
  },
  {
   "cell_type": "code",
   "execution_count": null,
   "metadata": {
    "colab": {
     "base_uri": "https://localhost:8080/"
    },
    "id": "ApvZPPqfCTAX",
    "outputId": "3169a278-658a-4829-c967-740f1daec02b"
   },
   "outputs": [
    {
     "data": {
      "text/plain": [
       "PredictSingleSiteJob(job_id='d0e7b585-a98c-45ea-8d27-1d81d8aad64e', job_type=<JobType.predictor_predict_single_site: '/predictor/predict_single_site'>, status=<JobStatus.PENDING: 'PENDING'>, created_date=datetime.datetime(2024, 12, 3, 6, 5, 22, 897647, tzinfo=TzInfo(UTC)), start_date=None, end_date=None, prerequisite_job_id=None, progress_message=None, progress_counter=0, sequence_length=None)"
      ]
     },
     "execution_count": null,
     "metadata": {},
     "output_type": "execute_result"
    }
   ],
   "source": [
    "sspredict"
   ]
  },
  {
   "cell_type": "markdown",
   "metadata": {
    "id": "DuS-lM82nXTz"
   },
   "source": [
    "Call your results:"
   ]
  },
  {
   "cell_type": "code",
   "execution_count": null,
   "metadata": {
    "colab": {
     "base_uri": "https://localhost:8080/"
    },
    "id": "-uAGkebonXTz",
    "outputId": "3a5f4545-bad7-49fd-f11b-60060729b572"
   },
   "outputs": [
    {
     "name": "stderr",
     "output_type": "stream",
     "text": [
      "Waiting: 100%|███████████████████████████████████████████████████████████████████████████████████████████████████████████████████████████████████████████████████████████████████████████████████████████████████████████████████████████████████████████████████████████████████████████████████████████████████████| 100/100 [09:44<00:00,  5.84s/it, status=SUCCESS]\n"
     ]
    }
   ],
   "source": [
    "ssp_results = sspredict.wait(verbose=True)"
   ]
  },
  {
   "cell_type": "code",
   "execution_count": null,
   "metadata": {},
   "outputs": [
    {
     "data": {
      "text/plain": [
       "[Score(sequence=b'ARHGDISSSNDTVGVAVVNYKMPRLHTAAEVLDNARKIAEMIVGMKQGLPGMDLVVFPEYSLQGIMYDPAEMMETAVAIPGEETEIFSRACRKANVWGVFSLTGERHEEHPRKAPYNTLVLIDNNGEIVQKYRKIIPWCPIEGWYPGGQTYVSEGPKGMKISLIICDDGNYPEIWRDCAMKGAELIVRCQGYMYPAKDQQVMMAKAMAWANNCYVAVANAAGFDGVYSYFGHSAIIGFDGRTLGECGEEEMGIQYAQLSLSQIRDARANDQSQNHLFKILHRGYSGLQASGDGDRGLAECPFEFYRTWVTDAEKARENVERLTRSTTGVAQCPVGRLPYEGLEKEA', mean=-0.5376995205879211, var=0.0051577556878328),\n",
       " Score(sequence=b'RRHGDISSSNDTVGVAVVNYKMPRLHTAAEVLDNARKIAEMIVGMKQGLPGMDLVVFPEYSLQGIMYDPAEMMETAVAIPGEETEIFSRACRKANVWGVFSLTGERHEEHPRKAPYNTLVLIDNNGEIVQKYRKIIPWCPIEGWYPGGQTYVSEGPKGMKISLIICDDGNYPEIWRDCAMKGAELIVRCQGYMYPAKDQQVMMAKAMAWANNCYVAVANAAGFDGVYSYFGHSAIIGFDGRTLGECGEEEMGIQYAQLSLSQIRDARANDQSQNHLFKILHRGYSGLQASGDGDRGLAECPFEFYRTWVTDAEKARENVERLTRSTTGVAQCPVGRLPYEGLEKEA', mean=-0.6088411808013916, var=0.0051713902503252),\n",
       " Score(sequence=b'NRHGDISSSNDTVGVAVVNYKMPRLHTAAEVLDNARKIAEMIVGMKQGLPGMDLVVFPEYSLQGIMYDPAEMMETAVAIPGEETEIFSRACRKANVWGVFSLTGERHEEHPRKAPYNTLVLIDNNGEIVQKYRKIIPWCPIEGWYPGGQTYVSEGPKGMKISLIICDDGNYPEIWRDCAMKGAELIVRCQGYMYPAKDQQVMMAKAMAWANNCYVAVANAAGFDGVYSYFGHSAIIGFDGRTLGECGEEEMGIQYAQLSLSQIRDARANDQSQNHLFKILHRGYSGLQASGDGDRGLAECPFEFYRTWVTDAEKARENVERLTRSTTGVAQCPVGRLPYEGLEKEA', mean=-0.5321740508079529, var=0.0051800329238176),\n",
       " Score(sequence=b'DRHGDISSSNDTVGVAVVNYKMPRLHTAAEVLDNARKIAEMIVGMKQGLPGMDLVVFPEYSLQGIMYDPAEMMETAVAIPGEETEIFSRACRKANVWGVFSLTGERHEEHPRKAPYNTLVLIDNNGEIVQKYRKIIPWCPIEGWYPGGQTYVSEGPKGMKISLIICDDGNYPEIWRDCAMKGAELIVRCQGYMYPAKDQQVMMAKAMAWANNCYVAVANAAGFDGVYSYFGHSAIIGFDGRTLGECGEEEMGIQYAQLSLSQIRDARANDQSQNHLFKILHRGYSGLQASGDGDRGLAECPFEFYRTWVTDAEKARENVERLTRSTTGVAQCPVGRLPYEGLEKEA', mean=-0.5016323924064636, var=0.0051677394658327),\n",
       " Score(sequence=b'CRHGDISSSNDTVGVAVVNYKMPRLHTAAEVLDNARKIAEMIVGMKQGLPGMDLVVFPEYSLQGIMYDPAEMMETAVAIPGEETEIFSRACRKANVWGVFSLTGERHEEHPRKAPYNTLVLIDNNGEIVQKYRKIIPWCPIEGWYPGGQTYVSEGPKGMKISLIICDDGNYPEIWRDCAMKGAELIVRCQGYMYPAKDQQVMMAKAMAWANNCYVAVANAAGFDGVYSYFGHSAIIGFDGRTLGECGEEEMGIQYAQLSLSQIRDARANDQSQNHLFKILHRGYSGLQASGDGDRGLAECPFEFYRTWVTDAEKARENVERLTRSTTGVAQCPVGRLPYEGLEKEA', mean=-0.5288747549057007, var=0.0051603335887193)]"
      ]
     },
     "execution_count": null,
     "metadata": {},
     "output_type": "execute_result"
    }
   ],
   "source": [
    "from collections import namedtuple\n",
    "Score = namedtuple(\"Score\", [\"sequence\", \"mean\", \"var\"])\n",
    "[Score(s, mu.item(), var.item()) for s, mu, var in zip(sspredict.sequences[:5], ssp_results[0].T[0][:5], ssp_results[1].T[0][:5])]"
   ]
  },
  {
   "cell_type": "markdown",
   "metadata": {
    "id": "okhvFryDTiRx"
   },
   "source": [
    "## Next steps\n",
    "\n",
    "Our [Predictor API](../api-reference/predictor.rst#openprotein.predictor.PredictorModel) page contains more information about single site analysis using your trained model.\n",
    "\n",
    "Once you’re finished evaluating single substitution variants, use [Structure prediction](../structure-prediction/API-based-structure-prediction.rst) to visualize your sequence of interest."
   ]
  }
 ],
 "metadata": {
  "colab": {
   "provenance": []
  },
  "kernelspec": {
   "display_name": "openprotein-python-client",
   "language": "python",
   "name": "openprotein-python-client"
  },
  "language_info": {
   "codemirror_mode": {
    "name": "ipython",
    "version": 3
   },
   "file_extension": ".py",
   "mimetype": "text/x-python",
   "name": "python",
   "nbconvert_exporter": "python",
   "pygments_lexer": "ipython3",
   "version": "3.12.7"
  }
 },
 "nbformat": 4,
 "nbformat_minor": 4
}
