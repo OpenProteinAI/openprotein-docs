{
  "cells": [
    {
      "cell_type": "markdown",
      "metadata": {
        "id": "cO5kxeXre-HB"
      },
      "source": [
        "# SVD and embeddings\n",
        "\n",
        "This tutorial shows you how to fit an SVD embedding.\n",
        "\n",
        "## What you need before getting started\n",
        "\n",
        "You need a protein sequence of interest.\n",
        "\n",
        "## Using SVD to get high-fidelity custom-sized embeddings\n",
        "\n",
        "Truncated SVD can be used to find reduced sized protein embeddings that retain the most information by finding vectors that best explain the localized sequence space.\n",
        "\n",
        "This is useful for retrieving large numbers of embeddings for mutagenesis analysis. The SVD can be fit on any set of sequences using the `model.fit_svd()` function. This function returns a new SVD model object that can be used to embed new sequences.\n",
        "\n",
        "The default `reduction = none` can be used with sequences of equal length. Use `reduction = mean` to return the mean embedding over the sequence length.\n",
        "\n",
        "Existing SVD models can be listed and retrieved with `session.embedding.list_svd()` and can be deleted with the `svd.delete()` function."
      ]
    },
    {
      "cell_type": "markdown",
      "metadata": {
        "id": "gE9xeMoPtVIS"
      },
      "source": [
        "## Fitting an SVD\n",
        "\n",
        "The example uses green fluorescent protein and a variant:"
      ]
    },
    {
      "cell_type": "code",
      "execution_count": null,
      "metadata": {
        "id": "O1pSg0LKn6_A"
      },
      "outputs": [],
      "source": [
        "variants = [\n",
        "    \"MSKGEELFTGVVPILVELDGDVNGHKFSVSGEGEGDATYGKLTLKFICTTGKLPVPWPTLVTTFSYGVQCFSRYPD\" +\n",
        "    \"HMKQHDFFKSAMPEGYVQERTIFFKDDGNYKTRAEVKFEGDTLVNRIELKGIDFKEDGNILGHKLEYNYNSHNVYI\" +\n",
        "    \"MADKQKNGIKVNFKIRHNIEDGSVQLADHYQQNTPIGDGPVLLPDNHYLSTQSALSKDPNEKRDHMVLLEFVTAAG\" +\n",
        "    \"ITHGMDELYK\",\n",
        "    \"MSKGEELFTGVVPILVELDGDVNGHKFSVSGEGEGDATYGKLTLKFICTTGKLPVPWPTLVTTFSYGVQCFSRYPD\" +\n",
        "    \"HMKQHDFFKSAMPEGYVQERTIFYKDDGNYKTRAEVKFEGDTLVNRIELKGIDFKEDGNILGHKLEYNYNSHNVYI\" +\n",
        "    \"MADKQKNGIKVNFKIRHNIEDGSVQLADHYQQNTPIGDGPVLLPDNHYLSTQSALSKDPNEKRDHMVLLEFVTAAG\"\n",
        "    \"ITHGMDELYK\"\n",
        "    ]"
      ]
    },
    {
      "cell_type": "markdown",
      "metadata": {
        "id": "LczvHt65nVpw"
      },
      "source": [
        "Access the SVD model through the session’s embedding attribute using the model’s ID and the desired method:"
      ]
    },
    {
      "cell_type": "code",
      "execution_count": null,
      "metadata": {
        "colab": {
          "base_uri": "https://localhost:8080/"
        },
        "id": "jE25WmIdtsbi",
        "outputId": "926e2980-3aa1-4d2b-ba8b-3b97967cdf25"
      },
      "outputs": [
        {
          "name": "stdout",
          "output_type": "stream",
          "text": [
            "{\n",
            "    \"id\": \"c320a9f2-661a-4a1c-a518-f235042168e9\",\n",
            "    \"status\": \"PENDING\",\n",
            "    \"created_date\": \"2024-06-13T03:13:23.794642+00:00\",\n",
            "    \"model_id\": \"prot-seq\",\n",
            "    \"n_components\": 2,\n",
            "    \"reduction\": null,\n",
            "    \"sequence_length\": 238\n",
            "}\n"
          ]
        },
        {
          "name": "stderr",
          "output_type": "stream",
          "text": [
            "Waiting: 100%|██████████| 100/100 [06:58<00:00,  4.18s/it, status=SUCCESS]\n"
          ]
        },
        {
          "data": {
            "text/plain": [
              "True"
            ]
          },
          "execution_count": 3,
          "metadata": {},
          "output_type": "execute_result"
        }
      ],
      "source": [
        "model = session.embedding.get_model(\"prot-seq\")\n",
        "svd = model.fit_svd(variants, n_components=256)\n",
        "print(svd.metadata.json(indent=4))\n",
        "svd.wait_until_done(verbose=True)"
      ]
    },
    {
      "cell_type": "markdown",
      "metadata": {
        "id": "zfZthBx4sXSz"
      },
      "source": [
        "Embed the variants. Please wait for the embedding model to finish fitting before calling embed, otherwise you will get an error."
      ]
    },
    {
      "cell_type": "code",
      "execution_count": null,
      "metadata": {
        "colab": {
          "base_uri": "https://localhost:8080/"
        },
        "id": "THH7JyxEe6kN",
        "outputId": "586260fa-999b-4ecb-8f84-79b5f4a3978f"
      },
      "outputs": [
        {
          "name": "stdout",
          "output_type": "stream",
          "text": [
            "status=<JobStatus.PENDING: 'PENDING'> job_id='3f76bc7f-077d-4ab5-8499-57927bd5e85d' job_type=<JobType.svd_embed: '/svd/embed'> created_date=datetime.datetime(2024, 6, 13, 3, 20, 23, 3133, tzinfo=datetime.timezone.utc) start_date=None end_date=None prerequisite_job_id=None progress_message=None progress_counter=0 num_records=2 sequence_length=None\n"
          ]
        },
        {
          "name": "stderr",
          "output_type": "stream",
          "text": [
            "Waiting: 100%|██████████| 100/100 [01:59<00:00,  1.20s/it, status=SUCCESS]\n"
          ]
        },
        {
          "data": {
            "text/plain": [
              "2"
            ]
          },
          "execution_count": 4,
          "metadata": {},
          "output_type": "execute_result"
        }
      ],
      "source": [
        "svd_embed_future = svd.embed(variants)\n",
        "print(svd_embed_future.job)\n",
        "svd_embed_future.wait_until_done(verbose=True)\n",
        "\n",
        "svd_embed_results = svd_embed_future.get()\n",
        "len(svd_embed_results)"
      ]
    },
    {
      "cell_type": "code",
      "execution_count": null,
      "metadata": {
        "colab": {
          "base_uri": "https://localhost:8080/"
        },
        "id": "f58v4fuZ9Q0_",
        "outputId": "9338247b-b1ef-41bd-fe45-c3b8819d5874"
      },
      "outputs": [
        {
          "data": {
            "text/plain": [
              "[('MSKGEELFTGVVPILVELDGDVNGHKFSVSGEGEGDATYGKLTLKFICTTGKLPVPWPTLVTTFSYGVQCFSRYPDHMKQHDFFKSAMPEGYVQERTIFFKDDGNYKTRAEVKFEGDTLVNRIELKGIDFKEDGNILGHKLEYNYNSHNVYIMADKQKNGIKVNFKIRHNIEDGSVQLADHYQQNTPIGDGPVLLPDNHYLSTQSALSKDPNEKRDHMVLLEFVTAAGITHGMDELYK',\n",
              "  array([-1527.4696  ,   -38.118176], dtype=float32)),\n",
              " ('MSKGEELFTGVVPILVELDGDVNGHKFSVSGEGEGDATYGKLTLKFICTTGKLPVPWPTLVTTFSYGVQCFSRYPDHMKQHDFFKSAMPEGYVQERTIFYKDDGNYKTRAEVKFEGDTLVNRIELKGIDFKEDGNILGHKLEYNYNSHNVYIMADKQKNGIKVNFKIRHNIEDGSVQLADHYQQNTPIGDGPVLLPDNHYLSTQSALSKDPNEKRDHMVLLEFVTAAGITHGMDELYK',\n",
              "  array([-1533.2668 ,    37.97419], dtype=float32))]"
            ]
          },
          "execution_count": 5,
          "metadata": {},
          "output_type": "execute_result"
        }
      ],
      "source": [
        "svd_embed_results"
      ]
    },
    {
      "cell_type": "markdown",
      "metadata": {
        "id": "GwVucTcIb_y6"
      },
      "source": [
        "## Next steps\n",
        "\n",
        "For more information, visit the [Embeddings API](https://docs.openprotein.ai/api-python/embedding.html) reference."
      ]
    }
  ],
  "metadata": {
    "colab": {
      "provenance": []
    },
    "kernelspec": {
      "display_name": "Python 3",
      "name": "python3"
    },
    "language_info": {
      "name": "python"
    }
  },
  "nbformat": 4,
  "nbformat_minor": 0
}
