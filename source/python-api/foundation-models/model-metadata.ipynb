{
  "cells": [
    {
      "cell_type": "markdown",
      "metadata": {
        "id": "ZPIMIXS8dOrH"
      },
      "source": [
        "# Model metadata\n",
        "\n",
        "This tutorial briefly covers how to run `Embedding` workflows."
      ]
    },
    {
      "cell_type": "markdown",
      "metadata": {},
      "source": [
        "## What you need before getting started\n",
        "\n",
        "Import the json module:"
      ]
    },
    {
      "cell_type": "code",
      "execution_count": null,
      "metadata": {
        "id": "xJQGtj1ltyKN"
      },
      "outputs": [],
      "source": [
        "import json"
      ]
    },
    {
      "cell_type": "markdown",
      "metadata": {
        "id": "DLM3VCLAdOrL"
      },
      "source": [
        "## Viewing models and metadata\n",
        "\n",
        "List the available models:"
      ]
    },
    {
      "cell_type": "code",
      "execution_count": null,
      "metadata": {
        "colab": {
          "base_uri": "https://localhost:8080/"
        },
        "id": "JBuq0l9bdOrM",
        "outputId": "213c5f15-6097-4b89-a39d-d204997ac124"
      },
      "outputs": [
        {
          "data": {
            "text/plain": [
              "[esm1b_t33_650M_UR50S,\n",
              " esm1v_t33_650M_UR90S_1,\n",
              " esm1v_t33_650M_UR90S_2,\n",
              " esm1v_t33_650M_UR90S_3,\n",
              " esm1v_t33_650M_UR90S_4,\n",
              " esm1v_t33_650M_UR90S_5,\n",
              " esm2_t12_35M_UR50D,\n",
              " esm2_t30_150M_UR50D,\n",
              " esm2_t33_650M_UR50D,\n",
              " esm2_t36_3B_UR50D,\n",
              " esm2_t6_8M_UR50D,\n",
              " poet,\n",
              " prot-seq,\n",
              " rotaprot-large-uniref50w,\n",
              " rotaprot-large-uniref90-ft]"
            ]
          },
          "execution_count": 6,
          "metadata": {},
          "output_type": "execute_result"
        }
      ],
      "source": [
        "session.embedding.list_models()"
      ]
    },
    {
      "cell_type": "markdown",
      "metadata": {
        "id": "OwQVkq87dOrN"
      },
      "source": [
        "Fetch metadata for more information, including publications and DOIs where available:"
      ]
    },
    {
      "cell_type": "code",
      "execution_count": null,
      "metadata": {
        "colab": {
          "base_uri": "https://localhost:8080/"
        },
        "id": "gGS6D7ARdOrO",
        "outputId": "6b452ab2-2a81-432b-b133-05b7fa95d43d"
      },
      "outputs": [
        {
          "name": "stdout",
          "output_type": "stream",
          "text": [
            "citation_title: Biological Structure and Function Emerge from Scaling Unsupervised Learning to 250 Million Protein Sequences\n",
            "doi: 10.1101/622803\n",
            "summary: ESM1b model with 650M parameters\n"
          ]
        }
      ],
      "source": [
        "esm_model = session.embedding.list_models()[0]\n",
        "for k,v in esm_model.metadata.dict()['description'].items():\n",
        "  print(f\"{k}: {v}\")"
      ]
    },
    {
      "cell_type": "markdown",
      "metadata": {
        "id": "fCRX_oLOdOrO"
      },
      "source": [
        "or:"
      ]
    },
    {
      "cell_type": "code",
      "execution_count": null,
      "metadata": {
        "colab": {
          "base_uri": "https://localhost:8080/"
        },
        "id": "Da1zBGJhdOrP",
        "outputId": "9a2712ec-29eb-4368-ebd3-533d36ed9d47"
      },
      "outputs": [
        {
          "name": "stdout",
          "output_type": "stream",
          "text": [
            "Masked protein language model (~300M parameters) trained on UniRef50 with contact and secondary structure prediction as secondary objectives. Uses random Fourier position embeddings and FlashAttention to enable fast inference.\n",
            "         max_sequence_length = 1024\n",
            "         supported outputs = ['attn', 'embed', 'logits']\n",
            "         supported tokens = ['A', 'R', 'N', 'D', 'C', 'Q', 'E', 'G', 'H', 'I', 'L', 'K', 'M', 'F', 'P', 'S', 'T', 'W', 'Y', 'V', 'X', 'O', 'U', 'B', 'Z'] \n",
            "        \n"
          ]
        }
      ],
      "source": [
        "session.embedding.prot_seq?"
      ]
    },
    {
      "cell_type": "markdown",
      "metadata": {
        "id": "CCvAzxl8dOrP"
      },
      "source": [
        "View data about supported tokens and outputs:"
      ]
    },
    {
      "cell_type": "code",
      "execution_count": null,
      "metadata": {
        "colab": {
          "base_uri": "https://localhost:8080/"
        },
        "id": "7znLpXbvdOrQ",
        "outputId": "378f9a9a-cc66-48b5-de8d-799b67a9e1ef"
      },
      "outputs": [
        {
          "name": "stdout",
          "output_type": "stream",
          "text": [
            "model_id: esm1b_t33_650M_UR50S\n",
            "description: {'citation_title': 'Biological Structure and Function Emerge from Scaling Unsupervised Learning to 250 Million Protein Sequences', 'doi': '10.1101/622803', 'summary': 'ESM1b model with 650M parameters'}\n",
            "max_sequence_length: 1022\n",
            "dimension: 1280\n",
            "output_types: ['attn', 'embed', 'logits']\n",
            "input_tokens: ['A', 'R', 'N', 'D', 'C', 'Q', 'E', 'G', 'H', 'I', 'L', 'K', 'M', 'F', 'P', 'S', 'T', 'W', 'Y', 'V', 'X', 'O', 'U', 'B', 'Z']\n",
            "output_tokens: ['<cls>', '<pad>', '<eos>', '<unk>', 'L', 'A', 'G', 'V', 'S', 'E', 'R', 'T', 'I', 'D', 'P', 'K', 'Q', 'N', 'F', 'Y', 'M', 'H', 'W', 'C', '<null_0>', 'B', 'U', 'Z', 'O', '.', '-', '<null_1>', 'X']\n"
          ]
        }
      ],
      "source": [
        "for k,v in esm_model.metadata.dict().items():\n",
        "  if k == \"token_descriptions\":\n",
        "    continue\n",
        "  print(f\"{k}: {v}\")"
      ]
    },
    {
      "cell_type": "markdown",
      "metadata": {
        "id": "WlogD6Khb6g9"
      },
      "source": [
        "## Next steps\n",
        "\n",
        "For more information, visit the [Embeddings API](../api-reference/embedding.rst) reference."
      ]
    }
  ],
  "metadata": {
    "colab": {
      "provenance": []
    },
    "kernelspec": {
      "display_name": "py38",
      "language": "python",
      "name": "python3"
    },
    "language_info": {
      "codemirror_mode": {
        "name": "ipython",
        "version": 3
      },
      "file_extension": ".py",
      "mimetype": "text/x-python",
      "name": "python",
      "nbconvert_exporter": "python",
      "pygments_lexer": "ipython3",
      "version": "3.8.16"
    },
    "orig_nbformat": 4
  },
  "nbformat": 4,
  "nbformat_minor": 0
}
