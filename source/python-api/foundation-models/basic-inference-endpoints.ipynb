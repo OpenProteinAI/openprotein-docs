{
  "cells": [
    {
      "cell_type": "markdown",
      "metadata": {
        "id": "IbYRI_sfOnqk"
      },
      "source": [
        "# Basic inference endpoints\n",
        "\n",
        "Models in the embedding module can be selected with the\n",
        "`session.embedding.get_model(model_id)` function and expose up to four basic\n",
        "inference methods:\n",
        "\n",
        "- `model.embed([sequences], reduction='mean')`\n",
        "- `model.logits([sequences])`\n",
        "- `model.attn([sequences])`\n",
        "- `model.fit_svd([sequences])`\n",
        "\n",
        "Sequences are expected to be amino acid sequences using the standard single character amino acid alphabet, plus `X` to indicate masked/unknown positions. More information about sequences can be retrieved from the model metadata (`model.metadata`) which also includes sequence length constraints and information about tokens.\n",
        "\n",
        "Available models can be listed with `session.embedding.list_models()`.\n",
        "\n",
        "## Next steps\n",
        "\n",
        "For more information, visit the [Embeddings API](../api-reference/embedding.rst) reference.\n"
      ]
    }
  ],
  "metadata": {
    "colab": {
      "provenance": []
    },
    "kernelspec": {
      "display_name": "Python 3",
      "name": "python3"
    },
    "language_info": {
      "name": "python"
    }
  },
  "nbformat": 4,
  "nbformat_minor": 0
}
