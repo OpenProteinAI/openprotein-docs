{
 "cells": [
  {
   "cell_type": "code",
   "execution_count": 1,
   "metadata": {},
   "outputs": [],
   "source": [
    "%matplotlib inline"
   ]
  },
  {
   "cell_type": "code",
   "execution_count": 2,
   "metadata": {},
   "outputs": [],
   "source": [
    "import numpy as np\n",
    "import pandas as pd\n",
    "import matplotlib\n",
    "import matplotlib.pyplot as plt\n",
    "import scipy\n",
    "from scipy.stats import pearsonr,spearmanr,kendalltau\n",
    "import json\n",
    "import time"
   ]
  },
  {
   "cell_type": "code",
   "execution_count": 3,
   "metadata": {},
   "outputs": [],
   "source": [
    "import openprotein\n",
    "import openprotein.fasta as fasta"
   ]
  },
  {
   "attachments": {},
   "cell_type": "markdown",
   "metadata": {},
   "source": [
    "## Connect to the OpenProtein.AI API"
   ]
  },
  {
   "cell_type": "code",
   "execution_count": 5,
   "metadata": {},
   "outputs": [
    {
     "name": "stdout",
     "output_type": "stream",
     "text": [
      "Backend.PROD\n"
     ]
    }
   ],
   "source": [
    "with open('secrets.config', 'r') as f:\n",
    "    config = json.load(f)\n",
    "\n",
    "session = openprotein.connect(config['username'], config['password'])\n",
    "print(session.backend)"
   ]
  },
  {
   "attachments": {},
   "cell_type": "markdown",
   "metadata": {},
   "source": [
    "## Load the chorismate mutase dataset"
   ]
  },
  {
   "cell_type": "code",
   "execution_count": 6,
   "metadata": {},
   "outputs": [
    {
     "data": {
      "text/html": [
       "<div>\n",
       "<style scoped>\n",
       "    .dataframe tbody tr th:only-of-type {\n",
       "        vertical-align: middle;\n",
       "    }\n",
       "\n",
       "    .dataframe tbody tr th {\n",
       "        vertical-align: top;\n",
       "    }\n",
       "\n",
       "    .dataframe thead th {\n",
       "        text-align: right;\n",
       "    }\n",
       "</style>\n",
       "<table border=\"1\" class=\"dataframe\">\n",
       "  <thead>\n",
       "    <tr style=\"text-align: right;\">\n",
       "      <th></th>\n",
       "      <th>No.</th>\n",
       "      <th>Species</th>\n",
       "      <th>Sequence</th>\n",
       "      <th>ID to EcCM</th>\n",
       "      <th>top ID</th>\n",
       "      <th>EDCA (rel. to EcCM)</th>\n",
       "      <th>norm r.e.</th>\n",
       "    </tr>\n",
       "  </thead>\n",
       "  <tbody>\n",
       "    <tr>\n",
       "      <th>0</th>\n",
       "      <td>1</td>\n",
       "      <td>Escherichia coli                              ...</td>\n",
       "      <td>-TSENPLLALREKISALDEKLLALLAERRELAVEVGKAKLLSHRPV...</td>\n",
       "      <td>1.00</td>\n",
       "      <td>0.93</td>\n",
       "      <td>0.00</td>\n",
       "      <td>1.00</td>\n",
       "    </tr>\n",
       "    <tr>\n",
       "      <th>1</th>\n",
       "      <td>2</td>\n",
       "      <td>Thermus thermophilus HB8                      ...</td>\n",
       "      <td>---DERIQALRKEVDRVNREILRLLSERGRLVQEIGRLQTELGLPH...</td>\n",
       "      <td>0.26</td>\n",
       "      <td>0.89</td>\n",
       "      <td>28.62</td>\n",
       "      <td>-0.06</td>\n",
       "    </tr>\n",
       "    <tr>\n",
       "      <th>2</th>\n",
       "      <td>3</td>\n",
       "      <td>Pseudomonas aeruginosa UCBPP-PA14             ...</td>\n",
       "      <td>PEDCTGLADIREAIDQIDLDIVQALGRRMDYVKAASRFKANEA-AI...</td>\n",
       "      <td>0.20</td>\n",
       "      <td>0.71</td>\n",
       "      <td>-4.19</td>\n",
       "      <td>0.04</td>\n",
       "    </tr>\n",
       "    <tr>\n",
       "      <th>3</th>\n",
       "      <td>4</td>\n",
       "      <td>Enterobacter cloacae subsp. dissolvens SDM    ...</td>\n",
       "      <td>-TPENPLLDLRVKISALDEKLLALLAERRALAIEVGKAKLDSHRPV...</td>\n",
       "      <td>0.93</td>\n",
       "      <td>0.93</td>\n",
       "      <td>8.57</td>\n",
       "      <td>0.65</td>\n",
       "    </tr>\n",
       "    <tr>\n",
       "      <th>4</th>\n",
       "      <td>5</td>\n",
       "      <td>Thermus aquaticus Y51MC23                     ...</td>\n",
       "      <td>---DERIQALRREVDRVNRELLRLLSERGRLVQEIGRIQTELGLPH...</td>\n",
       "      <td>0.28</td>\n",
       "      <td>0.89</td>\n",
       "      <td>18.42</td>\n",
       "      <td>-0.08</td>\n",
       "    </tr>\n",
       "  </tbody>\n",
       "</table>\n",
       "</div>"
      ],
      "text/plain": [
       "   No.                                            Species  \\\n",
       "0    1  Escherichia coli                              ...   \n",
       "1    2  Thermus thermophilus HB8                      ...   \n",
       "2    3  Pseudomonas aeruginosa UCBPP-PA14             ...   \n",
       "3    4  Enterobacter cloacae subsp. dissolvens SDM    ...   \n",
       "4    5  Thermus aquaticus Y51MC23                     ...   \n",
       "\n",
       "                                            Sequence  ID to EcCM  top ID  \\\n",
       "0  -TSENPLLALREKISALDEKLLALLAERRELAVEVGKAKLLSHRPV...        1.00    0.93   \n",
       "1  ---DERIQALRKEVDRVNREILRLLSERGRLVQEIGRLQTELGLPH...        0.26    0.89   \n",
       "2  PEDCTGLADIREAIDQIDLDIVQALGRRMDYVKAASRFKANEA-AI...        0.20    0.71   \n",
       "3  -TPENPLLDLRVKISALDEKLLALLAERRALAIEVGKAKLDSHRPV...        0.93    0.93   \n",
       "4  ---DERIQALRREVDRVNRELLRLLSERGRLVQEIGRIQTELGLPH...        0.28    0.89   \n",
       "\n",
       "   EDCA (rel. to EcCM)  norm r.e.  \n",
       "0                 0.00       1.00  \n",
       "1                28.62      -0.06  \n",
       "2                -4.19       0.04  \n",
       "3                 8.57       0.65  \n",
       "4                18.42      -0.08  "
      ]
     },
     "execution_count": 6,
     "metadata": {},
     "output_type": "execute_result"
    }
   ],
   "source": [
    "table_natural = pd.read_csv('data/chorismate_mutase_natural_sequences.csv')\n",
    "table_variant = pd.read_csv('data/chorismate_mutase_variant_sequences.csv')\n",
    "\n",
    "table_natural.head()"
   ]
  },
  {
   "cell_type": "code",
   "execution_count": 7,
   "metadata": {},
   "outputs": [
    {
     "data": {
      "text/html": [
       "<div>\n",
       "<style scoped>\n",
       "    .dataframe tbody tr th:only-of-type {\n",
       "        vertical-align: middle;\n",
       "    }\n",
       "\n",
       "    .dataframe tbody tr th {\n",
       "        vertical-align: top;\n",
       "    }\n",
       "\n",
       "    .dataframe thead th {\n",
       "        text-align: right;\n",
       "    }\n",
       "</style>\n",
       "<table border=\"1\" class=\"dataframe\">\n",
       "  <thead>\n",
       "    <tr style=\"text-align: right;\">\n",
       "      <th></th>\n",
       "      <th>No.</th>\n",
       "      <th>T</th>\n",
       "      <th>reg. value</th>\n",
       "      <th>Sequence</th>\n",
       "      <th>ID to EcCM</th>\n",
       "      <th>top ID</th>\n",
       "      <th>EDCA (rel. to EcCM)</th>\n",
       "      <th>norm r.e.</th>\n",
       "    </tr>\n",
       "  </thead>\n",
       "  <tbody>\n",
       "    <tr>\n",
       "      <th>0</th>\n",
       "      <td>1131</td>\n",
       "      <td>0.33</td>\n",
       "      <td>0.01</td>\n",
       "      <td>--TDNPLLALRERISALDLKLLALLAERRALALEVARTKLASHRPI...</td>\n",
       "      <td>0.78</td>\n",
       "      <td>0.82</td>\n",
       "      <td>-16.37</td>\n",
       "      <td>0.85</td>\n",
       "    </tr>\n",
       "    <tr>\n",
       "      <th>1</th>\n",
       "      <td>1132</td>\n",
       "      <td>0.33</td>\n",
       "      <td>0.01</td>\n",
       "      <td>LLVGLFFSTTALAAAIPSEDVASLINQRLSYMKDVAGYKANNHLAI...</td>\n",
       "      <td>0.14</td>\n",
       "      <td>0.84</td>\n",
       "      <td>-0.39</td>\n",
       "      <td>0.04</td>\n",
       "    </tr>\n",
       "    <tr>\n",
       "      <th>2</th>\n",
       "      <td>1133</td>\n",
       "      <td>0.33</td>\n",
       "      <td>0.01</td>\n",
       "      <td>PEDCEGLADIRRGIDALDREIVQILGRRLGYVKAASQFKPSEQ--I...</td>\n",
       "      <td>0.20</td>\n",
       "      <td>0.73</td>\n",
       "      <td>-3.03</td>\n",
       "      <td>-0.02</td>\n",
       "    </tr>\n",
       "    <tr>\n",
       "      <th>3</th>\n",
       "      <td>1134</td>\n",
       "      <td>0.33</td>\n",
       "      <td>0.01</td>\n",
       "      <td>PAAREELLELRGSIDNIDAALVHLLAERFKCTQRVGRLKARHGLPP...</td>\n",
       "      <td>0.30</td>\n",
       "      <td>0.81</td>\n",
       "      <td>-9.73</td>\n",
       "      <td>-0.11</td>\n",
       "    </tr>\n",
       "    <tr>\n",
       "      <th>4</th>\n",
       "      <td>1135</td>\n",
       "      <td>0.33</td>\n",
       "      <td>0.01</td>\n",
       "      <td>----KKLEEYRKEIDEIDKEIIKLFEKRMDVVLKVIEYKKKNNMPI...</td>\n",
       "      <td>0.18</td>\n",
       "      <td>0.65</td>\n",
       "      <td>0.70</td>\n",
       "      <td>0.88</td>\n",
       "    </tr>\n",
       "  </tbody>\n",
       "</table>\n",
       "</div>"
      ],
      "text/plain": [
       "    No.     T  reg. value                                           Sequence  \\\n",
       "0  1131  0.33        0.01  --TDNPLLALRERISALDLKLLALLAERRALALEVARTKLASHRPI...   \n",
       "1  1132  0.33        0.01  LLVGLFFSTTALAAAIPSEDVASLINQRLSYMKDVAGYKANNHLAI...   \n",
       "2  1133  0.33        0.01  PEDCEGLADIRRGIDALDREIVQILGRRLGYVKAASQFKPSEQ--I...   \n",
       "3  1134  0.33        0.01  PAAREELLELRGSIDNIDAALVHLLAERFKCTQRVGRLKARHGLPP...   \n",
       "4  1135  0.33        0.01  ----KKLEEYRKEIDEIDKEIIKLFEKRMDVVLKVIEYKKKNNMPI...   \n",
       "\n",
       "   ID to EcCM  top ID  EDCA (rel. to EcCM)  norm r.e.  \n",
       "0        0.78    0.82               -16.37       0.85  \n",
       "1        0.14    0.84                -0.39       0.04  \n",
       "2        0.20    0.73                -3.03      -0.02  \n",
       "3        0.30    0.81                -9.73      -0.11  \n",
       "4        0.18    0.65                 0.70       0.88  "
      ]
     },
     "execution_count": 7,
     "metadata": {},
     "output_type": "execute_result"
    }
   ],
   "source": [
    "table_variant.head()"
   ]
  },
  {
   "cell_type": "code",
   "execution_count": 26,
   "metadata": {},
   "outputs": [
    {
     "name": "stdout",
     "output_type": "stream",
     "text": [
      "Natural SpearmanrResult(correlation=0.035330109128214444, pvalue=0.23534819924369454)\n",
      "Variants SpearmanrResult(correlation=-0.409259087679051, pvalue=2.2790178256876762e-66)\n"
     ]
    },
    {
     "data": {
      "image/png": "[encoded data removed]",
      "text/plain": [
       "<Figure size 864x288 with 2 Axes>"
      ]
     },
     "metadata": {
      "needs_background": "light"
     },
     "output_type": "display_data"
    }
   ],
   "source": [
    "_, axs = plt.subplots(1, 2, figsize=(12, 4), sharex=True, sharey=True)\n",
    "axs[0].scatter(table_natural['EDCA (rel. to EcCM)'].values, table_natural['norm r.e.'].values)\n",
    "axs[0].set_title('Natural')\n",
    "axs[1].scatter(table_variant['EDCA (rel. to EcCM)'].values, table_variant['norm r.e.'].values)\n",
    "axs[1].set_title('Variants')\n",
    "\n",
    "print('Natural', spearmanr(table_natural['EDCA (rel. to EcCM)'].values, table_natural['norm r.e.'].values))\n",
    "print('Variants', spearmanr(table_variant['EDCA (rel. to EcCM)'].values, table_variant['norm r.e.'].values))"
   ]
  },
  {
   "cell_type": "code",
   "execution_count": 27,
   "metadata": {},
   "outputs": [
    {
     "name": "stdout",
     "output_type": "stream",
     "text": [
      "All SpearmanrResult(correlation=-0.2746346565247013, pvalue=9.571166707058114e-49)\n"
     ]
    },
    {
     "data": {
      "image/png": "[encoded data removed]",
      "text/plain": [
       "<Figure size 432x288 with 1 Axes>"
      ]
     },
     "metadata": {
      "needs_background": "light"
     },
     "output_type": "display_data"
    }
   ],
   "source": [
    "x = np.concatenate([\n",
    "    table_natural['EDCA (rel. to EcCM)'].values,\n",
    "    table_variant['EDCA (rel. to EcCM)'].values,\n",
    "])\n",
    "y = np.concatenate([\n",
    "    table_natural['norm r.e.'].values,\n",
    "    table_variant['norm r.e.'].values,\n",
    "])\n",
    "plt.scatter(x, y)\n",
    "plt.title('All Sequences')\n",
    "\n",
    "print('All', spearmanr(x, y))"
   ]
  },
  {
   "attachments": {},
   "cell_type": "markdown",
   "metadata": {},
   "source": [
    "### Use EcCM (E. coli chorismate mutase) as the seed sequence"
   ]
  },
  {
   "cell_type": "code",
   "execution_count": 8,
   "metadata": {},
   "outputs": [
    {
     "data": {
      "text/plain": [
       "'TSENPLLALREKISALDEKLLALLAERRELAVEVGKAKLLSHRPVRDIDRERDLLERLITLGKAHHLDAHYITRLFQLIIEDSVLTQQALLQQH'"
      ]
     },
     "execution_count": 8,
     "metadata": {},
     "output_type": "execute_result"
    }
   ],
   "source": [
    "seed = table_natural.iloc[0]['Sequence']\n",
    "seed = seed.replace('-', '')\n",
    "seed"
   ]
  },
  {
   "attachments": {},
   "cell_type": "markdown",
   "metadata": {},
   "source": [
    "## Rank the natural and variant sequences"
   ]
  },
  {
   "cell_type": "code",
   "execution_count": 9,
   "metadata": {},
   "outputs": [
    {
     "name": "stdout",
     "output_type": "stream",
     "text": [
      "status=<JobStatus.SUCCESS: 'SUCCESS'> job_id='62c52db6-3ae2-4c90-9c14-533162a29dd1' job_type='workflow/align/align' created_date=datetime.datetime(2023, 5, 2, 10, 53, 8, 791528) start_date=None end_date=datetime.datetime(2023, 5, 2, 10, 53, 8, 812409) prerequisite_job_id=None progress_message=None progress_count=None msa_id='62c52db6-3ae2-4c90-9c14-533162a29dd1'\n",
      "status=<JobStatus.SUCCESS: 'SUCCESS'> job_id='99bdc24a-95e4-4bb9-995e-9ef10a6ca5ba' job_type='workflow/align/prompt' created_date=datetime.datetime(2023, 5, 2, 10, 53, 9, 162413) start_date=None end_date=None prerequisite_job_id=None progress_message=None progress_count=None prompt_id='99bdc24a-95e4-4bb9-995e-9ef10a6ca5ba'\n"
     ]
    }
   ],
   "source": [
    "msa = session.prots2prot.create_msa(seed.encode())\n",
    "print(msa)\n",
    "\n",
    "prompt = session.prots2prot.sample_prompt(msa, num_ensemble_prompts=3, random_seed=42)\n",
    "print(prompt)"
   ]
  },
  {
   "cell_type": "code",
   "execution_count": 10,
   "metadata": {},
   "outputs": [
    {
     "name": "stdout",
     "output_type": "stream",
     "text": [
      "(1130,)\n",
      "status=<JobStatus.PENDING: 'PENDING'> job_id='064cdcc3-a76c-4585-9813-264b4e31b44e' job_type='/workflow/prots2prot' created_date=datetime.datetime(2023, 5, 2, 10, 54, 17, 851821) start_date=None end_date=None prerequisite_job_id=None progress_message=None progress_count=None parent_id=None s3prefix=None page_size=None page_offset=None num_rows=None result=None n_completed=None\n"
     ]
    }
   ],
   "source": [
    "sequences = table_natural['Sequence'].apply(lambda s: s.replace('-', '').encode()).values\n",
    "print(sequences.shape)\n",
    "\n",
    "future_natural = session.prots2prot.score(prompt, sequences)\n",
    "print(future_natural.job)"
   ]
  },
  {
   "cell_type": "code",
   "execution_count": 29,
   "metadata": {},
   "outputs": [
    {
     "name": "stdout",
     "output_type": "stream",
     "text": [
      "(1618,)\n",
      "status=<JobStatus.PENDING: 'PENDING'> job_id='956ee5a7-30c1-4272-8396-78f2f05f923a' job_type='/workflow/prots2prot' created_date=datetime.datetime(2023, 5, 2, 11, 35, 24, 779521) start_date=None end_date=None prerequisite_job_id=None progress_message=None progress_count=None parent_id=None s3prefix=None page_size=None page_offset=None num_rows=None result=None n_completed=None\n"
     ]
    }
   ],
   "source": [
    "sequences = table_variant['Sequence'].apply(lambda s: s.replace('-', '').encode()).values\n",
    "print(sequences.shape)\n",
    "\n",
    "future_variant = session.prots2prot.score(prompt, sequences)\n",
    "print(future_variant.job)"
   ]
  },
  {
   "cell_type": "code",
   "execution_count": 30,
   "metadata": {},
   "outputs": [
    {
     "name": "stderr",
     "output_type": "stream",
     "text": [
      "1it [00:00,  2.54it/s, status=SUCCESS]\n",
      "112it [05:18,  2.84s/it, status=SUCCESS]\n"
     ]
    },
    {
     "name": "stdout",
     "output_type": "stream",
     "text": [
      "1130 1618\n"
     ]
    }
   ],
   "source": [
    "results_natural = future_natural.wait(verbose=True)\n",
    "results_variant = future_variant.wait(verbose=True)\n",
    "\n",
    "print(len(results_natural), len(results_variant))"
   ]
  },
  {
   "cell_type": "code",
   "execution_count": 31,
   "metadata": {},
   "outputs": [
    {
     "data": {
      "text/plain": [
       "((1130, 3), (1618, 3))"
      ]
     },
     "execution_count": 31,
     "metadata": {},
     "output_type": "execute_result"
    }
   ],
   "source": [
    "scores_natural = np.array([r.score for r in results_natural])\n",
    "scores_variant = np.array([r.score for r in results_variant])\n",
    "scores_natural.shape, scores_variant.shape"
   ]
  },
  {
   "cell_type": "code",
   "execution_count": 32,
   "metadata": {},
   "outputs": [
    {
     "data": {
      "text/plain": [
       "((1130,), (1618, 3))"
      ]
     },
     "execution_count": 32,
     "metadata": {},
     "output_type": "execute_result"
    }
   ],
   "source": [
    "score_natural = scores_natural.mean(axis=1)\n",
    "score_variant = scores_variant.mean(axis=1)\n",
    "score_natural.shape, scores_variant.shape"
   ]
  },
  {
   "cell_type": "code",
   "execution_count": 33,
   "metadata": {},
   "outputs": [
    {
     "name": "stdout",
     "output_type": "stream",
     "text": [
      "Natural SpearmanrResult(correlation=0.3482140322743968, pvalue=1.4801709792817108e-33)\n",
      "Variant SpearmanrResult(correlation=0.4967878271499042, pvalue=1.3965664362656567e-101)\n"
     ]
    },
    {
     "data": {
      "image/png": "[encoded data removed]",
      "text/plain": [
       "<Figure size 864x288 with 2 Axes>"
      ]
     },
     "metadata": {
      "needs_background": "light"
     },
     "output_type": "display_data"
    }
   ],
   "source": [
    "_, axs = plt.subplots(1, 2, figsize=(12, 4))\n",
    "\n",
    "x = score_natural\n",
    "y = table_natural['norm r.e.'].values\n",
    "axs[0].scatter(x, y)\n",
    "axs[0].set_title('Natural')\n",
    "print('Natural', spearmanr(x, y))\n",
    "\n",
    "x = score_variant\n",
    "y = table_variant['norm r.e.'].values\n",
    "axs[1].scatter(x, y)\n",
    "axs[1].set_title('Variant')\n",
    "print('Variant', spearmanr(x, y))"
   ]
  },
  {
   "cell_type": "code",
   "execution_count": 34,
   "metadata": {},
   "outputs": [
    {
     "name": "stdout",
     "output_type": "stream",
     "text": [
      "All SpearmanrResult(correlation=0.44488113678989877, pvalue=1.059566612055129e-133)\n"
     ]
    },
    {
     "data": {
      "image/png": "[encoded data removed]",
      "text/plain": [
       "<Figure size 432x288 with 1 Axes>"
      ]
     },
     "metadata": {
      "needs_background": "light"
     },
     "output_type": "display_data"
    }
   ],
   "source": [
    "x = np.concatenate([\n",
    "    score_natural,\n",
    "    score_variant,\n",
    "])\n",
    "y = np.concatenate([\n",
    "    table_natural['norm r.e.'].values,\n",
    "    table_variant['norm r.e.'].values,\n",
    "])\n",
    "plt.scatter(x, y)\n",
    "plt.title('All Sequences')\n",
    "\n",
    "print('All', spearmanr(x, y))"
   ]
  },
  {
   "attachments": {},
   "cell_type": "markdown",
   "metadata": {},
   "source": [
    "## What if we use the functional natural sequences as the prompt?"
   ]
  },
  {
   "cell_type": "code",
   "execution_count": 35,
   "metadata": {},
   "outputs": [
    {
     "name": "stdout",
     "output_type": "stream",
     "text": [
      "(407, 7)\n"
     ]
    },
    {
     "data": {
      "text/html": [
       "<div>\n",
       "<style scoped>\n",
       "    .dataframe tbody tr th:only-of-type {\n",
       "        vertical-align: middle;\n",
       "    }\n",
       "\n",
       "    .dataframe tbody tr th {\n",
       "        vertical-align: top;\n",
       "    }\n",
       "\n",
       "    .dataframe thead th {\n",
       "        text-align: right;\n",
       "    }\n",
       "</style>\n",
       "<table border=\"1\" class=\"dataframe\">\n",
       "  <thead>\n",
       "    <tr style=\"text-align: right;\">\n",
       "      <th></th>\n",
       "      <th>No.</th>\n",
       "      <th>Species</th>\n",
       "      <th>Sequence</th>\n",
       "      <th>ID to EcCM</th>\n",
       "      <th>top ID</th>\n",
       "      <th>EDCA (rel. to EcCM)</th>\n",
       "      <th>norm r.e.</th>\n",
       "    </tr>\n",
       "  </thead>\n",
       "  <tbody>\n",
       "    <tr>\n",
       "      <th>0</th>\n",
       "      <td>1</td>\n",
       "      <td>Escherichia coli                              ...</td>\n",
       "      <td>-TSENPLLALREKISALDEKLLALLAERRELAVEVGKAKLLSHRPV...</td>\n",
       "      <td>1.00</td>\n",
       "      <td>0.93</td>\n",
       "      <td>0.00</td>\n",
       "      <td>1.00</td>\n",
       "    </tr>\n",
       "    <tr>\n",
       "      <th>3</th>\n",
       "      <td>4</td>\n",
       "      <td>Enterobacter cloacae subsp. dissolvens SDM    ...</td>\n",
       "      <td>-TPENPLLDLRVKISALDEKLLALLAERRALAIEVGKAKLDSHRPV...</td>\n",
       "      <td>0.93</td>\n",
       "      <td>0.93</td>\n",
       "      <td>8.57</td>\n",
       "      <td>0.65</td>\n",
       "    </tr>\n",
       "    <tr>\n",
       "      <th>5</th>\n",
       "      <td>6</td>\n",
       "      <td>Salmonella enterica subsp. enterica serovar Sa...</td>\n",
       "      <td>-TSENPLLALRDKISALDEELLALLAKRRALAIEVGQAKLLSHRPV...</td>\n",
       "      <td>0.90</td>\n",
       "      <td>0.89</td>\n",
       "      <td>9.83</td>\n",
       "      <td>0.70</td>\n",
       "    </tr>\n",
       "    <tr>\n",
       "      <th>6</th>\n",
       "      <td>7</td>\n",
       "      <td>Cronobacter sakazakii ATCC BAA-894            ...</td>\n",
       "      <td>-TAENPLLALRDKISALDEQLLALLAQRRALAVEVGKAKLATHRPV...</td>\n",
       "      <td>0.91</td>\n",
       "      <td>0.90</td>\n",
       "      <td>6.42</td>\n",
       "      <td>0.95</td>\n",
       "    </tr>\n",
       "    <tr>\n",
       "      <th>8</th>\n",
       "      <td>9</td>\n",
       "      <td>Erwinia billingiae Eb661                      ...</td>\n",
       "      <td>-TPENPLLGLRDKISALDEQLLNMLAQRRALAIEVATAKMATHRPI...</td>\n",
       "      <td>0.80</td>\n",
       "      <td>0.85</td>\n",
       "      <td>26.25</td>\n",
       "      <td>0.84</td>\n",
       "    </tr>\n",
       "  </tbody>\n",
       "</table>\n",
       "</div>"
      ],
      "text/plain": [
       "   No.                                            Species  \\\n",
       "0    1  Escherichia coli                              ...   \n",
       "3    4  Enterobacter cloacae subsp. dissolvens SDM    ...   \n",
       "5    6  Salmonella enterica subsp. enterica serovar Sa...   \n",
       "6    7  Cronobacter sakazakii ATCC BAA-894            ...   \n",
       "8    9  Erwinia billingiae Eb661                      ...   \n",
       "\n",
       "                                            Sequence  ID to EcCM  top ID  \\\n",
       "0  -TSENPLLALREKISALDEKLLALLAERRELAVEVGKAKLLSHRPV...        1.00    0.93   \n",
       "3  -TPENPLLDLRVKISALDEKLLALLAERRALAIEVGKAKLDSHRPV...        0.93    0.93   \n",
       "5  -TSENPLLALRDKISALDEELLALLAKRRALAIEVGQAKLLSHRPV...        0.90    0.89   \n",
       "6  -TAENPLLALRDKISALDEQLLALLAQRRALAVEVGKAKLATHRPV...        0.91    0.90   \n",
       "8  -TPENPLLGLRDKISALDEQLLNMLAQRRALAIEVATAKMATHRPI...        0.80    0.85   \n",
       "\n",
       "   EDCA (rel. to EcCM)  norm r.e.  \n",
       "0                 0.00       1.00  \n",
       "3                 8.57       0.65  \n",
       "5                 9.83       0.70  \n",
       "6                 6.42       0.95  \n",
       "8                26.25       0.84  "
      ]
     },
     "execution_count": 35,
     "metadata": {},
     "output_type": "execute_result"
    }
   ],
   "source": [
    "table_nat_functional = table_natural.loc[table_natural['norm r.e.'] >= 0.45]\n",
    "print(table_nat_functional.shape)\n",
    "table_nat_functional.head()"
   ]
  },
  {
   "cell_type": "code",
   "execution_count": 36,
   "metadata": {},
   "outputs": [
    {
     "name": "stdout",
     "output_type": "stream",
     "text": [
      "status=<JobStatus.SUCCESS: 'SUCCESS'> job_id='b35fa25d-64e9-46e5-9b02-5cce2c1a6751' job_type='workflow/align/align' created_date=datetime.datetime(2023, 5, 2, 11, 48, 3, 691239) start_date=None end_date=datetime.datetime(2023, 5, 2, 11, 48, 3, 704917) prerequisite_job_id=None progress_message=None progress_count=None msa_id='b35fa25d-64e9-46e5-9b02-5cce2c1a6751'\n",
      "status=<JobStatus.SUCCESS: 'SUCCESS'> job_id='44218875-e55a-4285-99cf-1a1c95584959' job_type='workflow/align/prompt' created_date=datetime.datetime(2023, 5, 2, 11, 48, 4, 139727) start_date=None end_date=None prerequisite_job_id=None progress_message=None progress_count=None prompt_id='44218875-e55a-4285-99cf-1a1c95584959'\n"
     ]
    }
   ],
   "source": [
    "from io import BytesIO\n",
    "\n",
    "msa_const = session.prots2prot.upload_msa(BytesIO(b'\\n'.join(table_nat_functional['Sequence'].apply(lambda s: s.encode()))))\n",
    "print(msa_const)\n",
    "\n",
    "prompt_const = session.prots2prot.sample_prompt(msa_const, num_ensemble_prompts=3, random_seed=42)\n",
    "print(prompt_const)"
   ]
  },
  {
   "cell_type": "code",
   "execution_count": 37,
   "metadata": {},
   "outputs": [
    {
     "name": "stdout",
     "output_type": "stream",
     "text": [
      "(1618,)\n",
      "status=<JobStatus.PENDING: 'PENDING'> job_id='29bc8f97-a508-49c3-8b97-a3b3150a4270' job_type='/workflow/prots2prot' created_date=datetime.datetime(2023, 5, 2, 11, 49, 5, 893006) start_date=None end_date=None prerequisite_job_id=None progress_message=None progress_count=None parent_id=None s3prefix=None page_size=None page_offset=None num_rows=None result=None n_completed=None\n"
     ]
    }
   ],
   "source": [
    "sequences = table_variant['Sequence'].apply(lambda s: s.replace('-', '').encode()).values\n",
    "print(sequences.shape)\n",
    "\n",
    "future_variant_const = session.prots2prot.score(prompt_const, sequences)\n",
    "print(future_variant_const.job)"
   ]
  },
  {
   "cell_type": "code",
   "execution_count": 38,
   "metadata": {},
   "outputs": [
    {
     "name": "stderr",
     "output_type": "stream",
     "text": [
      "118it [05:36,  2.85s/it, status=SUCCESS]\n"
     ]
    },
    {
     "name": "stdout",
     "output_type": "stream",
     "text": [
      "1618\n"
     ]
    }
   ],
   "source": [
    "results_variant_const = future_variant_const.wait(verbose=True)\n",
    "print(len(results_variant_const))"
   ]
  },
  {
   "cell_type": "code",
   "execution_count": 39,
   "metadata": {},
   "outputs": [
    {
     "data": {
      "text/plain": [
       "((1618, 3), (1618,))"
      ]
     },
     "execution_count": 39,
     "metadata": {},
     "output_type": "execute_result"
    }
   ],
   "source": [
    "scores_variant_const = np.array([r.score for r in results_variant_const])\n",
    "score_variant_const = scores_variant_const.mean(axis=1)\n",
    "scores_variant_const.shape, score_variant_const.shape"
   ]
  },
  {
   "cell_type": "code",
   "execution_count": 40,
   "metadata": {},
   "outputs": [
    {
     "name": "stdout",
     "output_type": "stream",
     "text": [
      "Variant SpearmanrResult(correlation=0.5441387133550285, pvalue=2.2734091856501145e-125)\n"
     ]
    },
    {
     "data": {
      "image/png": "[encoded data removed]",
      "text/plain": [
       "<Figure size 432x288 with 1 Axes>"
      ]
     },
     "metadata": {
      "needs_background": "light"
     },
     "output_type": "display_data"
    }
   ],
   "source": [
    "_, ax = plt.subplots(figsize=(6, 4))\n",
    "\n",
    "x = score_variant_const\n",
    "y = table_variant['norm r.e.'].values\n",
    "ax.scatter(x, y)\n",
    "ax.set_title('Variant')\n",
    "print('Variant', spearmanr(x, y))"
   ]
  },
  {
   "cell_type": "code",
   "execution_count": 46,
   "metadata": {},
   "outputs": [
    {
     "data": {
      "image/png": "[encoded data removed]",
      "text/plain": [
       "<Figure size 432x288 with 1 Axes>"
      ]
     },
     "metadata": {
      "needs_background": "light"
     },
     "output_type": "display_data"
    }
   ],
   "source": [
    "_ = plt.hist(score_variant_const, bins=30)"
   ]
  },
  {
   "attachments": {},
   "cell_type": "markdown",
   "metadata": {},
   "source": [
    "## Use this prompt to generate some new sequences"
   ]
  },
  {
   "cell_type": "code",
   "execution_count": 50,
   "metadata": {},
   "outputs": [
    {
     "name": "stdout",
     "output_type": "stream",
     "text": [
      "status=<JobStatus.PENDING: 'PENDING'> job_id='51a2d578-fff2-4d68-b9a8-30557285dd60' job_type='/workflow/prots2prot/generate' created_date=datetime.datetime(2023, 5, 2, 13, 26, 16, 71719) start_date=None end_date=None prerequisite_job_id=None progress_message=None progress_count=None\n"
     ]
    }
   ],
   "source": [
    "future_gen = session.prots2prot.generate(prompt_const, num_samples=1000, topp=0.9)\n",
    "print(future_gen.job)"
   ]
  },
  {
   "cell_type": "code",
   "execution_count": 51,
   "metadata": {},
   "outputs": [
    {
     "name": "stderr",
     "output_type": "stream",
     "text": [
      "873it [41:54,  2.88s/it, status=SUCCESS]\n"
     ]
    },
    {
     "name": "stdout",
     "output_type": "stream",
     "text": [
      "1000\n"
     ]
    }
   ],
   "source": [
    "results_gen = future_gen.wait(verbose=True)\n",
    "print(len(results_gen))"
   ]
  },
  {
   "cell_type": "code",
   "execution_count": 52,
   "metadata": {},
   "outputs": [
    {
     "name": "stdout",
     "output_type": "stream",
     "text": [
      "generated-sequence-267\t-13.368366877237955\tSSEKKLEEIRKRISEIDEQLITLIAERTGFAPEIASLKNSLGASVTDSKREQDICEQTRILCEECIECSVALKIIKILMEYNKEVQAEFFRKV\n",
      "generated-sequence-555\t-13.830108960469564\tQPNERLNDLRRAVDHLDDQLLDILQERFAVIDQIGAHKREHHLSVFQSDRWKDVMESRTQKGVQNLSEKFMKELLYSIHEESVKRQEKQLRES\n",
      "generated-sequence-586\t-13.896090507507324\tQPNERLNDLRRAVDHLDDQLLDILQERFAVIDQIGAHKREHHLSVFQSDRWKDVMESRTQKGVQNLSEKFMKELLYSIHEESVKRQEKQLKES\n",
      "generated-sequence-260\t-17.756848017374676\tLNDLRRAVDHLDDQLLDILQERFAVIDQIGAHKREHHLSVFQSDRWKDVMESRTQKGVQNLSEKFMKELLYSIHEESVKRQERQLRES\n",
      "generated-sequence-379\t-17.915011088053387\tSEKRLEEIRKRISEIDEQLITLIAERTGFAPEIASLKNSLGASVTDSKREQDICEQTRILCEECIECSVALKIIKILMEYNKEVQAEFFRKL\n",
      "generated-sequence-222\t-18.62750752766927\tNKNLDLGELRSQLDEIDGQLVRLFEQRMKICADVAEYKIETGKAVYDGERERQKLEAVGAMAHGFNSQAVRELFSQLMTVSRKRQYQLLARH\n",
      "generated-sequence-513\t-27.403642654418945\tSSDAKLEEIRKRISEIDEQLIALIAERTGFAPEIASLKNSLGASVTDSKREQDICEQTRILCEECIECSVALKIIKILMEYNKEVQAEFFRKV\n",
      "generated-sequence-177\t-29.403276761372883\tTENPLLALRERISALDLKLLSLLAERRELAVEVGKTKLHSHRPIRDKERERDLLDALIAAAKYDLDGFYVTRLFQLIIEDSVLTQQSLLQNQ\n",
      "generated-sequence-164\t-30.386859893798828\tDLDRIRGQLDEIDGQLVRLFEQRMKLCADVAEYKIETGKAVYDGERERQKLEAVGAMAHGFNSQAVRELFSQLMTVSRKRQYQLLARH\n",
      "generated-sequence-877\t-31.9000727335612\tSDNPLLVLRERISALDLKLLTLLAERRELAVEVGKTKLHSHRPIRDKERERDLLDALIAAAKHDLDGFYVTRLFQLIIEDSVLTQQSLLQNQ\n"
     ]
    }
   ],
   "source": [
    "sample_names = np.array([s.name for s in results_gen])\n",
    "sample_sequences = np.array([s.sequence for s in results_gen])\n",
    "sample_scores = np.array([s.score for s in results_gen]).mean(axis=1)\n",
    "order = np.argsort(-sample_scores)\n",
    "for i in order[:10]:\n",
    "    print(sample_names[i], sample_scores[i], sample_sequences[i].decode(), sep='\\t')"
   ]
  },
  {
   "cell_type": "code",
   "execution_count": 54,
   "metadata": {},
   "outputs": [
    {
     "data": {
      "image/png": "[encoded data removed]",
      "text/plain": [
       "<Figure size 432x288 with 1 Axes>"
      ]
     },
     "metadata": {
      "needs_background": "light"
     },
     "output_type": "display_data"
    }
   ],
   "source": [
    "#mi = min(np.min(score_variant_const), np.min(sample_scores))\n",
    "mi = np.min(score_variant_const)\n",
    "ma = max(np.max(score_variant_const), np.max(sample_scores))\n",
    "bins = np.linspace(mi, ma, 31)\n",
    "\n",
    "_ = plt.hist(score_variant_const, bins=bins, alpha=0.5)\n",
    "_ = plt.hist(sample_scores, bins=bins, alpha=0.5)"
   ]
  },
  {
   "attachments": {},
   "cell_type": "markdown",
   "metadata": {},
   "source": [
    "#### Compare these with the seed sequence used to build the prompt"
   ]
  },
  {
   "cell_type": "code",
   "execution_count": 55,
   "metadata": {},
   "outputs": [],
   "source": [
    "from Bio import pairwise2\n",
    "import Bio.Align.substitution_matrices\n",
    "blosum62 = Bio.Align.substitution_matrices.load('blosum62')"
   ]
  },
  {
   "cell_type": "code",
   "execution_count": 56,
   "metadata": {},
   "outputs": [
    {
     "name": "stdout",
     "output_type": "stream",
     "text": [
      ">generated-sequence-267 -13.368366877237955\n",
      "TSENPLLALREKISALDEKLLALLAERRELAVEVGKAKLLSHRPVRDIDRERDLLERLITLGKAHHLDAHYITRLFQLIIEDSVLTQQALLQQH\n",
      ".||..|...|..||..||.|..|.|||...|.|....|......|.|..||.|..|....|.. ................|.....|.......\n",
      "SSEKKLEEIRKRISEIDEQLITLIAERTGFAPEIASLKNSLGASVTDSKREQDICEQTRILCE-ECIECSVALKIIKILMEYNKEVQAEFFRKV\n",
      "  Score=89\n",
      "\n",
      ">generated-sequence-555 -13.830108960469564\n",
      "TSENPLLALREKISALDEKLLALLAERRELAVEVGKAKLLSHRPVRDIDRERDLLERLITLGKAHHLDAHYITRLFQLIIEDSVLTQQALLQQH\n",
      ".....|..||.....||..||..|.||.......|..|...|..|...||..|..|.....| ...|.......|...|.|.||..|...|...\n",
      "QPNERLNDLRRAVDHLDDQLLDILQERFAVIDQIGAHKREHHLSVFQSDRWKDVMESRTQKG-VQNLSEKFMKELLYSIHEESVKRQEKQLRES\n",
      "  Score=84\n",
      "\n",
      ">generated-sequence-586 -13.896090507507324\n",
      "TSENPLLALREKISALDEKLLALLAERRELAVEVGKAKLLSHRPVRDIDRERDLLERLITLGKAHHLDAHYITRLFQLIIEDSVLTQQALLQQH\n",
      ".....|..||.....||..||..|.||.......|..|...|..|...||..|..|.....| ...|.......|...|.|.||..|...|...\n",
      "QPNERLNDLRRAVDHLDDQLLDILQERFAVIDQIGAHKREHHLSVFQSDRWKDVMESRTQKG-VQNLSEKFMKELLYSIHEESVKRQEKQLKES\n",
      "  Score=84\n",
      "\n",
      ">generated-sequence-260 -17.756848017374676\n",
      "TSENPLLALREKISALDEKLLALLAERRELAVEVGKAKLLSHRPVRDIDRERDLLERLITLGKAHHLDAHYITRLFQLIIEDSVLTQQALLQQH\n",
      "...     ||.....||..||..|.||.......|..|...|..|...||..|..|.....| ...|.......|...|.|.||..|...|...\n",
      "LND-----LRRAVDHLDDQLLDILQERFAVIDQIGAHKREHHLSVFQSDRWKDVMESRTQKG-VQNLSEKFMKELLYSIHEESVKRQERQLRES\n",
      "  Score=76\n",
      "\n",
      ">generated-sequence-379 -17.915011088053387\n",
      "TSENPLLALREKISALDEKLLALLAERRELAVEVGKAKLLSHRPVRDIDRERDLLERLITLGKAHHLDAHYITRLFQLIIEDSVLTQQALLQQH\n",
      " ||..|...|..||..||.|..|.|||...|.|....|......|.|..||.|..|....|.. ................|.....|.......\n",
      "-SEKRLEEIRKRISEIDEQLITLIAERTGFAPEIASLKNSLGASVTDSKREQDICEQTRILCE-ECIECSVALKIIKILMEYNKEVQAEFFRKL\n",
      "  Score=76\n",
      "\n",
      ">generated-sequence-222 -18.62750752766927\n",
      "TSENPLLALREKISALDEKLLALLAERRELAVEVGKAKLLSHRPVRDIDRERDLLERLITLGKAHHLDAHYITRLFQLIIEDSVLTQQALLQQH\n",
      ".....|..||......|..|..|...|......|...|......|.|..|||..||.....  ||.........||......|...|..||..|\n",
      "NKNLDLGELRSQLDEIDGQLVRLFEQRMKICADVAEYKIETGKAVYDGERERQKLEAVGAM--AHGFNSQAVRELFSQLMTVSRKRQYQLLARH\n",
      "  Score=88\n",
      "\n",
      ">generated-sequence-513 -27.403642654418945\n",
      "TSENPLLALREKISALDEKLLALLAERRELAVEVGKAKLLSHRPVRDIDRERDLLERLITLGKAHHLDAHYITRLFQLIIEDSVLTQQALLQQH\n",
      ".|...|...|..||..||.|.||.|||...|.|....|......|.|..||.|..|....|.. ................|.....|.......\n",
      "SSDAKLEEIRKRISEIDEQLIALIAERTGFAPEIASLKNSLGASVTDSKREQDICEQTRILCE-ECIECSVALKIIKILMEYNKEVQAEFFRKV\n",
      "  Score=88\n",
      "\n",
      ">generated-sequence-177 -29.403276761372883\n",
      "TSENPLLALREKISALDEKLLALLAERRELAVEVGKAKLLSHRPVRDIDRERDLLERLITLGKAHHLDAHYITRLFQLIIEDSVLTQQALLQQH\n",
      "| |||||||||.|||||.|||.||||||||||||||.||.||||.||..||||||..||...| ..||..|.||||||||||||||||.|||..\n",
      "T-ENPLLALRERISALDLKLLSLLAERRELAVEVGKTKLHSHRPIRDKERERDLLDALIAAAK-YDLDGFYVTRLFQLIIEDSVLTQQSLLQNQ\n",
      "  Score=320\n",
      "\n",
      ">generated-sequence-164 -30.386859893798828\n",
      "TSENPLLALREKISALDEKLLALLAERRELAVEVGKAKLLSHRPVRDIDRERDLLERLITLGKAHHLDAHYITRLFQLIIEDSVLTQQALLQQH\n",
      "....    .|......|..|..|...|..|...|...|......|.|..|||..||.....  ||.........||......|...|..||..|\n",
      "DLDR----IRGQLDEIDGQLVRLFEQRMKLCADVAEYKIETGKAVYDGERERQKLEAVGAM--AHGFNSQAVRELFSQLMTVSRKRQYQLLARH\n",
      "  Score=76\n",
      "\n",
      ">generated-sequence-877 -31.9000727335612\n",
      "TSENPLLALREKISALDEKLLALLAERRELAVEVGKAKLLSHRPVRDIDRERDLLERLITLGKAHHLDAHYITRLFQLIIEDSVLTQQALLQQH\n",
      " |.||||.|||.|||||.|||.||||||||||||||.||.||||.||..||||||..||...| |.||..|.||||||||||||||||.|||..\n",
      "-SDNPLLVLRERISALDLKLLTLLAERRELAVEVGKTKLHSHRPIRDKERERDLLDALIAAAK-HDLDGFYVTRLFQLIIEDSVLTQQSLLQNQ\n",
      "  Score=317\n",
      "\n"
     ]
    }
   ],
   "source": [
    "for i in order[:10]:\n",
    "    x = sample_sequences[i].decode()\n",
    "    print(f'>{sample_names[i]} {sample_scores[i]}')\n",
    "    for a in pairwise2.align.globalds(seed, x, blosum62, -11, -1):\n",
    "        print(pairwise2.format_alignment(*a))\n",
    "        break"
   ]
  },
  {
   "cell_type": "code",
   "execution_count": null,
   "metadata": {},
   "outputs": [],
   "source": []
  }
 ],
 "metadata": {
  "kernelspec": {
   "display_name": "Python 3.9.10 ('protembed')",
   "language": "python",
   "name": "python3"
  },
  "language_info": {
   "codemirror_mode": {
    "name": "ipython",
    "version": 3
   },
   "file_extension": ".py",
   "mimetype": "text/x-python",
   "name": "python",
   "nbconvert_exporter": "python",
   "pygments_lexer": "ipython3",
   "version": "3.9.10"
  },
  "orig_nbformat": 4,
  "vscode": {
   "interpreter": {
    "hash": "5ef17c20bdba4c25fcc3d0317ddeadcd3821b2fc02c7d89ae50608d5b3bc8a89"
   }
  }
 },
 "nbformat": 4,
 "nbformat_minor": 2
}
